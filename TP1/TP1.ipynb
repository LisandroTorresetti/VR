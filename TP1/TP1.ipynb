{
 "cells": [
  {
   "cell_type": "markdown",
   "metadata": {},
   "source": [
    "## Trabajo práctico 1  - Imágenes"
   ]
  },
  {
   "cell_type": "markdown",
   "metadata": {},
   "source": [
    "## Objetivo:\n",
    "\n",
    "El objetivo de esta semana es sobre la imagen Estrellas poder desarrollar un algoritmo para recorrerla y encontrar la estrella más brillante (por supuesto, indicando con una anotación sobre la imagen cuál es). Bonus: Sería genial si también pueden decir cuál es la estrella más grande!"
   ]
  },
  {
   "cell_type": "code",
   "execution_count": null,
   "metadata": {},
   "outputs": [],
   "source": [
    "import cv2 as cv\n",
    "import numpy as np\n",
    "import matplotlib.pyplot as plt"
   ]
  },
  {
   "cell_type": "code",
   "execution_count": null,
   "metadata": {},
   "outputs": [],
   "source": [
    "img = cv.imread('Estrellas.bmp',cv.IMREAD_GRAYSCALE)\n",
    "plt.figure(figsize=(18,9))\n",
    "plt.imshow(img, cmap='gray', vmin=0, vmax=255)\n",
    "plt.show()"
   ]
  },
  {
   "cell_type": "code",
   "execution_count": null,
   "metadata": {},
   "outputs": [],
   "source": [
    "maxValue = 0\n",
    "idxX = 0\n",
    "idxY = 0\n",
    "\n",
    "for rowNum, row in enumerate(img):\n",
    "    for i in range(len(row)):\n",
    "        if row[i] > maxValue:\n",
    "            maxValue = row[i]\n",
    "            idxX = i\n",
    "            idxY = rowNum"
   ]
  },
  {
   "cell_type": "code",
   "execution_count": null,
   "metadata": {},
   "outputs": [],
   "source": [
    "circleCenter = (idxX, idxY)\n",
    "circleColor = (255, 255, 255)\n",
    "radius = 20\n",
    "thickness = 2\n",
    "\n",
    "cv.circle(img, circleCenter, radius, circleColor, thickness)\n",
    "plt.figure(figsize=(18,9))\n",
    "plt.imshow(img, cmap='gray', vmin=0, vmax=255)\n",
    "plt.show()"
   ]
  },
  {
   "cell_type": "code",
   "execution_count": null,
   "metadata": {},
   "outputs": [],
   "source": [
    "img = cv.imread('Estrellas.bmp',cv.IMREAD_GRAYSCALE) #Loaded again because cv.circle is in-place\n",
    "secondImg = cv.threshold(img, 150, 255, cv.THRESH_BINARY)[1]\n",
    "secondImg = cv.erode(secondImg, None, iterations = 2)\n",
    "secondImg = cv.dilate(secondImg, None, iterations = 4)"
   ]
  },
  {
   "cell_type": "code",
   "execution_count": null,
   "metadata": {},
   "outputs": [],
   "source": [
    "plt.figure(figsize=(18,9))\n",
    "plt.imshow(secondImg, cmap='gray', vmin=0, vmax=255)\n",
    "plt.show()"
   ]
  },
  {
   "cell_type": "code",
   "execution_count": null,
   "metadata": {},
   "outputs": [],
   "source": [
    "def getCenterColumn(img):\n",
    "    cols = 0\n",
    "    maxCols = 0\n",
    "    initialCol = 0\n",
    "    center = 0\n",
    "    for row in img:\n",
    "        for i in range(len(row)):\n",
    "            if row[i] != 0:\n",
    "                if cols == 0:\n",
    "                    initialCol = i\n",
    "                cols += 1\n",
    "            elif cols != 0 and cols > maxCols:\n",
    "                maxCols = cols\n",
    "                center = (i + initialCol) // 2\n",
    "                cols = 0\n",
    "            else:\n",
    "                cols = 0\n",
    "    return center"
   ]
  },
  {
   "cell_type": "code",
   "execution_count": null,
   "metadata": {},
   "outputs": [],
   "source": [
    "x = getCenterColumn(secondImg)\n",
    "y = getCenterColumn(np.transpose(secondImg))"
   ]
  },
  {
   "cell_type": "code",
   "execution_count": null,
   "metadata": {},
   "outputs": [],
   "source": [
    "circleCenter = (x, y)\n",
    "cv.circle(img, circleCenter, radius, circleColor, thickness)\n",
    "\n",
    "plt.figure(figsize=(18,9))\n",
    "plt.imshow(img, cmap='gray', vmin=0, vmax=255)\n",
    "plt.show()"
   ]
  }
 ],
 "metadata": {
  "kernelspec": {
   "display_name": "Python 3",
   "language": "python",
   "name": "python3"
  },
  "language_info": {
   "codemirror_mode": {
    "name": "ipython",
    "version": 3
   },
   "file_extension": ".py",
   "mimetype": "text/x-python",
   "name": "python",
   "nbconvert_exporter": "python",
   "pygments_lexer": "ipython3",
   "version": "3.7.6"
  }
 },
 "nbformat": 4,
 "nbformat_minor": 4
}
