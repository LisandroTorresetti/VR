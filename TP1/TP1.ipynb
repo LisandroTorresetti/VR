{
 "cells": [
  {
   "cell_type": "code",
   "execution_count": null,
   "metadata": {},
   "outputs": [],
   "source": [
    "import cv2 as cv\n",
    "import numpy as np\n",
    "import matplotlib.pyplot as plt"
   ]
  },
  {
   "cell_type": "code",
   "execution_count": null,
   "metadata": {},
   "outputs": [],
   "source": [
    "img = cv.imread('Estrellas.bmp',cv.IMREAD_GRAYSCALE)\n",
    "plt.imshow(img, cmap='gray', vmin=0, vmax=255)\n",
    "plt.show()"
   ]
  },
  {
   "cell_type": "code",
   "execution_count": null,
   "metadata": {},
   "outputs": [],
   "source": [
    "maxValue = 0\n",
    "idxX = 0\n",
    "idxY = 0\n",
    "\n",
    "for rowNum, row in enumerate(img):\n",
    "    for i in range(len(row)):\n",
    "        if row[i] > maxValue:\n",
    "            maxValue = row[i]\n",
    "            idxX = i\n",
    "            idxY = rowNum\n",
    "            \n",
    "idxX,idxY, maxValue"
   ]
  },
  {
   "cell_type": "code",
   "execution_count": null,
   "metadata": {},
   "outputs": [],
   "source": [
    "center_coordinates = (237, 338)\n",
    "color = (0, 0, 255)\n",
    "\n",
    "radius = 20\n",
    "thickness = 2\n",
    "\n",
    "\n",
    "img = cv.circle(img, center_coordinates, radius, color, thickness)\n",
    "\n",
    "\n",
    "img"
   ]
  }
 ],
 "metadata": {
  "kernelspec": {
   "display_name": "Python 3",
   "language": "python",
   "name": "python3"
  },
  "language_info": {
   "codemirror_mode": {
    "name": "ipython",
    "version": 3
   },
   "file_extension": ".py",
   "mimetype": "text/x-python",
   "name": "python",
   "nbconvert_exporter": "python",
   "pygments_lexer": "ipython3",
   "version": "3.7.6"
  }
 },
 "nbformat": 4,
 "nbformat_minor": 4
}
