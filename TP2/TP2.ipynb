{
 "cells": [
  {
   "cell_type": "markdown",
   "metadata": {},
   "source": [
    "## Trabajo práctico 2 - Colores"
   ]
  },
  {
   "cell_type": "markdown",
   "metadata": {},
   "source": [
    "## Objetivo: \n",
    "\n",
    "utilizando los conceptos tratados para generar una máscara del morrón amarillo, hacer lo mismo con la imagen suministrada de arandelas de colores y permitir generar máscaras para recuperar cada grupo de colores (azules, rojas) . Bonus: Permitir discriminar colores con sus distintas tonalidades (azul y celeste, rojo y naranja)."
   ]
  },
  {
   "cell_type": "code",
   "execution_count": null,
   "metadata": {},
   "outputs": [],
   "source": [
    "import cv2 as cv\n",
    "import numpy as np\n",
    "import matplotlib.pyplot as plt"
   ]
  },
  {
   "cell_type": "code",
   "execution_count": null,
   "metadata": {},
   "outputs": [],
   "source": [
    "img = cv.imread('arandelas.jpg')\n",
    "img = cv.cvtColor(img, cv.COLOR_BGR2RGB)\n",
    "plt.imshow(img)\n",
    "plt.show()"
   ]
  },
  {
   "cell_type": "code",
   "execution_count": null,
   "metadata": {},
   "outputs": [],
   "source": [
    "lower = (125, 0, 0)\n",
    "upper = (255, 80, 100)\n",
    "mask = cv.inRange(img, lower, upper)\n",
    "segRojo = cv.bitwise_and(img, img, mask=mask)"
   ]
  },
  {
   "cell_type": "code",
   "execution_count": null,
   "metadata": {},
   "outputs": [],
   "source": [
    "lower = (125, 0, 0)\n",
    "upper = (255, 125, 100)\n",
    "mask = cv.inRange(img, lower, upper)\n",
    "segNaranja = cv.bitwise_and(img, img, mask=mask)\n",
    "segNaranja -= segRojo\n",
    "plt.imshow(segNaranja)\n",
    "plt.show()\n",
    "plt.imshow(segRojo)\n",
    "plt.show()"
   ]
  },
  {
   "cell_type": "code",
   "execution_count": null,
   "metadata": {},
   "outputs": [],
   "source": [
    "lower = (0, 0, 100)\n",
    "upper = (100, 195, 255)"
   ]
  }
 ],
 "metadata": {
  "kernelspec": {
   "display_name": "Python 3",
   "language": "python",
   "name": "python3"
  },
  "language_info": {
   "codemirror_mode": {
    "name": "ipython",
    "version": 3
   },
   "file_extension": ".py",
   "mimetype": "text/x-python",
   "name": "python",
   "nbconvert_exporter": "python",
   "pygments_lexer": "ipython3",
   "version": "3.8.5"
  }
 },
 "nbformat": 4,
 "nbformat_minor": 4
}
