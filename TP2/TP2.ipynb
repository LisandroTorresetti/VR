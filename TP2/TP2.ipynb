{
 "cells": [
  {
   "cell_type": "markdown",
   "metadata": {},
   "source": [
    "## Trabajo práctico 2 - Colores"
   ]
  },
  {
   "cell_type": "markdown",
   "metadata": {},
   "source": [
    "## Objetivo: \n",
    "\n",
    "utilizando los conceptos tratados para generar una máscara del morrón amarillo, hacer lo mismo con la imagen suministrada de arandelas de colores y permitir generar máscaras para recuperar cada grupo de colores (azules, rojas) . Bonus: Permitir discriminar colores con sus distintas tonalidades (azul y celeste, rojo y naranja)."
   ]
  },
  {
   "cell_type": "code",
   "execution_count": null,
   "metadata": {},
   "outputs": [],
   "source": [
    "import cv2 as cv\n",
    "import numpy as np\n",
    "import matplotlib.pyplot as plt"
   ]
  },
  {
   "cell_type": "code",
   "execution_count": null,
   "metadata": {},
   "outputs": [],
   "source": [
    "def plotter(image, title = ''):\n",
    "    plt.figure(figsize=(18,9))\n",
    "    plt.title(title, fontsize = 16, fontweight = \"bold\")\n",
    "    plt.imshow(image)\n",
    "    plt.show()  "
   ]
  },
  {
   "cell_type": "code",
   "execution_count": null,
   "metadata": {},
   "outputs": [],
   "source": [
    "img = cv.imread('arandelas.jpg')\n",
    "img = cv.cvtColor(img, cv.COLOR_BGR2RGB)\n",
    "plotter(img, 'Original Image')"
   ]
  },
  {
   "cell_type": "code",
   "execution_count": null,
   "metadata": {},
   "outputs": [],
   "source": [
    "#Masks\n",
    "#Red\n",
    "lower = (125, 0, 0)\n",
    "upper = (255, 80, 100)\n",
    "redMask = cv.inRange(img, lower, upper)\n",
    "\n",
    "#Orange\n",
    "lower = (125, 0, 0)\n",
    "upper = (255, 125, 100)\n",
    "orangeMask = cv.inRange(img, lower, upper)\n",
    "\n",
    "#Blue\n",
    "lower = (0, 0, 125)\n",
    "upper = (100, 80, 255)\n",
    "blueMask = cv.inRange(img, lower, upper)\n",
    "\n",
    "#Lightblue\n",
    "lower = (0, 0, 125)\n",
    "upper = (100, 125, 255)\n",
    "lightBlueMask = cv.inRange(img, lower, upper)\n"
   ]
  },
  {
   "cell_type": "code",
   "execution_count": null,
   "metadata": {
    "scrolled": false
   },
   "outputs": [],
   "source": [
    "segRojo = cv.bitwise_and(img, img, mask=redMask)\n",
    "segNaranja = cv.bitwise_and(img, img, mask=orangeMask)\n",
    "segNaranja -= segRojo\n",
    "\n",
    "segAzul = cv.bitwise_and(img, img, mask=blueMask)\n",
    "segCeleste = cv.bitwise_and(img, img, mask=lightBlueMask)\n",
    "segCeleste -= segAzul\n",
    "\n",
    "plotter(segNaranja, 'Orange Rings')\n",
    "plotter(segRojo, 'Red Rings')\n",
    "plotter(segNaranja + segRojo, 'Orange And Red Rings')\n",
    "plotter(segAzul, 'Blue Rings')\n",
    "plotter(segCeleste, 'Lightblue Rings')\n",
    "plotter(segCeleste + segAzul, 'Blue And Lightblue Rings')"
   ]
  }
 ],
 "metadata": {
  "kernelspec": {
   "display_name": "Python 3",
   "language": "python",
   "name": "python3"
  },
  "language_info": {
   "codemirror_mode": {
    "name": "ipython",
    "version": 3
   },
   "file_extension": ".py",
   "mimetype": "text/x-python",
   "name": "python",
   "nbconvert_exporter": "python",
   "pygments_lexer": "ipython3",
   "version": "3.7.6"
  }
 },
 "nbformat": 4,
 "nbformat_minor": 4
}
