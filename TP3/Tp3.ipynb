{
 "cells": [
  {
   "cell_type": "markdown",
   "metadata": {},
   "source": [
    "## Trabajo práctico 4 - Balance\n",
    "\n",
    "**Alumnos:**\n",
    "\n",
    "- Carol lugones Ignacio (100073)\n",
    "- Torresetti Lisandro (99846)"
   ]
  },
  {
   "cell_type": "markdown",
   "metadata": {},
   "source": [
    "## Objetivo\n",
    "\n",
    "1. Tomar una foto con sus celulares tapando bien el sensor para que no entre nada de luz (se debe obtener una imagen negra, por supuesto....pero no todos los píxeles estarán en cero ya que hay ruido!). Se pide hacer un análisis estadístico del ruido indicando media, desvío y comentando las posibles fuentes del mismo.\n",
    "\n",
    "2. Tomar una foto también con el celular del patrón de barras generado según el video y obtener el MTF."
   ]
  },
  {
   "cell_type": "code",
   "execution_count": null,
   "metadata": {},
   "outputs": [],
   "source": [
    "import cv2\n",
    "import numpy as np\n",
    "import matplotlib.pyplot as plt\n",
    "from glob import glob\n",
    "from scipy import signal\n",
    "%matplotlib inline\n",
    "img_fnames = glob('./fotos/IMG_*')\n",
    "print(img_fnames) #Agarramos todas las imagenes en el folder fotos"
   ]
  },
  {
   "cell_type": "markdown",
   "metadata": {},
   "source": [
    "## 1) Análisis estadístico del ruido\n",
    "\n",
    "Para este punto sacamos 10 fotos con cada celular para poder comparar los sensores. Las fotos fueron tomadas con el sensor de la camara completamente tapado. A continuación se detallan los datos de los celulares\n",
    "\n",
    "**Xiaomi Redmi Note 8**\n",
    "* Ancho: 4000 pixeles\n",
    "* Alto: 3000 pixeles\n",
    "* Tiempo de exposición: 1/14 seg\n",
    "* Valor de apertura: 1.67 EV (f/1.8)\n",
    "* Tasa de velocidad ISO: 9510\n",
    "* Modo de medida: Promedio ponderado en el centro\n",
    "* Longitud focal: 4.7 mm\n",
    "\n",
    "\n",
    "**iPhone 7**\n",
    "* Ancho: 4032 pixeles\n",
    "* Alto: 3024 pixeles\n",
    "* Tiempo de exposición: 1/4 seg\n",
    "* Valor de apertura: 1.70 EV (f/1.8)\n",
    "* Tasa de velocidad ISO: 1600\n",
    "* Modo de medida: Patron\n",
    "* Longitud focal: 4.0 mm"
   ]
  },
  {
   "cell_type": "code",
   "execution_count": null,
   "metadata": {},
   "outputs": [],
   "source": [
    "imgsXiaomi = []\n",
    "imgsIphone = []\n",
    "fname = img_fnames[0] #Para que es esto?\n",
    "for name in img_fnames:\n",
    "    img = cv2.imread(name)\n",
    "    img = cv2.cvtColor(img, cv2.COLOR_BGR2RGB)\n",
    "    imgsXiaomi.append(img) if 'BURST' in name else imgsIphone.append(img)\n",
    "\n",
    "print(f\"Minima intensidad Xiaomi: {np.min([imgsXiaomi])}\")\n",
    "print(f\"Maxima intensidad Xiaomi: {np.max([imgsXiaomi])}\\n\")\n",
    "\n",
    "print(f\"Minima intensidad Iphone: {np.min([imgsIphone])}\")\n",
    "print(f\"Maxima intensidad Iphone: {np.max([imgsIphone])}\")"
   ]
  },
  {
   "cell_type": "markdown",
   "metadata": {},
   "source": [
    "Como se puede ver, en ambos casos la intensidad mínima es cero, pero no sucede lo mismo con la intensidad máxima, lo esperado sería que también sea cero ya que el sensor se encuentra tapado."
   ]
  },
  {
   "cell_type": "code",
   "execution_count": null,
   "metadata": {},
   "outputs": [],
   "source": [
    "def statistics(imgStack):\n",
    "    return  np.mean(imgStack, axis=0),  np.std(imgStack, axis=0)"
   ]
  },
  {
   "cell_type": "code",
   "execution_count": null,
   "metadata": {},
   "outputs": [],
   "source": [
    "imgs_np = np.stack(imgsXiaomi)\n",
    "\n",
    "a = np.mean(imgs_np, axis=0)\n",
    "b = np.std(imgs_np, axis=0)\n",
    "#print(f\"shape de las imagenes{imgs_np.shape}\\nMedia de las imagenes: {a.shape}\\nDesvio estandar: {b}\")"
   ]
  },
  {
   "cell_type": "code",
   "execution_count": null,
   "metadata": {},
   "outputs": [],
   "source": [
    "imgs_np = np.stack(imgsXiaomi)\n",
    "stackXiaomi = np.stack(imgsXiaomi)\n",
    "stackIphone = np.stack(imgsIphone)\n",
    "\n",
    "# Media y desvio Iphone\n",
    "img_mediaIphone, img_stdIphone = statistics(stackIphone)\n",
    "\n",
    "# Media y desvio Xiaomi\n",
    "img_mediaXiaomi, img_stdXiaomi = statistics(stackXiaomi)"
   ]
  },
  {
   "cell_type": "code",
   "execution_count": null,
   "metadata": {
    "pycharm": {
     "name": "#%%\n"
    }
   },
   "outputs": [],
   "source": [
    "def dibujar_contorno(mat, title = ''):\n",
    "    fig = plt.figure()\n",
    "    X, Y = np.meshgrid(range(len(mat[0])), range(len(mat)))\n",
    "    Z = mat\n",
    "\n",
    "    # decimación para no matar la compu calculando contornos!\n",
    "    dec = 16\n",
    "\n",
    "    fig = plt.figure(figsize=(16,12))\n",
    "    cp = plt.contourf(X[::dec], Y[::dec], Z[::dec])\n",
    "    fig.colorbar(cp)\n",
    "    plt.title(title, fontsize=18, fontweight='bold')\n",
    "    plt.show();\n",
    "    return cp"
   ]
  },
  {
   "cell_type": "markdown",
   "metadata": {},
   "source": [
    "A continuación vamos a realizar los gráficos de la media y el desvío en los distintos canales para ambos celulares utilizando la función brindada por la cátedra."
   ]
  },
  {
   "cell_type": "code",
   "execution_count": null,
   "metadata": {},
   "outputs": [],
   "source": [
    "CHANNELS = ['Rojo', 'Verde', 'Azul']\n",
    "def plotMeanAndStdChannels(meanImgs, stdImgs):\n",
    "    for chNum, ch in enumerate(CHANNELS):\n",
    "        dibujar_contorno(meanImgs[:,:,chNum], 'Media ' + ch)\n",
    "        dibujar_contorno(stdImgs[:,:,chNum], 'Std ' + ch)"
   ]
  },
  {
   "cell_type": "markdown",
   "metadata": {},
   "source": [
    "### iPhone"
   ]
  },
  {
   "cell_type": "code",
   "execution_count": null,
   "metadata": {
    "scrolled": false
   },
   "outputs": [],
   "source": [
    "plotMeanAndStdChannels(img_mediaIphone, img_stdIphone)"
   ]
  },
  {
   "cell_type": "markdown",
   "metadata": {},
   "source": [
    "### Xiaomi"
   ]
  },
  {
   "cell_type": "code",
   "execution_count": null,
   "metadata": {
    "scrolled": false
   },
   "outputs": [],
   "source": [
    "plotMeanAndStdChannels(img_mediaXiaomi, img_stdXiaomi)"
   ]
  },
  {
   "cell_type": "markdown",
   "metadata": {},
   "source": [
    "## Estadísticas de ruido: relación entre media y desvío\n",
    "\n",
    "Para analizar esta relación vamos a realizar histogramas en 2 dimensiones. Como venimos haciendo hasta el momento, lo realizaremos tanto para el iPhone como para el Xiaomi."
   ]
  },
  {
   "cell_type": "code",
   "execution_count": null,
   "metadata": {},
   "outputs": [],
   "source": [
    "def plotHist2d(meanImgs, stdImgs):\n",
    "    dec = 100\n",
    "    for chNum, ch in enumerate(CHANNELS):\n",
    "        channelStd = np.ravel(stdImgs[:,:,chNum])\n",
    "        channelMean = np.ravel(meanImgs[:,:,chNum])\n",
    "        \n",
    "        #Realizamos el plot del histograma 2d\n",
    "        plt.figure(figsize=(10,10))\n",
    "        plt.title(ch, fontweight='bold', fontsize=18)\n",
    "        plt.xlabel('Media', fontweight='bold', fontsize=16)\n",
    "        plt.ylabel('Desvio', fontweight='bold', fontsize=16)\n",
    "        cb = plt.hist2d(channelMean[::dec], channelStd[::dec], bins=100)"
   ]
  },
  {
   "cell_type": "markdown",
   "metadata": {},
   "source": [
    "### iPhone"
   ]
  },
  {
   "cell_type": "code",
   "execution_count": null,
   "metadata": {
    "scrolled": false
   },
   "outputs": [],
   "source": [
    "plotHist2d(img_mediaIphone, img_stdIphone)"
   ]
  },
  {
   "cell_type": "markdown",
   "metadata": {},
   "source": [
    "### Xiaomi"
   ]
  },
  {
   "cell_type": "code",
   "execution_count": null,
   "metadata": {
    "scrolled": false
   },
   "outputs": [],
   "source": [
    "plotHist2d(img_mediaXiaomi, img_stdXiaomi)"
   ]
  },
  {
   "cell_type": "markdown",
   "metadata": {},
   "source": [
    "## Histogramas"
   ]
  },
  {
   "cell_type": "code",
   "execution_count": null,
   "metadata": {},
   "outputs": [],
   "source": [
    "def plotHist(stackImgs, title = ''):\n",
    "    dec = 100\n",
    "    i_max = 50\n",
    "    colors = ['red', 'green', 'blue']\n",
    "    plt.figure(figsize=(10,10))\n",
    "    plt.title('Histograma ' + title, fontsize=18, fontweight='bold')\n",
    "    plt.grid()\n",
    "    for chNum, ch in enumerate(CHANNELS):\n",
    "        allChannel = np.ravel(imgs_np[:,:,:,chNum])\n",
    "        _ = plt.hist(allChannel[::dec], bins=range(i_max), color=colors[chNum],histtype='step', linewidth=2.0)\n",
    "\n",
    "\n",
    "    _ = plt.hist(np.ravel(stackImgs)[::dec], bins=range(i_max), color='black', histtype='step', linewidth=2.0)\n",
    "    plt.legend(['Rojo', 'Verde', 'Azul', 'Total'])"
   ]
  },
  {
   "cell_type": "code",
   "execution_count": null,
   "metadata": {},
   "outputs": [],
   "source": [
    "plotHist(stackIphone, 'iPhone')"
   ]
  },
  {
   "cell_type": "code",
   "execution_count": null,
   "metadata": {},
   "outputs": [],
   "source": [
    "plotHist(stackXiaomi, 'Xiaomi')"
   ]
  },
  {
   "cell_type": "markdown",
   "metadata": {},
   "source": [
    "## Conclusiones 1"
   ]
  },
  {
   "cell_type": "markdown",
   "metadata": {},
   "source": [
    "## 2) MTF"
   ]
  },
  {
   "cell_type": "code",
   "execution_count": null,
   "metadata": {},
   "outputs": [],
   "source": [
    "def generar_onda_cuadrada(largo, periodo):\n",
    "\n",
    "    onda_cuadrada=np.zeros(largo)\n",
    "\n",
    "    for i in range (0,largo):\n",
    "\n",
    "        if np.mod(i,periodo)<periodo/2:\n",
    "\n",
    "            onda_cuadrada[i]=1\n",
    "\n",
    "        if np.mod(i,periodo)>=periodo/2:\n",
    "\n",
    "            onda_cuadrada[i]=-1\n",
    "\n",
    "    return onda_cuadrada\n",
    "\n",
    "plt.plot(generar_onda_cuadrada(largo=100, periodo=14), ':o')"
   ]
  },
  {
   "cell_type": "code",
   "execution_count": null,
   "metadata": {},
   "outputs": [],
   "source": [
    "n_rep = 8\n",
    "largo_max = 10\n",
    "ys = []\n",
    "\n",
    "anchos = [ 2, 4, 8,16,32,64]\n",
    "repeticiones = [32,16, 8, 4, 2, 1]\n",
    "\n",
    "for a, r in zip(anchos, repeticiones):\n",
    "    ys.append(generar_onda_cuadrada(a*r, a))\n",
    "\n",
    "y = np.hstack(ys)\n",
    "n_samples = len(y)\n",
    "\n",
    "t = np.linspace(0, n_samples, n_samples)\n",
    "\n",
    "\n",
    "n_show = n_samples // 10\n",
    "plt.figure(figsize=(10,4))\n",
    "plt.grid()\n",
    "# plt.plot(t[:n_show], y[:n_show], ':o')\n",
    "plt.plot(y, ':o');"
   ]
  },
  {
   "cell_type": "code",
   "execution_count": null,
   "metadata": {},
   "outputs": [],
   "source": [
    "y_f = np.fft.fft(y)\n",
    "\n",
    "ancho_pantalla = 1920\n",
    "f = np.linspace(0, 1, n_samples)\n",
    "\n",
    "plt.figure(figsize=(16,4))\n",
    "plt.grid()\n",
    "\n",
    "plt.ylabel('|fft(y)|')\n",
    "plt.plot(f, np.abs(y_f)/n_samples)\n",
    "plt.xlabel('f');\n",
    "\n",
    "x = [1/(a) for a in anchos]\n",
    "labels = [a for a in anchos]\n",
    "plt.figure(figsize=(16,4))\n",
    "plt.ylabel('|fft(y)|')\n",
    "plt.grid()\n",
    "n_show = n_samples\n",
    "plt.plot(f[:n_show], np.abs(y_f[:n_show])/n_samples , ':o')\n",
    "plt.xticks(x, labels);\n",
    "plt.xlabel('P');"
   ]
  },
  {
   "cell_type": "code",
   "execution_count": null,
   "metadata": {},
   "outputs": [],
   "source": [
    "# ajustar según pantalla donde se saca la foto, poner la resolución del monitor\n",
    "\n",
    "# full hd (1080p)\n",
    "# ancho_pantalla = 1920\n",
    "# alto_pantalla = 1080\n",
    "\n",
    "# # típico notebooks:\n",
    "# ancho_pantalla = 1368\n",
    "# alto_pantalla = 768\n",
    "\n",
    "# alguien tiene pantalla \"retina\" o 4k?\n",
    "ancho_pantalla = 1920\n",
    "alto_pantalla = 1080\n",
    "\n",
    "alto_franja_central_px = 40\n",
    "\n",
    "oscuro = 64\n",
    "claro = 192\n",
    "\n",
    "medio = (claro + oscuro) / 2\n",
    "amplitud = (claro - oscuro) / 2\n",
    "\n",
    "onda = medio + amplitud * y\n",
    "\n",
    "centro_izq = 255 * np.ones((alto_franja_central_px, ancho_pantalla // 2))\n",
    "centro_der = 0 * np.ones((alto_franja_central_px, ancho_pantalla // 2 - len(onda)))\n",
    "\n",
    "arriba = claro * np.ones((alto_pantalla // 2 - alto_franja_central_px // 2, ancho_pantalla))\n",
    "centro = np.hstack((centro_izq, np.tile(onda, (alto_franja_central_px, 1)), centro_der))\n",
    "abajo = oscuro * np.ones((alto_pantalla // 2 - alto_franja_central_px // 2, ancho_pantalla))\n",
    "\n",
    "patron_mtf = np.vstack((arriba, centro, abajo)).astype(np.uint8)\n",
    "\n",
    "patron_mtf = cv2.cvtColor(patron_mtf, cv2.COLOR_GRAY2RGB)\n",
    "\n",
    "plt.imshow(patron_mtf)\n",
    "cv2.imwrite('./fotos/patron_mtf.png', patron_mtf)"
   ]
  },
  {
   "cell_type": "code",
   "execution_count": null,
   "metadata": {},
   "outputs": [],
   "source": [
    "mtf_leer = cv2.imread('./fotos/mtf1.JPG')\n",
    "mtf_leido_gray = cv2.cvtColor(mtf_leer, cv2.COLOR_BGR2GRAY)\n",
    "plt.imshow(mtf_leido_gray, cmap='gray');"
   ]
  },
  {
   "cell_type": "markdown",
   "metadata": {},
   "source": [
    "Realizando las mediciones que dijeron en el video sacamos que la distancia desde donde se saco la foto hasta la pantalla era de 50cm, y el ancho del patrón de 7 cm aproximadamente. En estos calculos puede haber cierto error debido a que se midió con una regla."
   ]
  },
  {
   "cell_type": "code",
   "execution_count": null,
   "metadata": {},
   "outputs": [],
   "source": [
    "# Buscar de pegarle con un corte a la zona del mtf\n",
    "ajustar_linea_mtf = cv2.cvtColor(mtf_leido_gray // 4, cv2.COLOR_GRAY2RGB)\n",
    "\n",
    "ancho_foto = mtf_leido_gray.shape[1]\n",
    "\n",
    "fila_mtf = 1600\n",
    "zoom = 1600\n",
    "\n",
    "# rellenar con principio y fin del patrón mtf en la foto:\n",
    "columnas_mtf = slice(0, 3000)\n",
    "\n",
    "ajustar_linea_mtf[fila_mtf, columnas_mtf, 0] = 255\n",
    "plt.figure(figsize=(16,9));\n",
    "#cv2.line(ajustar_linea_mtf,(0,1625),(2500,1625),(255,0,0),2,cv2.LINE_AA) #Trazamos una linea roja para ajustar donde se encuentra el patron\n",
    "plt.imshow(ajustar_linea_mtf);"
   ]
  },
  {
   "cell_type": "code",
   "execution_count": null,
   "metadata": {},
   "outputs": [],
   "source": [
    "# generar algunos trazados para ver qué hay en esa línea\n",
    "plt.figure(figsize=(10,4))\n",
    "plt.grid()\n",
    "plt.plot(mtf_leido_gray[fila_mtf,:])\n",
    "\n",
    "zoom = 1000\n",
    "plt.figure(figsize=(10,4))\n",
    "plt.grid()\n",
    "plt.plot(mtf_leido_gray[fila_mtf, columnas_mtf])\n",
    "\n",
    "plt.figure(figsize=(10,4))\n",
    "zoom = 100\n",
    "plt.grid()\n",
    "plt.plot(mtf_leido_gray[fila_mtf, columnas_mtf]);"
   ]
  },
  {
   "cell_type": "code",
   "execution_count": null,
   "metadata": {},
   "outputs": [],
   "source": [
    "# refinamos el corte\n",
    "zoom = 1000\n",
    "fila_mtf = 1600\n",
    "\n",
    "columnas_mtf = slice((ancho_foto // 2 - zoom // 2), (ancho_foto // 2 + zoom // 2) + 100)"
   ]
  },
  {
   "cell_type": "code",
   "execution_count": null,
   "metadata": {},
   "outputs": [],
   "source": [
    "# dibujamos con más detalle el corte\n",
    "y_est = mtf_leido_gray[fila_mtf, columnas_mtf]\n",
    "\n",
    "plt.figure(figsize=(10,4))\n",
    "plt.plot(y_est);"
   ]
  },
  {
   "cell_type": "code",
   "execution_count": null,
   "metadata": {
    "scrolled": false
   },
   "outputs": [],
   "source": [
    "# Generamos gráfico para leer donde cortar para recuperar la estimación de la y de arriba\n",
    "\n",
    "# por ahí si no quedó perfectamente centrado necesitan otro valor diferente de +/- 35:\n",
    "claro_est = mtf_leido_gray[fila_mtf, columnas_mtf]\n",
    "oscuro_est = mtf_leido_gray[fila_mtf, columnas_mtf]\n",
    "\n",
    "%matplotlib notebook\n",
    "plt.figure(figsize=(10,4))\n",
    "plt.plot(y_est)\n",
    "plt.plot(claro_est)\n",
    "plt.plot(oscuro_est)"
   ]
  },
  {
   "cell_type": "code",
   "execution_count": null,
   "metadata": {},
   "outputs": [],
   "source": [
    "# Leer del gráfico de arriba\n",
    "\n",
    "k_start = 529\n",
    "k_end = 1082\n",
    "\n",
    "y_est_r = y_est[k_start:k_end] \n",
    "\n",
    "%matplotlib notebook\n",
    "plt.figure(figsize=(10,4))\n",
    "plt.grid()\n",
    "plt.plot(y_est_r);"
   ]
  },
  {
   "cell_type": "code",
   "execution_count": null,
   "metadata": {},
   "outputs": [],
   "source": [
    "# llenar con bordes medidos del gráfico:\n",
    "bordes= [92,174,259,343, 425]\n",
    "         \n",
    "%matplotlib inline\n",
    "plt.figure(figsize=(10,4))\n",
    "plt.grid()\n",
    "plt.plot(y_est_r)\n",
    "\n",
    "for b in bordes:\n",
    "    plt.plot([b, b], [0, 255], ':k')\n"
   ]
  },
  {
   "cell_type": "code",
   "execution_count": null,
   "metadata": {},
   "outputs": [],
   "source": [
    "# comparamos con la función que le \"metimos de entrada\" al sistema\n",
    "%matplotlib inline\n",
    "plt.figure(figsize=(16,4))\n",
    "plt.grid()\n",
    "plt.plot(y_est_r)\n",
    "\n",
    "# -9,455 son offsets para que quede bien, cambiarlo según lo que obtuvieron\n",
    "offset_l = -125\n",
    "offset_r = 540\n",
    "\n",
    "x_est=np.linspace(offset_l,offset_r,len(onda))\n",
    "plt.plot(x_est, onda, ':*')"
   ]
  },
  {
   "cell_type": "code",
   "execution_count": null,
   "metadata": {},
   "outputs": [],
   "source": [
    "# idem normalizado\n",
    "%matplotlib inline\n",
    "plt.figure(figsize=(16,4))\n",
    "plt.grid()\n",
    "plt.plot((y_est_r-np.min(y_est_r))/(np.max(y_est_r)-np.min(y_est_r)))\n",
    "x_est=np.linspace(offset_l,offset_r,len(onda))\n",
    "plt.plot(x_est, (onda-np.min(onda))/(np.max(onda)-np.min(onda)), ':*')"
   ]
  },
  {
   "cell_type": "code",
   "execution_count": null,
   "metadata": {},
   "outputs": [],
   "source": [
    "# Sacar fotos y tomar nota de la geometría de cómo tomaron la foto en particular distancia al monitor \n",
    "# y ángulo subtendido por zona usada para calcular mtf:\n",
    "distancia_monitor_mm = 500\n",
    "ancho_zona_mtf_mm = 70\n",
    "\n",
    "# Calcular ángulo que genera la zona usada para medir mtf (cateto menor en la pantalla \n",
    "# y cateto mayor distancia entre cámara y pantalla)\n",
    "angulo_zona_mtf_deg = np.arctan2(ancho_zona_mtf_mm, distancia_monitor_mm)*180/np.pi\n",
    "ancho_zona_mtf_px = len(y_est_r)"
   ]
  },
  {
   "cell_type": "code",
   "execution_count": null,
   "metadata": {},
   "outputs": [],
   "source": [
    "# Calculamos grados por pixel para usar en el gráfico\n",
    "deg_per_px = ancho_zona_mtf_px / angulo_zona_mtf_deg"
   ]
  },
  {
   "cell_type": "markdown",
   "metadata": {},
   "source": [
    "$ \\text{MTF}_{\\text{Local}} = \\dfrac{i_{max}-i_{min}}{i_{max}+i_{min}}$"
   ]
  },
  {
   "cell_type": "code",
   "execution_count": null,
   "metadata": {},
   "outputs": [],
   "source": [
    "# medimos el contraste en cada tramo y lo graficamos\n",
    "tramos = np.split(y_est_r, bordes)\n",
    "\n",
    "mtfs = []\n",
    "\n",
    "for tramo in tramos:\n",
    "    i_max = np.max(tramo).astype(np.float32)\n",
    "    i_min = np.min(tramo).astype(np.float32)\n",
    "    mtf = (i_max - i_min) / (i_max + i_min)\n",
    "    mtfs.append(mtf)\n",
    "    print(mtf)\n",
    "    \n",
    "plt.grid(); plt.title('MTF')\n",
    "plt.plot(1/np.array(anchos)*deg_per_px, mtfs, ':o')\n",
    "plt.ylabel('MTF');\n",
    "plt.xlabel('lp/deg');"
   ]
  },
  {
   "cell_type": "markdown",
   "metadata": {},
   "source": [
    "## Conclusiones 2"
   ]
  }
 ],
 "metadata": {
  "kernelspec": {
   "display_name": "Python 3",
   "language": "python",
   "name": "python3"
  },
  "language_info": {
   "codemirror_mode": {
    "name": "ipython",
    "version": 3
   },
   "file_extension": ".py",
   "mimetype": "text/x-python",
   "name": "python",
   "nbconvert_exporter": "python",
   "pygments_lexer": "ipython3",
   "version": "3.7.6"
  }
 },
 "nbformat": 4,
 "nbformat_minor": 4
}
