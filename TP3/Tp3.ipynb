{
 "cells": [
  {
   "cell_type": "code",
   "execution_count": null,
   "metadata": {},
   "outputs": [],
   "source": [
    "import cv2\n",
    "import numpy as np\n",
    "import matplotlib.pyplot as plt\n",
    "from glob import glob\n",
    "%matplotlib inline\n",
    "img_fnames = glob('./fotos/*.jpg')\n",
    "print(img_fnames) #Agarramos todas las imagenes en el folder fotos"
   ]
  },
  {
   "cell_type": "code",
   "execution_count": null,
   "metadata": {},
   "outputs": [],
   "source": [
    "imgs = []\n",
    "fname = img_fnames[0]\n",
    "for name in img_fnames:\n",
    "    img = cv2.imread(fname)\n",
    "    img = cv2.cvtColor(img, cv2.COLOR_BGR2RGB)\n",
    "    imgs.append(img)\n",
    "\n",
    "print(f\"minima intensidad es: {np.min([img])}\")\n",
    "print(f\"Maxima intensidad es: {np.max([img])}\")"
   ]
  },
  {
   "cell_type": "code",
   "execution_count": null,
   "metadata": {},
   "outputs": [],
   "source": [
    "imgs_np = np.stack(imgs)\n",
    "\n",
    "# Media:\n",
    "img_media = np.mean(imgs_np, axis=0)\n",
    "\n",
    "# desvío:\n",
    "img_std = np.std(imgs_np, axis=0)\n",
    "\n",
    "print(f\"shape de las imagenes{imgs_np.shape}\\nMedia de las imagenes: {img_media}\\nDesvio estandar: {img_std}\")"
   ]
  },
  {
   "cell_type": "code",
   "execution_count": null,
   "metadata": {
    "pycharm": {
     "name": "#%%\n"
    }
   },
   "outputs": [],
   "source": [
    "def dibujar_contorno(mat):\n",
    "    fig = plt.figure()\n",
    "    X, Y = np.meshgrid(range(len(mat[0])), range(len(mat)))\n",
    "    Z = mat\n",
    "\n",
    "    # decimación para no matar la compu calculando contornos!\n",
    "    dec = 16\n",
    "\n",
    "    fig = plt.figure(figsize=(16,12))\n",
    "    cp = plt.contourf(X[::dec], Y[::dec], Z[::dec])\n",
    "    fig.colorbar(cp)\n",
    "    plt.show()\n",
    "    return cp"
   ]
  },
  {
   "cell_type": "code",
   "execution_count": null,
   "metadata": {
    "pycharm": {
     "name": "#%%\n"
    }
   },
   "outputs": [],
   "source": [
    "print('Std Rojo')\n",
    "a = dibujar_contorno(img_std[:,:,0])"
   ]
  },
  {
   "cell_type": "code",
   "execution_count": null,
   "metadata": {
    "pycharm": {
     "name": "#%%\n"
    }
   },
   "outputs": [],
   "source": [
    "print('Std Verde')\n",
    "b = dibujar_contorno(img_std[:,:,1])"
   ]
  },
  {
   "cell_type": "code",
   "execution_count": null,
   "metadata": {
    "pycharm": {
     "name": "#%%\n"
    }
   },
   "outputs": [],
   "source": [
    "print('Std Azul')\n",
    "c = dibujar_contorno(img_std[:,:,2])"
   ]
  },
  {
   "cell_type": "code",
   "execution_count": null,
   "metadata": {},
   "outputs": [],
   "source": [
    "img_std.shape"
   ]
  },
  {
   "cell_type": "code",
   "execution_count": null,
   "metadata": {
    "pycharm": {
     "name": "#%%\n"
    }
   },
   "outputs": [],
   "source": [
    "print('Media Rojo')\n",
    "dibujar_contorno(img_media[:,:,0])"
   ]
  },
  {
   "cell_type": "code",
   "execution_count": null,
   "metadata": {
    "pycharm": {
     "name": "#%%\n"
    }
   },
   "outputs": [],
   "source": [
    "print('Media Verde')\n",
    "dibujar_contorno(img_media[:,:,1])"
   ]
  },
  {
   "cell_type": "code",
   "execution_count": null,
   "metadata": {
    "pycharm": {
     "name": "#%%\n"
    }
   },
   "outputs": [],
   "source": [
    "print('Media Azul')\n",
    "dibujar_contorno(img_media[:,:,2])"
   ]
  },
  {
   "cell_type": "markdown",
   "metadata": {},
   "source": [
    "## 3.2. Estadísticas de ruido: relación entre media y desvío"
   ]
  },
  {
   "cell_type": "code",
   "execution_count": null,
   "metadata": {
    "pycharm": {
     "name": "#%%\n"
    },
    "scrolled": false
   },
   "outputs": [],
   "source": [
    "# a esta altura ya vios que el negro no es un solo color uniforme.\n",
    "# ahora vamos a ver estadísticas globales de ruido de todos los píxeles por color\n",
    "\n",
    "dec = 100\n",
    "\n",
    "todos_los_rojos_std = np.ravel(img_std[:,:,0])\n",
    "todos_los_rojos_media = np.ravel(img_media[:,:,0])\n",
    "\n",
    "todos_los_verdes_std = np.ravel(img_std[:,:,1])\n",
    "todos_los_verdes_media = np.ravel(img_media[:,:,1])\n",
    "\n",
    "todos_los_azules_std = np.ravel(img_std[:,:,2])\n",
    "todos_los_azules_media = np.ravel(img_media[:,:,2])\n",
    "\n",
    "plt.figure(figsize=(10,10))\n",
    "plt.xlabel('media')\n",
    "plt.ylabel('desvío')\n",
    "cb = plt.hist2d(todos_los_rojos_media[::dec], todos_los_rojos_std[::dec], bins=100)\n",
    " # plt.colorbar(cb)\n",
    "\n",
    "plt.figure(figsize=(10,10))\n",
    "plt.xlabel('media')\n",
    "plt.ylabel('desvío')\n",
    "cb = plt.hist2d(todos_los_verdes_media[::dec], todos_los_verdes_std[::dec], bins=100)\n",
    " # plt.colorbar(cb)\n",
    "\n",
    "plt.figure(figsize=(10,10))\n",
    "plt.xlabel('media')\n",
    "plt.ylabel('desvío')\n",
    "cb = plt.hist2d(todos_los_azules_media[::dec], todos_los_azules_std[::dec], bins=100)\n",
    " # plt.colorbar(cb)"
   ]
  },
  {
   "cell_type": "code",
   "execution_count": null,
   "metadata": {},
   "outputs": [],
   "source": [
    "plt.figure(figsize=(10,10))\n",
    "plt.title(\"histograma rojo\")\n",
    "cb = plt.hist(todos_los_rojos_media[::dec], color='red', bins=100)\n",
    " # plt.colorbar(cb)\n",
    "\n",
    "plt.figure(figsize=(10,10))\n",
    "plt.title(\"histograma verde\")\n",
    "cb = plt.hist(todos_los_verdes_media[::dec], color='green', bins=100)\n",
    " # plt.colorbar(cb)\n",
    "\n",
    "plt.figure(figsize=(10,10))\n",
    "plt.title(\"histograma azul\")\n",
    "cb = plt.hist(todos_los_azules_media[::dec], color = 'blue', bins=100)\n",
    " # plt.colorbar(cb)"
   ]
  },
  {
   "cell_type": "code",
   "execution_count": null,
   "metadata": {},
   "outputs": [],
   "source": [
    "dec = 100\n",
    "plt.figure(figsize=(10,10))\n",
    "plt.title('Histograma')\n",
    "todos_los_rojos = np.ravel(imgs_np[:,:,:,0])\n",
    "todos_los_verdes = np.ravel(imgs_np[:,:,:,1])\n",
    "todos_los_azules = np.ravel(imgs_np[:,:,:,2])\n",
    "plt.grid()\n",
    "i_max = 50\n",
    "_ = plt.hist(todos_los_rojos[::dec], bins=range(i_max), color='red',histtype='step', linewidth=2.0)\n",
    "_ = plt.hist(todos_los_verdes[::dec], bins=range(i_max), color='green', histtype='step', linewidth=2.0)\n",
    "_ = plt.hist(todos_los_azules[::dec], bins=range(i_max), color='blue', histtype='step', linewidth=2.0)\n",
    "\n",
    "_ = plt.hist(np.ravel(imgs_np)[::dec], bins=range(i_max), color='black', histtype='step', linewidth=2.0)\n",
    "plt.legend(['rojo', 'verde', 'azul', 'total'])\n",
    "\n",
    "# sigue: perfiles\n",
    "\n",
    "\n"
   ]
  },
  {
   "cell_type": "code",
   "execution_count": null,
   "metadata": {},
   "outputs": [],
   "source": [
    "#Parte mti, f por vos licha"
   ]
  },
  {
   "cell_type": "code",
   "execution_count": null,
   "metadata": {},
   "outputs": [],
   "source": []
  }
 ],
 "metadata": {
  "kernelspec": {
   "display_name": "Python 3",
   "language": "python",
   "name": "python3"
  },
  "language_info": {
   "codemirror_mode": {
    "name": "ipython",
    "version": 3
   },
   "file_extension": ".py",
   "mimetype": "text/x-python",
   "name": "python",
   "nbconvert_exporter": "python",
   "pygments_lexer": "ipython3",
   "version": "3.7.6"
  }
 },
 "nbformat": 4,
 "nbformat_minor": 4
}
