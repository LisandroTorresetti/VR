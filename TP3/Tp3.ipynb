{
 "cells": [
  {
   "cell_type": "markdown",
   "metadata": {},
   "source": [
    "## Trabajo práctico 4 - Balance\n",
    "\n",
    "**Alumnos:**\n",
    "\n",
    "- Carol lugones Ignacio (100073)\n",
    "- Torresetti Lisandro (99846)"
   ]
  },
  {
   "cell_type": "markdown",
   "metadata": {},
   "source": [
    "## Objetivo\n",
    "\n",
    "1. Tomar una foto con sus celulares tapando bien el sensor para que no entre nada de luz (se debe obtener una imagen negra, por supuesto....pero no todos los píxeles estarán en cero ya que hay ruido!). Se pide hacer un análisis estadístico del ruido indicando media, desvío y comentando las posibles fuentes del mismo.\n",
    "\n",
    "2. Tomar una foto también con el celular del patrón de barras generado según el video y obtener el MTF."
   ]
  },
  {
   "cell_type": "code",
   "execution_count": null,
   "metadata": {},
   "outputs": [],
   "source": [
    "import cv2\n",
    "import numpy as np\n",
    "import matplotlib.pyplot as plt\n",
    "from glob import glob\n",
    "%matplotlib inline\n",
    "img_fnames = glob('./fotos/IMG_*')\n",
    "print(img_fnames) #Agarramos todas las imagenes en el folder fotos"
   ]
  },
  {
   "cell_type": "markdown",
   "metadata": {},
   "source": [
    "## 1) Análisis estadístico del ruido\n",
    "\n",
    "Para este punto sacamos 10 fotos con cada celular para poder comparar los sensores. Las fotos fueron tomadas con el sensor de la camara completamente tapado. A continuación se detallan los datos de los celulares\n",
    "\n",
    "**Xiaomi Redmi Note 8**\n",
    "* Ancho: 4000 pixeles\n",
    "* Alto: 3000 pixeles\n",
    "* Tiempo de exposición: 1/14 seg\n",
    "* Valor de apertura: 1.67 EV (f/1.8)\n",
    "* Tasa de velocidad ISO: 9510\n",
    "* Modo de medida: Promedio ponderado en el centro\n",
    "* Longitud focal: 4.7 mm\n",
    "\n",
    "\n",
    "**iPhone 7**\n",
    "* Ancho: 4032 pixeles\n",
    "* Alto: 3024 pixeles\n",
    "* Tiempo de exposición: 1/4 seg\n",
    "* Valor de apertura: 1.70 EV (f/1.8)\n",
    "* Tasa de velocidad ISO: 1600\n",
    "* Modo de medida: Patron\n",
    "* Longitud focal: 4.0 mm"
   ]
  },
  {
   "cell_type": "code",
   "execution_count": null,
   "metadata": {},
   "outputs": [],
   "source": [
    "imgsXiaomi = []\n",
    "imgsIphone = []\n",
    "fname = img_fnames[0] #Para que es esto?\n",
    "for name in img_fnames:\n",
    "    img = cv2.imread(name)\n",
    "    img = cv2.cvtColor(img, cv2.COLOR_BGR2RGB)\n",
    "    imgsXiaomi.append(img) if 'BURST' in name else imgsIphone.append(img)\n",
    "\n",
    "print(f\"Minima intensidad Xiaomi: {np.min([imgsXiaomi])}\")\n",
    "print(f\"Maxima intensidad Xiaomi: {np.max([imgsXiaomi])}\\n\")\n",
    "\n",
    "print(f\"Minima intensidad Iphone: {np.min([imgsIphone])}\")\n",
    "print(f\"Maxima intensidad Iphone: {np.max([imgsIphone])}\")"
   ]
  },
  {
   "cell_type": "markdown",
   "metadata": {},
   "source": [
    "Como se puede ver, en ambos casos la intensidad mínima es cero, pero no sucede lo mismo con la intensidad máxima, lo esperado sería que también sea cero ya que el sensor se encuentra tapado."
   ]
  },
  {
   "cell_type": "code",
   "execution_count": null,
   "metadata": {},
   "outputs": [],
   "source": [
    "def statistics(imgStack):\n",
    "    return  np.mean(imgStack, axis=0),  np.std(imgStack, axis=0)"
   ]
  },
  {
   "cell_type": "code",
   "execution_count": null,
   "metadata": {},
   "outputs": [],
   "source": [
    "imgs_np = np.stack(imgsXiaomi)\n",
    "\n",
    "a = np.mean(imgs_np, axis=0)\n",
    "b = np.std(imgs_np, axis=0)\n",
    "#print(f\"shape de las imagenes{imgs_np.shape}\\nMedia de las imagenes: {a.shape}\\nDesvio estandar: {b}\")"
   ]
  },
  {
   "cell_type": "code",
   "execution_count": null,
   "metadata": {},
   "outputs": [],
   "source": [
    "imgs_np = np.stack(imgsXiaomi)\n",
    "stackXiaomi = np.stack(imgsXiaomi)\n",
    "stackIphone = np.stack(imgsIphone)\n",
    "\n",
    "# Media y desvio Iphone\n",
    "img_mediaIphone, img_stdIphone = statistics(stackIphone)\n",
    "\n",
    "# Media y desvio Xiaomi\n",
    "img_mediaXiaomi, img_stdXiaomi = statistics(stackXiaomi)"
   ]
  },
  {
   "cell_type": "code",
   "execution_count": null,
   "metadata": {
    "pycharm": {
     "name": "#%%\n"
    }
   },
   "outputs": [],
   "source": [
    "def dibujar_contorno(mat, title = ''):\n",
    "    fig = plt.figure()\n",
    "    X, Y = np.meshgrid(range(len(mat[0])), range(len(mat)))\n",
    "    Z = mat\n",
    "\n",
    "    # decimación para no matar la compu calculando contornos!\n",
    "    dec = 16\n",
    "\n",
    "    fig = plt.figure(figsize=(16,12))\n",
    "    cp = plt.contourf(X[::dec], Y[::dec], Z[::dec])\n",
    "    fig.colorbar(cp)\n",
    "    plt.title(title, fontsize=18, fontweight='bold')\n",
    "    plt.show();\n",
    "    return cp"
   ]
  },
  {
   "cell_type": "markdown",
   "metadata": {},
   "source": [
    "A continuación vamos a realizar los gráficos de la media y el desvío en los distintos canales para ambos celulares utilizando la función brindada por la cátedra."
   ]
  },
  {
   "cell_type": "code",
   "execution_count": null,
   "metadata": {},
   "outputs": [],
   "source": [
    "CHANNELS = ['Rojo', 'Verde', 'Azul']\n",
    "def plotMeanAndStdChannels(meanImgs, stdImgs):\n",
    "    for chNum, ch in enumerate(CHANNELS):\n",
    "        dibujar_contorno(meanImgs[:,:,chNum], 'Media ' + ch)\n",
    "        dibujar_contorno(stdImgs[:,:,chNum], 'Std ' + ch)"
   ]
  },
  {
   "cell_type": "markdown",
   "metadata": {},
   "source": [
    "### iPhone"
   ]
  },
  {
   "cell_type": "code",
   "execution_count": null,
   "metadata": {
    "scrolled": false
   },
   "outputs": [],
   "source": [
    "plotMeanAndStdChannels(img_mediaIphone, img_stdIphone)"
   ]
  },
  {
   "cell_type": "markdown",
   "metadata": {},
   "source": [
    "### Xiaomi"
   ]
  },
  {
   "cell_type": "code",
   "execution_count": null,
   "metadata": {
    "scrolled": false
   },
   "outputs": [],
   "source": [
    "plotMeanAndStdChannels(img_mediaXiaomi, img_stdXiaomi)"
   ]
  },
  {
   "cell_type": "markdown",
   "metadata": {},
   "source": [
    "## Estadísticas de ruido: relación entre media y desvío\n",
    "\n",
    "Para analizar esta relación vamos a realizar histogramas en 2 dimensiones. Como venimos haciendo hasta el momento, lo realizaremos tanto para el iPhone como para el Xiaomi."
   ]
  },
  {
   "cell_type": "code",
   "execution_count": null,
   "metadata": {},
   "outputs": [],
   "source": [
    "def plotHist2d(meanImgs, stdImgs):\n",
    "    dec = 100\n",
    "    for chNum, ch in enumerate(CHANNELS):\n",
    "        channelStd = np.ravel(stdImgs[:,:,chNum])\n",
    "        channelMean = np.ravel(meanImgs[:,:,chNum])\n",
    "        \n",
    "        #Realizamos el plot del histograma 2d\n",
    "        plt.figure(figsize=(10,10))\n",
    "        plt.title(ch, fontweight='bold', fontsize=18)\n",
    "        plt.xlabel('Media', fontweight='bold', fontsize=16)\n",
    "        plt.ylabel('Desvio', fontweight='bold', fontsize=16)\n",
    "        cb = plt.hist2d(channelMean[::dec], channelStd[::dec], bins=100)"
   ]
  },
  {
   "cell_type": "markdown",
   "metadata": {},
   "source": [
    "### iPhone"
   ]
  },
  {
   "cell_type": "code",
   "execution_count": null,
   "metadata": {
    "scrolled": false
   },
   "outputs": [],
   "source": [
    "plotHist2d(img_mediaIphone, img_stdIphone)"
   ]
  },
  {
   "cell_type": "markdown",
   "metadata": {},
   "source": [
    "### Xiaomi"
   ]
  },
  {
   "cell_type": "code",
   "execution_count": null,
   "metadata": {
    "scrolled": false
   },
   "outputs": [],
   "source": [
    "plotHist2d(img_mediaXiaomi, img_stdXiaomi)"
   ]
  },
  {
   "cell_type": "markdown",
   "metadata": {},
   "source": [
    "## Histogramas"
   ]
  },
  {
   "cell_type": "code",
   "execution_count": null,
   "metadata": {},
   "outputs": [],
   "source": [
    "def plotHist(stackImgs, title = ''):\n",
    "    dec = 100\n",
    "    i_max = 50\n",
    "    colors = ['red', 'green', 'blue']\n",
    "    plt.figure(figsize=(10,10))\n",
    "    plt.title('Histograma ' + title, fontsize=18, fontweight='bold')\n",
    "    plt.grid()\n",
    "    for chNum, ch in enumerate(CHANNELS):\n",
    "        allChannel = np.ravel(imgs_np[:,:,:,chNum])\n",
    "        _ = plt.hist(allChannel[::dec], bins=range(i_max), color=colors[chNum],histtype='step', linewidth=2.0)\n",
    "\n",
    "\n",
    "    _ = plt.hist(np.ravel(stackImgs)[::dec], bins=range(i_max), color='black', histtype='step', linewidth=2.0)\n",
    "    plt.legend(['Rojo', 'Verde', 'Azul', 'Total'])"
   ]
  },
  {
   "cell_type": "code",
   "execution_count": null,
   "metadata": {},
   "outputs": [],
   "source": [
    "plotHist(stackIphone, 'iPhone')"
   ]
  },
  {
   "cell_type": "code",
   "execution_count": null,
   "metadata": {},
   "outputs": [],
   "source": [
    "plotHist(stackXiaomi, 'Xiaomi')"
   ]
  },
  {
   "cell_type": "markdown",
   "metadata": {},
   "source": [
    "## Conclusiones 1"
   ]
  },
  {
   "cell_type": "markdown",
   "metadata": {},
   "source": [
    "## 2) MTF"
   ]
  },
  {
   "cell_type": "code",
   "execution_count": null,
   "metadata": {},
   "outputs": [],
   "source": [
    "#Parte mti, f por vos licha"
   ]
  },
  {
   "cell_type": "markdown",
   "metadata": {},
   "source": [
    "## Conclusiones 2"
   ]
  }
 ],
 "metadata": {
  "kernelspec": {
   "display_name": "Python 3",
   "language": "python",
   "name": "python3"
  },
  "language_info": {
   "codemirror_mode": {
    "name": "ipython",
    "version": 3
   },
   "file_extension": ".py",
   "mimetype": "text/x-python",
   "name": "python",
   "nbconvert_exporter": "python",
   "pygments_lexer": "ipython3",
   "version": "3.7.6"
  }
 },
 "nbformat": 4,
 "nbformat_minor": 4
}
