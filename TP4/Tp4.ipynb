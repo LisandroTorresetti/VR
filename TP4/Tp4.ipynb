{
 "cells": [
  {
   "cell_type": "markdown",
   "metadata": {},
   "source": [
    "# Trabajo práctico 4 - Balance\n",
    "\n",
    "**Alumnos:**\n",
    "\n",
    "- Carol lugones Ignacio (100073)\n",
    "- Torresetti Lisandro (99846)"
   ]
  },
  {
   "cell_type": "markdown",
   "metadata": {},
   "source": [
    "## Objetivo\n",
    "\n",
    "Trabajando sobre la imagen sombreado:\n",
    "1. Encontrar el umbral con búsqueda binaria según lo indicado en el Jupyter Notebook y los videos. Comparar el resultado con la binarización por el método de Otzu.\n",
    "2. Programar el método de binarización local por Bernsen. Ajustarlo para obtener buenos resultados de binarización sobre esta imagen."
   ]
  },
  {
   "cell_type": "code",
   "execution_count": null,
   "metadata": {},
   "outputs": [],
   "source": [
    "import cv2 as cv\n",
    "import numpy as np\n",
    "import matplotlib.pyplot as plt\n",
    "from glob import glob\n",
    "%matplotlib inline"
   ]
  },
  {
   "cell_type": "code",
   "execution_count": null,
   "metadata": {},
   "outputs": [],
   "source": [
    "def plotter(image, title = '', imgSize = (18,9), grayScale = False): #Funcion auxiliar para realizar los graficos\n",
    "    plt.figure(figsize=imgSize)\n",
    "    plt.title(title, fontsize = 16, fontweight = \"bold\")\n",
    "    plt.imshow(image) if not grayScale else plt.imshow(image, cmap='gray', vmin=0, vmax=255)\n",
    "    plt.show()  "
   ]
  },
  {
   "cell_type": "code",
   "execution_count": null,
   "metadata": {},
   "outputs": [],
   "source": [
    "img = cv.imread('Sombreado.png', cv.IMREAD_GRAYSCALE)\n",
    "plotter(img, 'Original Image', grayScale=True)"
   ]
  },
  {
   "cell_type": "markdown",
   "metadata": {},
   "source": [
    "## 1) Búsqueda del umbral"
   ]
  },
  {
   "cell_type": "code",
   "execution_count": null,
   "metadata": {},
   "outputs": [],
   "source": [
    "#Ejercicio: Completar lo que falte y comparar contra el método de Otsu (por ejemplo restando las salidas)\n",
    "\n",
    "#Paso1: Definir umbral inicial (en general la media de la imagen)\n",
    "\n",
    "def buscar_umbral(img, umbral=128, delta_T=1.0):\n",
    "    \n",
    "    #Paso2: Dividir la imagen en dos partes\n",
    "    # Usar np.where para encontrar los índices\n",
    "    xp1,yp1 = np.where(img < umbral)\n",
    "    xp2,yp2 = np.where(img >= umbral)\n",
    "    \n",
    "\n",
    "    #Paso3: Encontrar la media de cada parte\n",
    "    media_p1 = np.mean(img[xp1][yp1])\n",
    "    media_p2 = np.mean(img[xp2][yp2])\n",
    "\n",
    "    #Paso4: Calcular el nuevo umbral (promedio entre media anterior y actual)\n",
    "    nuevo_umbral = (media_p1 + media_p2) / 2\n",
    "    \n",
    "    #Paso5: Criterio de detención (o recalculo)\n",
    "    if abs(nuevo_umbral - umbral) < delta_T:\n",
    "        return nuevo_umbral\n",
    "    else:\n",
    "        return buscar_umbral(img, umbral=nuevo_umbral)"
   ]
  },
  {
   "cell_type": "code",
   "execution_count": null,
   "metadata": {},
   "outputs": [],
   "source": [
    "# Funcion de binarización (a mano)\n",
    "def global_threshold(image, thres_value, val_high, val_low):\n",
    "    img = image.copy()\n",
    "    for i in range(image.shape[0]):\n",
    "        for j in range(image.shape[1]):\n",
    "            if image[i,j] > thres_value:\n",
    "                img[i,j] = val_high\n",
    "            else:\n",
    "                img[i,j] = val_low\n",
    "    return img\n",
    "\n",
    "umbral = np.round(buscar_umbral(img, round(np.mean(img)))) #Obtenemos el umbral\n",
    "# Realizamos los graficos de binarizacion con distintos metodos y pasandole el umbral calculado\n",
    "\n",
    "# Imagen binarizada (a mano - Fijo)\n",
    "img_bin = global_threshold(img, umbral, 255, 0);\n",
    "plotter(img_bin, 'Binarizada a mano', grayScale=True)\n",
    "\n",
    "# Imagen binarizada (embebida - Fijo) - Parámetros: Imag_original,umbral,valor_máximo,método\n",
    "ret, thresh = cv.threshold(img,umbral,255,cv.THRESH_BINARY)\n",
    "plotter(thresh,'Binarizada OpenCV, Fijo', grayScale=True)\n",
    "\n",
    "# Imagen binarizada (embebida - Otsu) - Parámetros: Imag_original,umbral,valor_máximo,método\n",
    "ret, thresh = cv.threshold(img,umbral,255,cv.THRESH_BINARY+cv.THRESH_OTSU)\n",
    "plotter(thresh,'Binarizada OpenCV, Otsu', grayScale=True)\n",
    "\n",
    "# Imagen binarizada (embebida - Mediana) - Parámetros: Imag_original,valor_máximo,método adaptativo,tipo de umbral,tamaño de bloque,C\n",
    "thresh = cv.adaptiveThreshold(img,255,cv.ADAPTIVE_THRESH_MEAN_C,cv.THRESH_BINARY,11,2)\n",
    "plotter(thresh,'Binarizada OpenCV, Mediana', grayScale=True)"
   ]
  },
  {
   "cell_type": "markdown",
   "metadata": {},
   "source": [
    "## 2) Método de binarización local por Bernsen"
   ]
  },
  {
   "cell_type": "code",
   "execution_count": null,
   "metadata": {},
   "outputs": [],
   "source": [
    "def getSubmatrix(matrix, row, col, size):\n",
    "    submatrix = []\n",
    "    for i in range(row, (row + size) if row + size < len(matrix) else len(matrix)):\n",
    "        for j in range(col, (col + size) if col + size < len(matrix[0]) else len(matrix[0])):\n",
    "            submatrix.append(matrix[i][j])\n",
    "    return submatrix"
   ]
  },
  {
   "cell_type": "code",
   "execution_count": null,
   "metadata": {},
   "outputs": [],
   "source": [
    "def bernsen(image, windowSize, contrast):\n",
    "    img = image.copy()\n",
    "    aux = []\n",
    "    for row in range(0, len(image), 1):\n",
    "        for col in range(0, len(image[0]), 1):\n",
    "            submatrix = getSubmatrix(image, row, col, windowSize) #Generamos la ventana de tamanio windowSize\n",
    "            midGray = np.mean(submatrix) \n",
    "            maxIntensity, minIntensity = max(submatrix), min(submatrix)\n",
    "            localContrast = maxIntensity - minIntensity\n",
    "            aux.append(localContrast)\n",
    "            \n",
    "            for i in range(len(submatrix)):\n",
    "                if (localContrast < contrast):\n",
    "                    submatrix[i] = 255 if midGray >= 128 else 0\n",
    "                else:\n",
    "                    submatrix[i] = 255 if submatrix[i] >= midGray else 0\n",
    "            \n",
    "            #Ahora actualizo los valores de la imagen original\n",
    "            auxCont = 0\n",
    "            for i in range(row, row + windowSize):\n",
    "                if (i >= len(img)):\n",
    "                    break\n",
    "                for j in range(col,  col + windowSize):\n",
    "                    if (j >= len(img[0])):\n",
    "                        break\n",
    "                    img[i][j] = submatrix[auxCont]\n",
    "                    auxCont += 1\n",
    "    \n",
    "    print(\"Min local contrast = {} // Max local contrast = {}\".format(min(aux), max(aux)))\n",
    "    return img    "
   ]
  },
  {
   "cell_type": "code",
   "execution_count": null,
   "metadata": {
    "scrolled": false
   },
   "outputs": [],
   "source": [
    "#contrasts = range(1,11) #Si tarda mucho cambiar el rango\n",
    "contrasts = [1,5,7,10]  #Para ver la diferenia entre contraste y contraste mas rapido\n",
    "for contrast in contrasts:\n",
    "    for windowSize in [3,5,7]:\n",
    "        imgCopy = img.copy()\n",
    "        imgCopy = bernsen(imgCopy, windowSize, contrast)\n",
    "        title = 'Bernsen {}x{} - Contraste = {}'.format(windowSize, windowSize, contrast)\n",
    "        plotter(imgCopy, title, grayScale=True)"
   ]
  },
  {
   "cell_type": "markdown",
   "metadata": {},
   "source": [
    "## Conclusiones\n",
    "\n",
    "### Punto 1:\n",
    "En este punto se pudo notar que la performance para obtener la binarización fue mucho más rápida que en el punto 2, pero se puede ver que la imagen obtenida por cada método no se asemeja tanto a la original como sucede en el punto 2. También se puede observar las diferencias entre cada método de binarización; en el caso de la binarización con el algoritmo otorgado por la cátedra y la binarización por openCV no se observan diferencias entre las imagenes obtenidas, sin embargo si las comparamos con la binarización de Otsu si. Por último se ve que la binarización de openCV por la mediana sirve para obtener los bordes de las figuras geométricas.\n",
    "\n",
    "### Punto 2:\n",
    "\n",
    "Como mencionamos anteriormente para obtener cada una de las imagenes generadas el tiempo requerido fue mayor, en parte esto se debe a que el algoritmo no fue implementado de forma óptima. Del resultaso se puede notar que a medida que aumentamos el contraste menos diferencias se ven entre un tamaño de ventana y otro, y además la imagen binarizada se parece más a la original ya que se distinguen mejor las figuras geométricas como también el fondo, y no se ven partes en un solo color como en el punto 1 que solo se diferencian unas figuras y luedo es todo de un solo color. Podemos concluir que si bien este método es más lento permite obtener mejores resultados que los métodos de binariación utilizados en el punto anterior."
   ]
  }
 ],
 "metadata": {
  "kernelspec": {
   "display_name": "Python 3",
   "language": "python",
   "name": "python3"
  },
  "language_info": {
   "codemirror_mode": {
    "name": "ipython",
    "version": 3
   },
   "file_extension": ".py",
   "mimetype": "text/x-python",
   "name": "python",
   "nbconvert_exporter": "python",
   "pygments_lexer": "ipython3",
   "version": "3.7.6"
  }
 },
 "nbformat": 4,
 "nbformat_minor": 4
}
