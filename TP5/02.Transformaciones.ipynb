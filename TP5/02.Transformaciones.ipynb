{
 "cells": [
  {
   "cell_type": "markdown",
   "metadata": {},
   "source": [
    "### Transformaciones geométricas"
   ]
  },
  {
   "cell_type": "code",
   "execution_count": 1,
   "metadata": {},
   "outputs": [
    {
     "name": "stdout",
     "output_type": "stream",
     "text": [
      "Using matplotlib backend: Qt5Agg\n"
     ]
    }
   ],
   "source": [
    "#Si queremos que las imágenes sean mostradas en una ventana emergente quitar el inline\n",
    "# %matplotlib inline\n",
    "%matplotlib\n",
    "\n",
    "# OpenCV-Python utiliza NumPy para el manejo de imágenes\n",
    "import numpy as np\n",
    "# cv2 es el módulo python para acceder a OpenCV \n",
    "import cv2 as cv\n",
    "# Usamos las poderosas herramientas de graficación de matplotlib para mostrar imágenes, perfiles, histogramas, etc\n",
    "import matplotlib.pyplot as plt"
   ]
  },
  {
   "cell_type": "code",
   "execution_count": 2,
   "metadata": {},
   "outputs": [],
   "source": [
    "# Cargamos la imagen a procesar\n",
    "img = cv.imread('dibujo.jpg')"
   ]
  },
  {
   "cell_type": "markdown",
   "metadata": {},
   "source": [
    "#### 1. Cambio de escala\n",
    "\n",
    "Hay distintos métodos de interpolación:\n",
    "\n",
    "- INTER_NEAREST: Vecino cercano\n",
    "- INTER_LINEAR: Lineal\n",
    "- INTER_CUBIC: Cúbica\n",
    "- INTER_AREA: Preferido para decimación (resultados libres de patrones de Moire)\n",
    "- Varios más..."
   ]
  },
  {
   "cell_type": "code",
   "execution_count": null,
   "metadata": {},
   "outputs": [],
   "source": [
    "# Podemos parametrizarla de esta manera para ampliar la imagen\n",
    "res_up = cv.resize(img,None,fx=2, fy=2, interpolation = cv.INTER_CUBIC)\n",
    "\n",
    "# Que es lo mismo que hacer esto\n",
    "height, width = img.shape[:2]\n",
    "res_up = cv.resize(img,(2*width, 2*height), interpolation = cv.INTER_CUBIC)\n",
    "\n",
    "# Similar para reducir\n",
    "res_down = cv.resize(img,(round(width/2), round(height/2)), interpolation = cv.INTER_CUBIC)\n",
    "\n",
    "# Graficamos...\n",
    "cv.imshow('Ampliada',res_up)\n",
    "cv.imshow('Reducida',res_down)\n",
    "\n",
    "# Cierra al presionar una tecla (no cerrar las ventanas manualmente!...o reiniciar el kernel =) ) \n",
    "cv.waitKey(0)\n",
    "cv.destroyAllWindows()"
   ]
  },
  {
   "cell_type": "markdown",
   "metadata": {},
   "source": [
    "#### 2. Traslación\n",
    "\n",
    "\\begin{equation*}\n",
    "M=\\begin{vmatrix}\n",
    "1 &  0 & t_x \\\\\n",
    "0 &  1 & t_y \\\\\n",
    "\\end{vmatrix}\n",
    "\\end{equation*}\n",
    "\n",
    "- tx: desplazamiento en x\n",
    "- ty: desplazamiento en y\n"
   ]
  },
  {
   "cell_type": "code",
   "execution_count": 3,
   "metadata": {},
   "outputs": [],
   "source": [
    "rows,cols,channels = img.shape\n",
    "\n",
    "# Armamos la matriz de traslación de la imagen (tx=100, ty=50)\n",
    "M = np.float32([[1,0,100],[0,1,50]])\n",
    "\n",
    "# Aplicamos el desplazamiento (Ojo!. El tercer argumento es el tamaño de la imagen destino)\n",
    "dst = cv.warpAffine(img,M,(cols,rows))\n",
    "\n",
    "# Graficamos...\n",
    "cv.imshow('Desplazada',dst)\n",
    "\n",
    "# Cierra al presionar una tecla (no cerrar las ventanas manualmente!...o reiniciar el kernel =) ) \n",
    "cv.waitKey(0)\n",
    "cv.destroyAllWindows()"
   ]
  },
  {
   "cell_type": "markdown",
   "metadata": {},
   "source": [
    "#### 3. Rotación\n",
    "\n",
    "\\begin{equation*}\n",
    "M=\\begin{vmatrix}\n",
    "cos(\\theta) &  -sin(\\theta) \\\\\n",
    "sin(\\theta) &  cos(\\theta) \\\\\n",
    "\\end{vmatrix}\n",
    "\\end{equation*}\n",
    "\n",
    "- $\\theta$: Ángulo de rotación\n",
    "\n",
    "OpenCV permite rotar alrededor de un punto (que puede no ser el origen) y a su vez escalar la imagen\n",
    "\n",
    "\\begin{equation*}\n",
    "M=\\begin{vmatrix}\n",
    "\\alpha & \\beta & (1-\\alpha).centro_x - \\beta.centro_y \\\\\n",
    "-\\beta & \\alpha & \\beta.centro_x - (1-\\alpha).centro_y \\\\\n",
    "\\end{vmatrix}\n",
    "\\end{equation*}\n",
    "\n",
    "Donde:\n",
    "\n",
    "- $\\alpha=escala.cos(\\theta)$\n",
    "- $\\beta=escala.sin(\\theta)$"
   ]
  },
  {
   "cell_type": "code",
   "execution_count": 3,
   "metadata": {},
   "outputs": [],
   "source": [
    "#rows y cols tienen los valores de filas y columnas en la imagen original\n",
    "rows, cols = img.shape[:2]\n",
    "\n",
    "# Obtenemos la matriz de rotación\n",
    "#--------------------------------\n",
    "# cols-1 y rows-1 son las coordenadas límite.\n",
    "M = cv.getRotationMatrix2D(((cols-1)/2.0,(rows-1)/2.0),45,1)\n",
    "# Con escala al 50%\n",
    "#M = cv.getRotationMatrix2D(((cols-1)/2.0,(rows-1)/2.0),45,0.5)\n",
    "\n",
    "# Calculamos la imagen destino\n",
    "dst = cv.warpAffine(img,M,(cols,rows))\n",
    "\n",
    "# Graficamos...\n",
    "cv.imshow('Rotada',dst)\n",
    "\n",
    "# Cierra al presionar una tecla (no cerrar las ventanas manualmente!...o reiniciar el kernel =) ) \n",
    "cv.waitKey(0)\n",
    "cv.destroyAllWindows()"
   ]
  },
  {
   "cell_type": "markdown",
   "metadata": {},
   "source": [
    "#### 4. Transformación Afín\n",
    "\n",
    "Líneas paralelas en origen continúan paralelas en destino\n",
    "\n",
    "Se precisan __3 puntos__ para definir la transformación"
   ]
  },
  {
   "cell_type": "code",
   "execution_count": 7,
   "metadata": {},
   "outputs": [],
   "source": [
    "# Creo una copia (para hacerle anotaciones encima)\n",
    "img_anota = img.copy()\n",
    "\n",
    "# Punto 1\n",
    "p1=(100,185)\n",
    "cv.circle(img_anota,p1,10,(255,0,0),2,cv.LINE_AA)\n",
    "cv.putText(img_anota,'P1',p1,cv.FONT_HERSHEY_SIMPLEX,1,(0,255,255),2,cv.LINE_AA)\n",
    "\n",
    "# Punto 2\n",
    "p2=(380,16)\n",
    "cv.circle(img_anota,p2,10,(255,0,0),2,cv.LINE_AA)\n",
    "cv.putText(img_anota,'P2',p2,cv.FONT_HERSHEY_SIMPLEX,1,(0,255,255),2,cv.LINE_AA)\n",
    "\n",
    "# Punto 3\n",
    "p3=(100,356)\n",
    "cv.circle(img_anota,p3,10,(255,0,0),2,cv.LINE_AA)\n",
    "cv.putText(img_anota,'P3',p3,cv.FONT_HERSHEY_SIMPLEX,1,(0,255,255),2,cv.LINE_AA)\n",
    "\n",
    "# Punto 4\n",
    "p4=(390,469)\n",
    "cv.circle(img_anota,p4,10,(255,0,0),2,cv.LINE_AA)\n",
    "cv.putText(img_anota,'P4',p4,cv.FONT_HERSHEY_SIMPLEX,1,(0,255,255),2,cv.LINE_AA)\n",
    "\n",
    "# Punto 5\n",
    "p5=(674,168)\n",
    "cv.circle(img_anota,p5,10,(255,0,0),2,cv.LINE_AA)\n",
    "cv.putText(img_anota,'P5',p5,cv.FONT_HERSHEY_SIMPLEX,1,(0,255,255),2,cv.LINE_AA)\n",
    "\n",
    "# Punto 6\n",
    "p6=(678,360)\n",
    "cv.circle(img_anota,p6,10,(255,0,0),2,cv.LINE_AA)\n",
    "cv.putText(img_anota,'P6',p6,cv.FONT_HERSHEY_SIMPLEX,1,(0,255,255),2,cv.LINE_AA)\n",
    "\n",
    "# Graficamos...\n",
    "plt.imshow(img_anota,cmap='gray')\n",
    "plt.show()"
   ]
  },
  {
   "cell_type": "code",
   "execution_count": 6,
   "metadata": {},
   "outputs": [],
   "source": [
    "# Para la transformación afín necesitamos tres puntos. Usamos los puntos P1, P3 y P4\n",
    "\n",
    "# Puntos de origen\n",
    "pts1 = np.float32([[p1[0],p1[1]],[p3[0],p3[1]],[p4[0],p4[1]]])\n",
    "# Puntos de destino (adonde se mapean)\n",
    "pts2 = np.float32([[p1[0],p1[1]],[220,406],[p4[0],p4[1]]])\n",
    "\n",
    "M = cv.getAffineTransform(pts1,pts2)\n",
    "dst = cv.warpAffine(img,M,(cols,rows))\n",
    "\n",
    "plt.subplot(121),plt.imshow(img,cmap='gray'),plt.title('Entrada')\n",
    "plt.subplot(122),plt.imshow(dst,cmap='gray'),plt.title('Salida')\n",
    "plt.show()"
   ]
  },
  {
   "cell_type": "markdown",
   "metadata": {},
   "source": [
    "#### 5. Transformación proyectiva\n",
    "\n",
    "Líneas rectas en origen continúan rectas en destino\n",
    "\n",
    "Se precisan __4 puntos__ para definir la transformación"
   ]
  },
  {
   "cell_type": "code",
   "execution_count": 8,
   "metadata": {},
   "outputs": [],
   "source": [
    "# Para la transformación proyectiva necesitamos cuatro puntos. Usamos los puntos P1, P2, P3 y P4\n",
    "\n",
    "# Puntos de origen\n",
    "pts1 = np.float32([[p1[0],p1[1]],[p2[0],p2[1]],[p3[0],p3[1]],[p4[0],p4[1]]])\n",
    "# Puntos de destino (adonde se mapean)\n",
    "pts2 = np.float32([[100,100],[700,100],[100,500],[700,500]])\n",
    "\n",
    "M = cv.getPerspectiveTransform(pts1,pts2)\n",
    "dst = cv.warpPerspective(img,M,(cols,rows))\n",
    "\n",
    "plt.figure()\n",
    "plt.subplot(121),plt.imshow(img,cmap='gray'),plt.title('Entrada')\n",
    "plt.subplot(122),plt.imshow(dst,cmap='gray'),plt.title('Salida')\n",
    "plt.show()"
   ]
  },
  {
   "cell_type": "code",
   "execution_count": 9,
   "metadata": {},
   "outputs": [],
   "source": [
    "# ¿Qué pasa si usamos los puntos P2, P4, P5 y P6?\n",
    "\n",
    "# Puntos de origen\n",
    "pts1 = np.float32([[p2[0],p2[1]],[p4[0],p4[1]],[p5[0],p5[1]],[p6[0],p6[1]]])\n",
    "# Puntos de destino (adonde se mapean)\n",
    "pts2 = np.float32([[100,100],[100,500],[700,100],[700,500]])\n",
    "\n",
    "M = cv.getPerspectiveTransform(pts1,pts2)\n",
    "dst = cv.warpPerspective(img,M,(cols,rows))\n",
    "\n",
    "plt.figure()\n",
    "plt.subplot(121),plt.imshow(img,cmap='gray'),plt.title('Entrada')\n",
    "plt.subplot(122),plt.imshow(dst,cmap='gray'),plt.title('Salida')\n",
    "plt.show()"
   ]
  },
  {
   "cell_type": "code",
   "execution_count": null,
   "metadata": {},
   "outputs": [],
   "source": []
  }
 ],
 "metadata": {
  "kernelspec": {
   "display_name": "Python 3",
   "language": "python",
   "name": "python3"
  },
  "language_info": {
   "codemirror_mode": {
    "name": "ipython",
    "version": 3
   },
   "file_extension": ".py",
   "mimetype": "text/x-python",
   "name": "python",
   "nbconvert_exporter": "python",
   "pygments_lexer": "ipython3",
   "version": "3.7.7"
  }
 },
 "nbformat": 4,
 "nbformat_minor": 4
}
