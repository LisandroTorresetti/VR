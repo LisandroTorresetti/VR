{
 "cells": [
  {
   "cell_type": "markdown",
   "metadata": {},
   "source": [
    "# Trabajo práctico 5 - Template Matching\n",
    "\n",
    "**Alumnos:**\n",
    "\n",
    "- Carol lugones Ignacio (100073)\n",
    "- Torresetti Lisandro (99846)"
   ]
  },
  {
   "cell_type": "markdown",
   "metadata": {},
   "source": [
    "## Objetivo\n",
    "\n",
    "A partir del patrón de la cara de Messi (el cual debe ser seleccionado de entre las imágenes) encontrarlo en cada una de las imágenes en las que Messi aparece. Se pide un algoritmo automático que frente a la lectura sucesiva de estas imágenes (y si quieren, pueden probar con imágenes que encuentren ustedes) devuelva la posición de la cara de Messi dentro de la imagen y el nivel de confianza con el que fue hallada (deben definir también el nivel de confianza propuesto)."
   ]
  },
  {
   "cell_type": "code",
   "execution_count": null,
   "metadata": {},
   "outputs": [],
   "source": [
    "import cv2 as cv\n",
    "import numpy as np\n",
    "import matplotlib.pyplot as plt\n",
    "from glob import glob\n",
    "%matplotlib inline"
   ]
  },
  {
   "cell_type": "code",
   "execution_count": null,
   "metadata": {},
   "outputs": [],
   "source": [
    "def plotter(image, title = '', imgSize = (18,9), grayScale = False, step = 25): #Funcion auxiliar para realizar los graficos\n",
    "    plt.figure(figsize=imgSize)\n",
    "    plt.title(title, fontsize = 16, fontweight = \"bold\")\n",
    "    plt.imshow(image) if not grayScale else plt.imshow(image, cmap='gray', vmin=0, vmax=255)\n",
    "    plt.yticks(np.arange(0, len(image), step))\n",
    "    plt.xticks(np.arange(0, len(image[0]), step))\n",
    "    plt.show()  "
   ]
  },
  {
   "cell_type": "code",
   "execution_count": null,
   "metadata": {},
   "outputs": [],
   "source": [
    "def gaussian_pyramid(img, num_levels):\n",
    "    lower = img.copy()\n",
    "    gaussian_pyr = [lower]\n",
    "    for i in range(num_levels):\n",
    "        lower = cv.pyrDown(lower)\n",
    "        gaussian_pyr.append(np.float32(lower))\n",
    "    return gaussian_pyr\n",
    "\n",
    "def laplacian_pyramid(gaussian_pyr):\n",
    "    laplacian_top = gaussian_pyr[-1]\n",
    "    num_levels = len(gaussian_pyr) - 1\n",
    "    \n",
    "    laplacian_pyr = [laplacian_top]\n",
    "    for i in range(num_levels,0,-1):\n",
    "        size = (gaussian_pyr[i - 1].shape[1], gaussian_pyr[i - 1].shape[0])\n",
    "        gaussian_expanded = cv.pyrUp(gaussian_pyr[i], dstsize=size)\n",
    "        laplacian = np.subtract(gaussian_pyr[i-1], gaussian_expanded)\n",
    "        laplacian_pyr.append(laplacian)\n",
    "    return laplacian_pyr\n",
    "def getLaplacian(img, desiredLevel):\n",
    "    return laplacian_pyramid(gaussian_pyramid(img, desiredLevel))\n"
   ]
  },
  {
   "cell_type": "markdown",
   "metadata": {},
   "source": [
    "Se noto que las imagenes tenian diferente escala y se hizo un analisis de como seria un analisis basico de las imagenes sin igualarles el tamaño. Se descubrio que no encontraba nunca al personaje buscado, entonces se obliga a que todas las imagenes tengan el mismo tamaño asi llevandolas al tamaño de donde sale el template."
   ]
  },
  {
   "cell_type": "code",
   "execution_count": null,
   "metadata": {},
   "outputs": [],
   "source": [
    "level = 3\n",
    "#Cargo el padron de imagenes a usar cuando se trata de encontrar a Messi\n",
    "imgsGray = []\n",
    "imgsRgb = []\n",
    "#imgTemplate = cv.cvtColor(cv.imread(\"./Fotos/Template.jpg\"), cv.COLOR_BGR2RGB)\n",
    "pathOfTemplate = \"./Fotos/Messi_1.jpg\"\n",
    "imgTemplate = gaussian_pyramid(cv.imread(\"./Fotos/Template.jpg\", 0), level)[-1]\n",
    "paths = glob(\"./Fotos/Messi*\")\n",
    "paths.remove(\"./Fotos/Messi_1.jpg\")\n",
    "#img = cv.imread(pathOfTemplate)\n",
    "#img = getLaplacian(img, level)[-1]\n",
    "#x,y = len(img[0]), len(img)\n",
    "#imgsRgb.append(cv.cvtColor(img, cv.COLOR_BGR2RGB))\n",
    "#imgsRgb.append(img)\n",
    "#imgsGray.append(cv.cvtColor(img, cv.COLOR_BGR2GRAY))\n",
    "for pathImg in glob(\"./Fotos/Messi*\"):\n",
    "    img = cv.imread(pathImg)\n",
    "    #imgsRgb.append(cv.cvtColor(img, cv.COLOR_BGR2RGB))\n",
    "    imgsRgb.append(img)\n",
    "    imgsGray.append(cv.cvtColor(img, cv.COLOR_BGR2GRAY))\n",
    "    print(f\"Nombre: {pathImg}, cantidad en y: {len(img)}, cantidad en x: {len(img[0])}\")"
   ]
  },
  {
   "cell_type": "code",
   "execution_count": null,
   "metadata": {},
   "outputs": [],
   "source": [
    "def pyrUp(lowerPoint, originalImg, levelsDone = level):\n",
    "    laplacian = getLaplacian(originalImg, levelsDone)\n",
    "    actualCompression = laplacian[1] + cv.pyrUp(lowerPoint)\n",
    "    for i in range(2, len(laplacian)):\n",
    "        plotter(actualCompression)\n",
    "        actualCompression = cv.pyrUp(actualCompression) + laplacian[i]\n",
    "    return actualCompression\n",
    "        "
   ]
  },
  {
   "cell_type": "code",
   "execution_count": null,
   "metadata": {},
   "outputs": [],
   "source": [
    "w,h,top_left"
   ]
  },
  {
   "cell_type": "code",
   "execution_count": null,
   "metadata": {
    "scrolled": true
   },
   "outputs": [],
   "source": [
    "#Se corre el codigo de la practica para ver como lo muestra, saltear celda si no interesa el trabajo de verlo\n",
    "#Si se quiere ver los graficos descomentar el plot del final, no recomendado porque es bastante feo\n",
    "modifier = level * 2\n",
    "w, h = imgTemplate.shape[::-1]\n",
    "w,h = int(w * modifier), int(h*modifier)\n",
    "# Los 6 métodos posibles para comparación:\n",
    "methods = ['cv.TM_CCOEFF', 'cv.TM_CCOEFF_NORMED', 'cv.TM_CCORR',\n",
    "            'cv.TM_CCORR_NORMED', 'cv.TM_SQDIFF', 'cv.TM_SQDIFF_NORMED']\n",
    "\n",
    "for meth in methods:\n",
    "    for img_rgb, img_gray in zip(imgsRgb, imgsGray):\n",
    "        # Hago una copia de la imagen porque ciclo a ciclo le dibujo rectángulos\n",
    "        img_salida = img_rgb.copy()\n",
    "        img_gray = gaussian_pyramid(img_gray, level)[-1]\n",
    "        other = gaussian_pyramid(img_salida, level)[-1]\n",
    "        method = eval(meth)\n",
    "\n",
    "        # Aplicamos la coincidencia de patrones\n",
    "        #--------------------------------------\n",
    "        res = cv.matchTemplate(img_gray,imgTemplate,method)\n",
    "\n",
    "        # Encontramos los valores máximos y mínimos\n",
    "        min_val, max_val, min_loc, max_loc = cv.minMaxLoc(res)\n",
    "\n",
    "        # Si el método es TM_SQDIFF o TM_SQDIFF_NORMED, tomamos el mínimo\n",
    "        if method in [cv.TM_SQDIFF, cv.TM_SQDIFF_NORMED]:\n",
    "            top_left = min_loc\n",
    "        else:\n",
    "            top_left = max_loc\n",
    "        # Marcamos el lugar donde lo haya encontrado\n",
    "        #----------------------------------------\n",
    "        bottom_right = ((top_left[0] + int(w / modifier)), (top_left[1] + int(h / modifier)))\n",
    "        cv.rectangle(other,top_left, bottom_right, 255)\n",
    "        top_left = int(top_left[0] * modifier), int(top_left[1] * modifier)\n",
    "        bottom_right = ((top_left[0] + w), (top_left[1] + h))\n",
    "        cv.rectangle(img_salida,top_left, bottom_right, 255, 2)\n",
    "        ##Reescalamos:\n",
    "        # Graficamos el procesamiento y la salida\n",
    "        #----------------------------------------\n",
    "        plt.figure()\n",
    "\n",
    "        # Resultado de coincidencia\n",
    "        plt.subplot(121),plt.imshow(res,cmap = 'gray')\n",
    "        plt.title('Matching Result'), plt.xticks([]), plt.yticks([])\n",
    "\n",
    "        # Imagen original con recuadros\n",
    "        plt.subplot(121),plt.imshow(img_salida)\n",
    "        plt.title('Detected Point'), plt.xticks([]), plt.yticks([])\n",
    "        \n",
    "        # Imagen original con recuadros\n",
    "        plt.subplot(122),plt.imshow(other)\n",
    "        plt.title('Original'), plt.xticks([]), plt.yticks([])\n",
    "\n",
    "\n",
    "        plt.suptitle(meth)\n",
    "        plt.show()"
   ]
  },
  {
   "cell_type": "code",
   "execution_count": null,
   "metadata": {},
   "outputs": [],
   "source": [
    "def rectangleBestPosibility(img_rgb, img_gray, method):\n",
    "    res = cv.matchTemplate(img_gray,template,method)\n",
    "    threshold = 1\n",
    "    loc = np.where( res >= threshold)\n",
    "    while len(loc[0]) == 0:\n",
    "        threshold -= 0.01\n",
    "        loc = np.where( res >= threshold)\n",
    "    for pt in zip(*loc[::-1]):\n",
    "        cv.rectangle(img_rgb, pt, (pt[0] + w, pt[1] + h), (0,0,255), 2)\n",
    "\n",
    "    #cv.imshow(\"pirulito\",img_rgb)\n",
    "    print(f\"selected threshold is: {threshold}\")\n",
    "    plotter(img_rgb)"
   ]
  },
  {
   "cell_type": "code",
   "execution_count": null,
   "metadata": {},
   "outputs": [],
   "source": [
    "img_rgb = imgsRgb[0]\n",
    "img_gray = imgsGray[0]\n",
    "template = imgTemplate\n",
    "\n",
    "w, h = template.shape[::-1]\n",
    "methods = ['cv.TM_CCOEFF', 'cv.TM_CCOEFF_NORMED', 'cv.TM_CCORR',\n",
    "            'cv.TM_CCORR_NORMED', 'cv.TM_SQDIFF', 'cv.TM_SQDIFF_NORMED']\n",
    "# Fijamos un umbral de \"coincidencia\"\n",
    "#threshold = 0.95\n",
    "for meth in methods:\n",
    "    method = eval(meth)\n",
    "    rectangleBestPosibility(img_rgb, img_gray, method)"
   ]
  },
  {
   "cell_type": "code",
   "execution_count": null,
   "metadata": {},
   "outputs": [],
   "source": [
    "laplacian = getLaplacian(img, 4)"
   ]
  },
  {
   "cell_type": "code",
   "execution_count": null,
   "metadata": {},
   "outputs": [],
   "source": [
    "len(laplacian[-1]) / len(laplacian[-2])"
   ]
  },
  {
   "cell_type": "markdown",
   "metadata": {},
   "source": [
    "# Reconocimiento de caras"
   ]
  },
  {
   "cell_type": "code",
   "execution_count": null,
   "metadata": {},
   "outputs": [],
   "source": []
  },
  {
   "cell_type": "code",
   "execution_count": null,
   "metadata": {},
   "outputs": [],
   "source": [
    "#Vuelvo a cargar todas las imagenes\n",
    "img_fnames = glob('./Fotos/*')\n",
    "template = None\n",
    "imgs = []\n",
    "\n",
    "for name in img_fnames:\n",
    "    img = cv.imread(name)\n",
    "    img = cv.cvtColor(img, cv.COLOR_BGR2RGB)\n",
    "    if 'Messi' in name:\n",
    "        imgs.append(img)\n",
    "    else:\n",
    "        template = img\n",
    "    \n",
    "    print('Image name: {}, Width = {}, Height = {}'.format(name, img.shape[0], img.shape[1]))\n"
   ]
  },
  {
   "cell_type": "code",
   "execution_count": null,
   "metadata": {
    "scrolled": true
   },
   "outputs": [],
   "source": [
    "#Pasamos todas las imagenes al mismo shape de la que se extrajo el template, o sea Messi_1 \n",
    "for img in imgs:\n",
    "    plotter(img)"
   ]
  },
  {
   "cell_type": "code",
   "execution_count": null,
   "metadata": {},
   "outputs": [],
   "source": [
    "plotter(template)"
   ]
  },
  {
   "cell_type": "code",
   "execution_count": null,
   "metadata": {},
   "outputs": [],
   "source": [
    "template.shape[:-1]"
   ]
  },
  {
   "cell_type": "code",
   "execution_count": null,
   "metadata": {},
   "outputs": [],
   "source": [
    "w, h = template.shape[:-1]\n",
    "# Los 6 métodos posibles para comparación:\n",
    "methods = ['cv.TM_CCOEFF', 'cv.TM_CCOEFF_NORMED', 'cv.TM_CCORR',\n",
    "            'cv.TM_CCORR_NORMED', 'cv.TM_SQDIFF', 'cv.TM_SQDIFF_NORMED']\n",
    "\n",
    "img_rgb = imgs[5]\n",
    "img_gray = cv.cvtColor(img_rgb, cv.COLOR_RGB2GRAY)\n",
    "template = cv.cvtColor(template, cv.COLOR_RGB2GRAY)\n",
    "\n",
    "for meth in methods:\n",
    "    # Hago una copia de la imagen porque ciclo a ciclo le dibujo rectángulos\n",
    "    img_salida = img_rgb.copy()\n",
    "    \n",
    "    method = eval(meth)\n",
    "    \n",
    "    # Aplicamos la coincidencia de patrones\n",
    "    #--------------------------------------\n",
    "    res = cv.matchTemplate(img_gray,template,method)\n",
    "    \n",
    "    # Encontramos los valores máximos y mínimos\n",
    "    min_val, max_val, min_loc, max_loc = cv.minMaxLoc(res)\n",
    "    \n",
    "    # Si el método es TM_SQDIFF o TM_SQDIFF_NORMED, tomamos el mínimo\n",
    "    if method in [cv.TM_SQDIFF, cv.TM_SQDIFF_NORMED]:\n",
    "        top_left = min_loc\n",
    "    else:\n",
    "        top_left = max_loc\n",
    "    \n",
    "    # Marcamos el lugar donde lo haya encontrado\n",
    "    #----------------------------------------\n",
    "    bottom_right = (top_left[0] + w, top_left[1] + h)\n",
    "    cv.rectangle(img_salida,top_left, bottom_right, 255, 2)\n",
    "    \n",
    "    # Graficamos el procesamiento y la salida\n",
    "    #----------------------------------------\n",
    "    plt.figure()\n",
    "    \n",
    "    # Resultado de coincidencia\n",
    "    plt.subplot(121),plt.imshow(res,cmap = 'gray')\n",
    "    plt.title('Matching Result'), plt.xticks([]), plt.yticks([])\n",
    "    \n",
    "    # Imagen original con recuadros\n",
    "    plt.subplot(122),plt.imshow(img_salida)\n",
    "    plt.title('Detected Point'), plt.xticks([]), plt.yticks([])\n",
    "    \n",
    "    plt.suptitle(meth)\n",
    "    plt.show()"
   ]
  },
  {
   "cell_type": "code",
   "execution_count": null,
   "metadata": {},
   "outputs": [],
   "source": [
    "import cv2\n",
    "\n",
    "# Load the cascade\n",
    "face_cascade = cv2.CascadeClassifier('haarcascade_frontalface_default.xml')\n",
    "# Read the input image\n",
    "imgTest = imgs[5]\n",
    "# Convert into grayscale\n",
    "gray = cv2.cvtColor(imgTest, cv2.COLOR_RGB2GRAY)\n",
    "# Detect faces\n",
    "faces = face_cascade.detectMultiScale(gray, 1.1, 4)\n",
    "# Draw rectangle around the faces\n",
    "for (x, y, w, h) in faces:\n",
    "    cv2.rectangle(imgTest, (x, y), (x+w, y+h), (255, 0, 0), 2)\n",
    "# Display the output\n",
    "plotter(imgTest)\n"
   ]
  },
  {
   "cell_type": "code",
   "execution_count": null,
   "metadata": {},
   "outputs": [],
   "source": [
    "faces"
   ]
  }
 ],
 "metadata": {
  "kernelspec": {
   "display_name": "Python 3",
   "language": "python",
   "name": "python3"
  },
  "language_info": {
   "codemirror_mode": {
    "name": "ipython",
    "version": 3
   },
   "file_extension": ".py",
   "mimetype": "text/x-python",
   "name": "python",
   "nbconvert_exporter": "python",
   "pygments_lexer": "ipython3",
   "version": "3.7.6"
  }
 },
 "nbformat": 4,
 "nbformat_minor": 4
}
