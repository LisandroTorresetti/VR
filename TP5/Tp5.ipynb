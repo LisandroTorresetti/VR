{
 "cells": [
  {
   "cell_type": "markdown",
   "metadata": {},
   "source": [
    "# Trabajo práctico 5 - Template Matching\n",
    "\n",
    "**Alumnos:**\n",
    "\n",
    "- Carol lugones Ignacio (100073)\n",
    "- Torresetti Lisandro (99846)"
   ]
  },
  {
   "cell_type": "markdown",
   "metadata": {},
   "source": [
    "## Objetivo\n",
    "\n",
    "A partir del patrón de la cara de Messi (el cual debe ser seleccionado de entre las imágenes) encontrarlo en cada una de las imágenes en las que Messi aparece. Se pide un algoritmo automático que frente a la lectura sucesiva de estas imágenes (y si quieren, pueden probar con imágenes que encuentren ustedes) devuelva la posición de la cara de Messi dentro de la imagen y el nivel de confianza con el que fue hallada (deben definir también el nivel de confianza propuesto)."
   ]
  },
  {
   "cell_type": "code",
   "execution_count": null,
   "metadata": {},
   "outputs": [],
   "source": [
    "import cv2 as cv\n",
    "import numpy as np\n",
    "import matplotlib.pyplot as plt\n",
    "from glob import glob\n",
    "%matplotlib inline"
   ]
  },
  {
   "cell_type": "code",
   "execution_count": null,
   "metadata": {},
   "outputs": [],
   "source": [
    "def plotter(image, title = '', imgSize = (18,9), grayScale = False, step = 25): #Funcion auxiliar para realizar los graficos\n",
    "    plt.figure(figsize=imgSize)\n",
    "    plt.title(title, fontsize = 16, fontweight = \"bold\")\n",
    "    plt.imshow(image) if not grayScale else plt.imshow(image, cmap='gray', vmin=0, vmax=255)\n",
    "    plt.yticks(np.arange(0, len(image), step))\n",
    "    plt.xticks(np.arange(0, len(image[0]), step))\n",
    "    plt.show()  "
   ]
  },
  {
   "cell_type": "code",
   "execution_count": null,
   "metadata": {},
   "outputs": [],
   "source": [
    "def gaussian_pyramid(img, num_levels):\n",
    "    lower = img.copy()\n",
    "    gaussian_pyr = [lower]\n",
    "    for i in range(num_levels):\n",
    "        lower = cv.pyrDown(lower)\n",
    "        gaussian_pyr.append(np.float32(lower))\n",
    "    return gaussian_pyr\n",
    "\n",
    "def laplacian_pyramid(gaussian_pyr):\n",
    "    laplacian_top = gaussian_pyr[-1]\n",
    "    num_levels = len(gaussian_pyr) - 1\n",
    "    \n",
    "    laplacian_pyr = [laplacian_top]\n",
    "    for i in range(num_levels,0,-1):\n",
    "        size = (gaussian_pyr[i - 1].shape[1], gaussian_pyr[i - 1].shape[0])\n",
    "        gaussian_expanded = cv.pyrUp(gaussian_pyr[i], dstsize=size)\n",
    "        laplacian = np.subtract(gaussian_pyr[i-1], gaussian_expanded)\n",
    "        laplacian_pyr.append(laplacian)\n",
    "    return laplacian_pyr\n",
    "def getLaplacian(img, desiredLevel):\n",
    "    return laplacian_pyramid(gaussian_pyramid(img, desiredLevel))\n",
    "\n",
    "def reconstruct(laplacian_pyr):\n",
    "    laplacian_top = laplacian_pyr[0]\n",
    "    laplacian_lst = [laplacian_top]\n",
    "    num_levels = len(laplacian_pyr) - 1\n",
    "    for i in range(num_levels):\n",
    "        size = (laplacian_pyr[i + 1].shape[1], laplacian_pyr[i + 1].shape[0])\n",
    "        laplacian_expanded = cv.pyrUp(laplacian_top, dstsize=size)\n",
    "        laplacian_top = cv.add(laplacian_pyr[i+1], laplacian_expanded)\n",
    "        laplacian_lst.append(laplacian_top)\n",
    "    return laplacian_lst\n"
   ]
  },
  {
   "cell_type": "markdown",
   "metadata": {},
   "source": [
    "Se noto que las imagenes tenian diferente escala y se hizo un analisis de como seria un analisis basico de las imagenes sin igualarles el tamaño. Se descubrio que no encontraba nunca al personaje buscado, entonces se obliga a que todas las imagenes tengan el mismo tamaño asi llevandolas al tamaño de donde sale el template."
   ]
  },
  {
   "cell_type": "code",
   "execution_count": null,
   "metadata": {},
   "outputs": [],
   "source": [
    "level = 2\n",
    "selected = -1\n",
    "#Cargo el padron de imagenes a usar cuando se trata de encontrar a Messi\n",
    "imgsGray = []\n",
    "imgsRgb = []\n",
    "#imgTemplate = cv.cvtColor(cv.imread(\"./Fotos/Template.jpg\"), cv.COLOR_BGR2RGB)\n",
    "pathOfTemplate = \"./Fotos/Messi_6.jpg\"\n",
    "imgTemplate = gaussian_pyramid(cv.imread(\"./Fotos/Template.jpg\", 0), level)[selected]\n",
    "paths = glob(\"./Fotos/Messi_*\")\n",
    "#paths.remove(pathOfTemplate)\n",
    "img = cv.imread(pathOfTemplate)\n",
    "x,y = len(img[0]), len(img)\n",
    "#imgsRgb.append(cv.cvtColor(img, cv.COLOR_BGR2RGB))\n",
    "#imgsRgb.append(img)\n",
    "#imgsGray.append(cv.cvtColor(img, cv.COLOR_BGR2GRAY))\n",
    "for pathImg in paths:\n",
    "    img = cv.imread(pathImg)\n",
    "    img = cv.resize(img, (x, y))\n",
    "    #imgsRgb.append(cv.cvtColor(img, cv.COLOR_BGR2RGB))\n",
    "    imgsRgb.append(img)\n",
    "    imgsGray.append(cv.cvtColor(img, cv.COLOR_BGR2GRAY))\n",
    "    print(f\"Nombre: {pathImg}, cantidad en y: {len(img)}, cantidad en x: {len(img[0])}\")"
   ]
  },
  {
   "cell_type": "code",
   "execution_count": null,
   "metadata": {},
   "outputs": [],
   "source": [
    "def pyrUp(lowerPoint, originalImg, levelsDone = level):\n",
    "    laplacian = getLaplacian(originalImg, levelsDone)\n",
    "    actualCompression = laplacian[1] + cv.pyrUp(lowerPoint)\n",
    "    for i in range(2, len(laplacian)):\n",
    "        plotter(actualCompression)\n",
    "        actualCompression = cv.pyrUp(actualCompression) + laplacian[i]\n",
    "    return actualCompression\n",
    "        "
   ]
  },
  {
   "cell_type": "code",
   "execution_count": null,
   "metadata": {
    "scrolled": true
   },
   "outputs": [],
   "source": [
    "#Se corre el codigo de la practica para ver como lo muestra, saltear celda si no interesa el trabajo de verlo\n",
    "#Si se quiere ver los graficos descomentar el plot del final, no recomendado porque es bastante feob\n",
    "# Los 6 métodos posibles para comparación:\n",
    "#Elegimos borrar de prepo ceccor porque viendo como devuelve los resultados, da cosas que estan muy fuera de foco\n",
    "methods = ['cv.TM_CCOEFF', 'cv.TM_CCOEFF_NORMED', \n",
    "            'cv.TM_CCORR_NORMED', 'cv.TM_SQDIFF', 'cv.TM_SQDIFF_NORMED']\n",
    "w, h = imgTemplate.shape[::-1]\n",
    "for meth in methods:\n",
    "    for img_rgb, img_gray in zip(imgsRgb, imgsGray):\n",
    "        # Hago una copia de la imagen porque ciclo a ciclo le dibujo rectángulos\n",
    "        img_salida = img_rgb.copy()\n",
    "        img_gray = gaussian_pyramid(img_gray, level)[selected]\n",
    "        other = gaussian_pyramid(img_salida, level)[selected]\n",
    "        method = eval(meth)\n",
    "\n",
    "        # Aplicamos la coincidencia de patrones\n",
    "        #--------------------------------------\n",
    "        res = cv.matchTemplate(img_gray,imgTemplate,method)\n",
    "\n",
    "        # Encontramos los valores máximos y mínimos\n",
    "        min_val, max_val, min_loc, max_loc = cv.minMaxLoc(res)\n",
    "\n",
    "        # Si el método es TM_SQDIFF o TM_SQDIFF_NORMED, tomamos el mínimo\n",
    "        if method in [cv.TM_SQDIFF, cv.TM_SQDIFF_NORMED]:\n",
    "            top_left = min_loc\n",
    "        else:\n",
    "            top_left = max_loc\n",
    "        # Marcamos el lugar donde lo haya encontrado\n",
    "        #----------------------------------------\n",
    "        bottom_right = ((top_left[0] + w), (top_left[1] + h))\n",
    "        cv.rectangle(other,top_left, bottom_right, 255, 2)\n",
    "        ##Reescalamos:\n",
    "        # Graficamos el procesamiento y la salida\n",
    "        #----------------------------------------\n",
    "        plt.figure()\n",
    "        for i in range(level):\n",
    "            other = cv.pyrUp(other)\n",
    "        # Resultado de coincidencia\n",
    "        plt.subplot(121),plt.imshow(res,cmap = 'gray')\n",
    "        plt.title('Matching Result'), plt.xticks([]), plt.yticks([])\n",
    "\n",
    "        # Imagen original con recuadros\n",
    "        plt.subplot(122),plt.imshow(img_salida)\n",
    "        plt.title('Detected Point'), plt.xticks([]), plt.yticks([])\n",
    "\n",
    "        plt.subplot(121),plt.imshow(other)\n",
    "        plt.title('Matching Result'), plt.xticks([]), plt.yticks([])\n",
    "\n",
    "\n",
    "\n",
    "        plt.suptitle(meth)\n",
    "        plt.show()"
   ]
  },
  {
   "cell_type": "markdown",
   "metadata": {},
   "source": [
    "# Reconocimiento de caras"
   ]
  },
  {
   "cell_type": "code",
   "execution_count": null,
   "metadata": {},
   "outputs": [],
   "source": []
  },
  {
   "cell_type": "code",
   "execution_count": null,
   "metadata": {},
   "outputs": [],
   "source": [
    "#Vuelvo a cargar todas las imagenes\n",
    "img_fnames = glob('./Fotos/*')\n",
    "template = None\n",
    "imgs = []\n",
    "\n",
    "for name in img_fnames:\n",
    "    img = cv.imread(name)\n",
    "    img = cv.cvtColor(img, cv.COLOR_BGR2RGB)\n",
    "    if 'Messi' in name:\n",
    "        imgs.append(img)\n",
    "    else:\n",
    "        template = img\n",
    "    \n",
    "    print('Image name: {}, Width = {}, Height = {}'.format(name, img.shape[0], img.shape[1]))\n"
   ]
  },
  {
   "cell_type": "code",
   "execution_count": null,
   "metadata": {
    "scrolled": true
   },
   "outputs": [],
   "source": [
    "#Pasamos todas las imagenes al mismo shape de la que se extrajo el template, o sea Messi_1 \n",
    "for img in imgs:\n",
    "    plotter(img)"
   ]
  },
  {
   "cell_type": "code",
   "execution_count": null,
   "metadata": {},
   "outputs": [],
   "source": [
    "cv.minMaxLoc(res)"
   ]
  },
  {
   "cell_type": "code",
   "execution_count": null,
   "metadata": {},
   "outputs": [],
   "source": [
    "w, h = template.shape[:-1]\n",
    "# Los 6 métodos posibles para comparación:\n",
    "methods = ['cv.TM_CCOEFF', 'cv.TM_CCOEFF_NORMED', 'cv.TM_CCORR',\n",
    "            'cv.TM_CCORR_NORMED', 'cv.TM_SQDIFF', 'cv.TM_SQDIFF_NORMED']\n",
    "\n",
    "img_rgb = imgs[5]\n",
    "img_gray = cv.cvtColor(img_rgb, cv.COLOR_RGB2GRAY)\n",
    "template = cv.cvtColor(template, cv.COLOR_RGB2GRAY)\n",
    "\n",
    "for meth in methods:\n",
    "    # Hago una copia de la imagen porque ciclo a ciclo le dibujo rectángulos\n",
    "    img_salida = img_rgb.copy()\n",
    "    \n",
    "    method = eval(meth)\n",
    "    \n",
    "    # Aplicamos la coincidencia de patrones\n",
    "    #--------------------------------------\n",
    "    res = cv.matchTemplate(img_gray,template,method)\n",
    "    \n",
    "    # Encontramos los valores máximos y mínimos\n",
    "    min_val, max_val, min_loc, max_loc = cv.minMaxLoc(res)\n",
    "    \n",
    "    # Si el método es TM_SQDIFF o TM_SQDIFF_NORMED, tomamos el mínimo\n",
    "    if method in [cv.TM_SQDIFF, cv.TM_SQDIFF_NORMED]:\n",
    "        top_left = min_loc\n",
    "    else:\n",
    "        top_left = max_loc\n",
    "    \n",
    "    # Marcamos el lugar donde lo haya encontrado\n",
    "    #----------------------------------------\n",
    "    bottom_right = (top_left[0] + w, top_left[1] + h)\n",
    "    cv.rectangle(img_salida,top_left, bottom_right, 255, 2)\n",
    "    \n",
    "    # Graficamos el procesamiento y la salida\n",
    "    #----------------------------------------\n",
    "    plt.figure()\n",
    "    \n",
    "    # Resultado de coincidencia\n",
    "    plt.subplot(121),plt.imshow(res,cmap = 'gray')\n",
    "    plt.title('Matching Result'), plt.xticks([]), plt.yticks([])\n",
    "    \n",
    "    # Imagen original con recuadros\n",
    "    plt.subplot(122),plt.imshow(img_salida)\n",
    "    plt.title('Detected Point'), plt.xticks([]), plt.yticks([])\n",
    "    \n",
    "    plt.suptitle(meth)\n",
    "    plt.show()"
   ]
  },
  {
   "cell_type": "code",
   "execution_count": null,
   "metadata": {},
   "outputs": [],
   "source": [
    "# Load the cascade\n",
    "face_cascade = cv2.CascadeClassifier('haarcascade_frontalface_default.xml')\n",
    "# Read the input image\n",
    "imgTest = imgs[5].copy()\n",
    "# Convert into grayscale\n",
    "gray = cv2.cvtColor(imgTest, cv.COLOR_RGB2GRAY)\n",
    "# Detect faces\n",
    "faces = face_cascade.detectMultiScale(gray, 1.1, 4)\n",
    "\n",
    "\n"
   ]
  },
  {
   "cell_type": "code",
   "execution_count": null,
   "metadata": {},
   "outputs": [],
   "source": [
    "def _getProportion(img, desiredWidth, desiredHeight):\n",
    "    w, h = 100, 100 #Hacer mas automatico, esto es como un POC\n",
    "    return w /desiredWidth, h / desiredHeight\n",
    "\n",
    "def _getRes(img, template):\n",
    "    img_gray = cv.cvtColor(img, cv.COLOR_RGB2GRAY)\n",
    "    methods = ['cv.TM_CCOEFF']\n",
    "    finalRes = None\n",
    "    minValue = 0\n",
    "    maxValue = 0\n",
    "    for method in methods:\n",
    "        method = eval(method)\n",
    "        res = cv.matchTemplate(img_gray,template,method)\n",
    "        actualMin, actualMax, _, _ = cv.minMaxLoc(res)\n",
    "        if abs(maxValue - minValue) < abs(actualMax - actualMin):\n",
    "            maxValue, minValue = actualMax, actualMin\n",
    "            finalRes = res\n",
    "    return res\n",
    "        \n",
    "\n",
    "def getMaxRes(faces, img, template):\n",
    "    minValue = 0\n",
    "    maxValue = 0\n",
    "    face = None\n",
    "    x, y = len(img[0]), len(img)\n",
    "    for actualX,actualY, w, h in faces:\n",
    "        imgToResize = img.copy()\n",
    "        newSize = _getProportion(template, w, h)\n",
    "        imgToResize = cv.resize(img, (int(x * newSize[0]), int(y * newSize[1])))\n",
    "        actualRes = _getRes(imgToResize, template)\n",
    "        actualMin, actualMax, _, _ = cv.minMaxLoc(actualRes)\n",
    "        if abs(maxValue - minValue) < abs(actualMax - actualMin):\n",
    "            maxValue, minValue = actualMax, actualMin\n",
    "            face = (actualX,actualY,w,h)\n",
    "    return face"
   ]
  },
  {
   "cell_type": "code",
   "execution_count": null,
   "metadata": {},
   "outputs": [],
   "source": [
    "def removeUnnecessaryFaces(faces, grayImage):\n",
    "    eyeCascade = cv.CascadeClassifier('haarcascade_eye.xml')\n",
    "    okayFaces = []\n",
    "    for face in faces:\n",
    "        (x, y, w, h) = face\n",
    "        roi_gray = grayImage[y:y+h, x:x+w]\n",
    "        roi_color = img[y:y+h, x:x+w]\n",
    "        eyes = eyeCascade.detectMultiScale(roi_gray, 1.1, 3)\n",
    "        if len(eyes) >0:\n",
    "            okayFaces.append(face)\n",
    "    return okayFaces if okayFaces else faces\n",
    "def faceRecognition(imgs, template):\n",
    "    faceCascade = cv.CascadeClassifier('haarcascade_frontalface_default.xml')\n",
    "    for img in imgs:\n",
    "        img = img.copy()\n",
    "        grayImage = cv.cvtColor(img, cv.COLOR_RGB2GRAY)\n",
    "        faces = faceCascade.detectMultiScale(grayImage, 1.1, 3)\n",
    "        print(len(faces))\n",
    "        faces = removeUnnecessaryFaces(faces, grayImage)\n",
    "        print(len(faces))\n",
    "        x,y,w,h = getMaxRes(faces, img, template)\n",
    "        print(x,y,w,h)\n",
    "        cv.rectangle(img, (x, y), (x+w, y+h), (255, 0, 0), 2)\n",
    "        plotter(img, step = 100)"
   ]
  },
  {
   "cell_type": "code",
   "execution_count": null,
   "metadata": {},
   "outputs": [],
   "source": [
    "faceRecognition(imgs, template)"
   ]
  },
  {
   "cell_type": "code",
   "execution_count": null,
   "metadata": {},
   "outputs": [],
   "source": [
    "def faceRecognition2(imgs):\n",
    "    faceCascade = cv.CascadeClassifier('haarcascade_frontalface_default.xml')\n",
    "    eyeCascade = cv.CascadeClassifier('haarcascade_eye.xml')\n",
    "    \n",
    "    for img in imgs:\n",
    "        grayImage = cv.cvtColor(img, cv.COLOR_RGB2GRAY)\n",
    "        faces = faceCascade.detectMultiScale(grayImage, 1.1, 3)\n",
    "        print(f\"faces: {len(faces)}\")\n",
    "        for (x, y, w, h) in faces:\n",
    "            roi_gray = grayImage[y:y+h, x:x+w]\n",
    "            roi_color = img[y:y+h, x:x+w]\n",
    "            eyes = eyeCascade.detectMultiScale(roi_gray, 1.1, 3)\n",
    "            for (ex,ey,ew,eh) in eyes:\n",
    "                #if (ex > x and ex < x + w) and (ey > y and ey < y + h):\n",
    "                cv.rectangle(img, (x, y), (x+w, y+h), (255, 0, 0), 2)\n",
    "                cv.rectangle(roi_color,(ex,ey),(ex+ew,ey+eh),(0,255,0),2)\n",
    "            #Aca va tu funcion, si pasa el if, que haga el rectangulo de la linea de abajo\n",
    "            #cv.rectangle(img, (x, y), (x+w, y+h), (255, 0, 0), 2)\n",
    "        plotter(img)"
   ]
  },
  {
   "cell_type": "code",
   "execution_count": null,
   "metadata": {},
   "outputs": [],
   "source": [
    "faceRecognition2(imgs)"
   ]
  }
 ],
 "metadata": {
  "kernelspec": {
   "display_name": "Python 3",
   "language": "python",
   "name": "python3"
  },
  "language_info": {
   "codemirror_mode": {
    "name": "ipython",
    "version": 3
   },
   "file_extension": ".py",
   "mimetype": "text/x-python",
   "name": "python",
   "nbconvert_exporter": "python",
   "pygments_lexer": "ipython3",
   "version": "3.8.5"
  }
 },
 "nbformat": 4,
 "nbformat_minor": 4
}
