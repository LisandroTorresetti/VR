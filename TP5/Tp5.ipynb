{
 "cells": [
  {
   "cell_type": "markdown",
   "metadata": {},
   "source": [
    "# Trabajo práctico 5 - Template Matching\n",
    "\n",
    "**Alumnos:**\n",
    "\n",
    "- Carol lugones Ignacio (100073)\n",
    "- Torresetti Lisandro (99846)"
   ]
  },
  {
   "cell_type": "markdown",
   "metadata": {},
   "source": [
    "## Objetivo\n",
    "\n",
    "A partir del patrón de la cara de Messi (el cual debe ser seleccionado de entre las imágenes) encontrarlo en cada una de las imágenes en las que Messi aparece. Se pide un algoritmo automático que frente a la lectura sucesiva de estas imágenes (y si quieren, pueden probar con imágenes que encuentren ustedes) devuelva la posición de la cara de Messi dentro de la imagen y el nivel de confianza con el que fue hallada (deben definir también el nivel de confianza propuesto)."
   ]
  },
  {
   "cell_type": "code",
   "execution_count": null,
   "metadata": {},
   "outputs": [],
   "source": [
    "import cv2 as cv\n",
    "import numpy as np\n",
    "import matplotlib.pyplot as plt\n",
    "from glob import glob\n",
    "%matplotlib inline"
   ]
  },
  {
   "cell_type": "code",
   "execution_count": null,
   "metadata": {},
   "outputs": [],
   "source": [
    "def plotter(image, title = '', imgSize = (18,9), grayScale = False, step = 25): #Funcion auxiliar para realizar los graficos\n",
    "    plt.figure(figsize=imgSize)\n",
    "    plt.title(title, fontsize = 16, fontweight = \"bold\")\n",
    "    plt.imshow(image) if not grayScale else plt.imshow(image, cmap='gray', vmin=0, vmax=255)\n",
    "    plt.yticks(np.arange(0, len(image), step))\n",
    "    plt.xticks(np.arange(0, len(image[0]), step))\n",
    "    plt.show()  "
   ]
  },
  {
   "cell_type": "code",
   "execution_count": null,
   "metadata": {},
   "outputs": [],
   "source": [
    "#Cargamos las imagenes a analizar junto con el patron\n",
    "pattern = None\n",
    "patternGray = None\n",
    "imgsMessi = []\n",
    "imgsMessiGray = []\n",
    "imgNames = glob('./Fotos/*') #Cargamos todas las imagenes que se encuentran en el folder 'Fotos'\n",
    "for name in imgNames:\n",
    "    img = cv.imread(name)\n",
    "    imgGray = cv.cvtColor(img, cv.COLOR_BGR2GRAY)\n",
    "    img = cv.cvtColor(img, cv.COLOR_BGR2RGB)\n",
    "    if 'Template' in name:\n",
    "        pattern = img\n",
    "        patternGray = imgGray\n",
    "    else:\n",
    "        imgsMessi.append(img)\n",
    "        imgsMessiGray.append(imgGray)\n",
    "    print(\"Img Name: {}\\tImg Width: {}\\tImg Height: {}\".format(name, img.shape[1], img.shape[0]))"
   ]
  },
  {
   "cell_type": "code",
   "execution_count": null,
   "metadata": {
    "scrolled": true
   },
   "outputs": [],
   "source": [
    "# Como patrón elegimos la siguiente cara de Messi\n",
    "plotter(pattern, 'Template')\n",
    "plotter(patternGray, 'Template in Gray Scale', grayScale=True)"
   ]
  },
  {
   "cell_type": "markdown",
   "metadata": {},
   "source": [
    "Al cargar las imágenes se puede apreciar que todas tienen distintas resoluciones, debido a esto lo que se hizo fue realizar un análisis a distintas resoluciones para ver si se lograba encontrar con éxito la cara de Messi en esas imágenes. Para lograr esto se utilizaron las funciones brindadas por la cátedra, que se cargan a continuación."
   ]
  },
  {
   "cell_type": "code",
   "execution_count": null,
   "metadata": {},
   "outputs": [],
   "source": [
    "def gaussian_pyramid(img, num_levels):\n",
    "    lower = img.copy()\n",
    "    gaussian_pyr = [lower]\n",
    "    for i in range(num_levels):\n",
    "        lower = cv.pyrDown(lower)\n",
    "        gaussian_pyr.append(np.float32(lower))\n",
    "    return gaussian_pyr\n",
    "\n",
    "def laplacian_pyramid(gaussian_pyr):\n",
    "    laplacian_top = gaussian_pyr[-1]\n",
    "    num_levels = len(gaussian_pyr) - 1\n",
    "    \n",
    "    laplacian_pyr = [laplacian_top]\n",
    "    for i in range(num_levels,0,-1):\n",
    "        size = (gaussian_pyr[i - 1].shape[1], gaussian_pyr[i - 1].shape[0])\n",
    "        gaussian_expanded = cv.pyrUp(gaussian_pyr[i], dstsize=size)\n",
    "        laplacian = np.subtract(gaussian_pyr[i-1], gaussian_expanded)\n",
    "        laplacian_pyr.append(laplacian)\n",
    "    return laplacian_pyr\n",
    "\n",
    "def getLaplacian(img, desiredLevel):\n",
    "    return laplacian_pyramid(gaussian_pyramid(img, desiredLevel))\n",
    "\n",
    "def reconstruct(laplacian_pyr):\n",
    "    laplacian_top = laplacian_pyr[0]\n",
    "    laplacian_lst = [laplacian_top]\n",
    "    num_levels = len(laplacian_pyr) - 1\n",
    "    for i in range(num_levels):\n",
    "        size = (laplacian_pyr[i + 1].shape[1], laplacian_pyr[i + 1].shape[0])\n",
    "        laplacian_expanded = cv.pyrUp(laplacian_top, dstsize=size)\n",
    "        laplacian_top = cv.add(laplacian_pyr[i+1], laplacian_expanded)\n",
    "        laplacian_lst.append(laplacian_top)\n",
    "    return laplacian_lst"
   ]
  },
  {
   "cell_type": "code",
   "execution_count": null,
   "metadata": {},
   "outputs": [],
   "source": [
    "level = 2 # Hasta que nivel de la piramide Gaussiana queremos llegar\n",
    "selected = -1 # Con que nivel nos quedamos\n",
    "imgTemplate = gaussian_pyramid(cv.imread(\"./Fotos/Template.jpg\", 0), level)[selected]"
   ]
  },
  {
   "cell_type": "code",
   "execution_count": null,
   "metadata": {},
   "outputs": [],
   "source": [
    "def pyrUp(lowerPoint, originalImg, levelsDone = level):\n",
    "    laplacian = getLaplacian(originalImg, levelsDone)\n",
    "    actualCompression = laplacian[1] + cv.pyrUp(lowerPoint)\n",
    "    for i in range(2, len(laplacian)):\n",
    "        plotter(actualCompression)\n",
    "        actualCompression = cv.pyrUp(actualCompression) + laplacian[i]\n",
    "    return actualCompression"
   ]
  },
  {
   "cell_type": "markdown",
   "metadata": {},
   "source": [
    "A continuación aplicamos distintos métodos para realizar la comparación de imágenes, cada método lo aplicamos a cada una de las imágenes que tenemos de Messi. El fin de hacer esto es ver con qué método se obtienen mejores resultados."
   ]
  },
  {
   "cell_type": "code",
   "execution_count": null,
   "metadata": {
    "scrolled": true
   },
   "outputs": [],
   "source": [
    "#Se corre el codigo de la practica modificado para ver como lo muestra, saltear celda si no interesa el trabajo de verlo\n",
    "#Elegimos borrar de prepo ceccor porque viendo como devuelve los resultados, da cosas que estan muy fuera de foco\n",
    "methods = ['cv.TM_CCOEFF', 'cv.TM_CCOEFF_NORMED', \n",
    "            'cv.TM_CCORR_NORMED', 'cv.TM_SQDIFF', 'cv.TM_SQDIFF_NORMED']\n",
    "w, h = imgTemplate.shape[::-1]\n",
    "for meth in methods:\n",
    "    for img_rgb, img_gray in zip(imgsMessi, imgsMessiGray):\n",
    "        # Hago una copia de la imagen porque ciclo a ciclo le dibujo rectángulos\n",
    "        img_salida = img_rgb.copy()\n",
    "        img_gray = gaussian_pyramid(img_gray, level)[selected]\n",
    "        #Hacemos una imagen secundaria que sera reescalada pero que alli se le dibujaran los rectangulos\n",
    "        other = gaussian_pyramid(img_salida, level)[selected]\n",
    "        method = eval(meth)\n",
    "\n",
    "        # Aplicamos la coincidencia de patrones\n",
    "        #--------------------------------------\n",
    "        res = cv.matchTemplate(img_gray,imgTemplate,method)\n",
    "\n",
    "        # Encontramos los valores máximos y mínimos\n",
    "        min_val, max_val, min_loc, max_loc = cv.minMaxLoc(res)\n",
    "\n",
    "        # Si el método es TM_SQDIFF o TM_SQDIFF_NORMED, tomamos el mínimo\n",
    "        if method in [cv.TM_SQDIFF, cv.TM_SQDIFF_NORMED]:\n",
    "            top_left = min_loc\n",
    "        else:\n",
    "            top_left = max_loc\n",
    "        # Marcamos el lugar donde lo haya encontrado\n",
    "        #----------------------------------------\n",
    "        bottom_right = ((top_left[0] + w), (top_left[1] + h))\n",
    "        cv.rectangle(other,top_left, bottom_right, 255, 2)\n",
    "        ##Reescalamos:\n",
    "        for i in range(level):\n",
    "            other = cv.pyrUp(other)\n",
    "\n",
    "        # Graficamos el procesamiento y la salida\n",
    "        #----------------------------------------\n",
    "        plt.figure()\n",
    "        # Imagen original\n",
    "        plt.subplot(122),plt.imshow(img_salida)\n",
    "        plt.title('Original Image'), plt.xticks([]), plt.yticks([])\n",
    "        # imagen recuadrada\n",
    "        plt.subplot(121),plt.imshow(other)\n",
    "        plt.title('Matching Result'), plt.xticks([]), plt.yticks([])\n",
    "\n",
    "\n",
    "\n",
    "        plt.suptitle(meth)\n",
    "        plt.show()"
   ]
  },
  {
   "cell_type": "markdown",
   "metadata": {},
   "source": [
    "# Reconocimiento de caras"
   ]
  },
  {
   "cell_type": "markdown",
   "metadata": {},
   "source": [
    "Debido a que los resultados anteriores no tuvieron mucho éxito se tomó un camino alternativo para poder encontrar la cara de Messi en las imágenes. Este camino consistió en encontrar las caras de las personas que aparecen en las imágenes y a estas compararlas con el patrón.\n",
    "\n",
    "OpenCV nos ofrece clasificadores pre entrenados no solo de rostros de personas, sino de ojos, sonrisa, entre otros. Los clasificadores utilizados fueron los de Haar y se descargaron del siguiente link: https://github.com/opencv/opencv/tree/master/data/haarcascades"
   ]
  },
  {
   "cell_type": "code",
   "execution_count": null,
   "metadata": {},
   "outputs": [],
   "source": [
    "#Volvemos a cargar todas las imagenes\n",
    "pattern = None\n",
    "patternGray = None\n",
    "imgsMessi = []\n",
    "imgsMessiGray = []\n",
    "imgNames = glob('./Fotos/*') #Cargamos todas las imagenes que se encuentran en el folder 'Fotos'\n",
    "for name in imgNames:\n",
    "    img = cv.imread(name)\n",
    "    imgGray = cv.cvtColor(img, cv.COLOR_BGR2GRAY)\n",
    "    img = cv.cvtColor(img, cv.COLOR_BGR2RGB)\n",
    "    if 'Template' in name:\n",
    "        pattern = img\n",
    "        patternGray = imgGray\n",
    "    else:\n",
    "        imgsMessi.append(img)\n",
    "        imgsMessiGray.append(imgGray)"
   ]
  },
  {
   "cell_type": "code",
   "execution_count": null,
   "metadata": {},
   "outputs": [],
   "source": [
    "def _getProportion(width, heigth, desiredWidth, desiredHeight):\n",
    "    return width / desiredWidth, heigth / desiredHeight\n",
    "\n",
    "def _getRes(img_gray, template):\n",
    "    methods = ['cv.TM_CCOEFF']\n",
    "    finalRes = None\n",
    "    minValue = 0\n",
    "    maxValue = 0\n",
    "    for method in methods:\n",
    "        method = eval(method)\n",
    "        res = cv.matchTemplate(img_gray,template,method)\n",
    "        actualMin, actualMax, _, _ = cv.minMaxLoc(res)\n",
    "        if abs(maxValue - minValue) < abs(actualMax - actualMin):\n",
    "            maxValue, minValue = actualMax, actualMin\n",
    "            finalRes = res\n",
    "    return res\n",
    "        \n",
    "\n",
    "def getMaxRes(faces, img, template, width = 100, heigth = 100):\n",
    "    minValue = 0\n",
    "    maxValue = 0\n",
    "    face = None\n",
    "    x, y = len(img[0]), len(img)\n",
    "    for actualX,actualY, w, h in faces:\n",
    "        imgToResize = img.copy()\n",
    "        newSize = _getProportion(width, heigth, w, h)\n",
    "        imgToResize = cv.resize(img, (int(x * newSize[0]), int(y * newSize[1])))\n",
    "        actualRes = _getRes(imgToResize, template)\n",
    "        actualMin, actualMax, _, _ = cv.minMaxLoc(actualRes)\n",
    "        if abs(maxValue - minValue) < abs(actualMax - actualMin):\n",
    "            maxValue, minValue = actualMax, actualMin\n",
    "            face = (actualX,actualY,w,h)\n",
    "    return face"
   ]
  },
  {
   "cell_type": "code",
   "execution_count": null,
   "metadata": {},
   "outputs": [],
   "source": [
    "def removeUnnecessaryFaces(faces, grayImage):\n",
    "    eyeCascade = cv.CascadeClassifier('haarcascade_eye.xml')\n",
    "    okayFaces = []\n",
    "    for face in faces:\n",
    "        (x, y, w, h) = face\n",
    "        roi_gray = grayImage[y:y+h, x:x+w]\n",
    "        roi_color = img[y:y+h, x:x+w]\n",
    "        eyes = eyeCascade.detectMultiScale(roi_gray, 1.1, 3)\n",
    "        if len(eyes) >0:\n",
    "            okayFaces.append(face)\n",
    "    return okayFaces if okayFaces else faces\n",
    "\n",
    "def faceRecognition(imgs, template):\n",
    "    faceCascade = cv.CascadeClassifier('haarcascade_frontalface_default.xml')\n",
    "    _, _, templateWidth, templateHeigth = faceCascade.detectMultiScale(template)[0]\n",
    "    for img in imgs:\n",
    "        grayImage = img.copy()\n",
    "        faces = faceCascade.detectMultiScale(grayImage, 1.1, 3)\n",
    "        faces = removeUnnecessaryFaces(faces, grayImage)\n",
    "        x,y,w,h = getMaxRes(faces, img, template, templateWidth, templateHeigth)\n",
    "        cv.rectangle(img, (x, y), (x+w, y+h), (255, 0, 0), 2)\n",
    "        plotter(img, step = 100)"
   ]
  },
  {
   "cell_type": "markdown",
   "metadata": {},
   "source": [
    "A continuación se describen que hacen las funciones de arriba:\n",
    "\n",
    "+ **removeUnnecessaryFaces**: Al realizar el reconocimiento de caras de vez en cuando se obtienen resultados inesperados, por ej se pudo ver que el escudo en la camiseta era marcado como una cara, lo cual obviamente es incorrecto. Para solucionar esto se cargó un clasificador para los ojos y lo que se hizo fue preguntar si los ojos se encuentran dentro del cuadro que se dijo previamente que era una cara, en caso de ser así efectivamente se consideró que es una cara y en caso contrario se la descartó. Con esto se logró solucionar el problema de marcar partes de la imagen que no contenían una cara.\n",
    "\n",
    "+ **faceRecognition**: Como su nombre lo indica esta función es la que se encarga de realizar el reconocimiento de caras. Esta función a su vez llama a otras funciones para comparar el patrón con las caras detectadas y marca con un rectángulo rojo la que más se asemeje a la del patrón.\n",
    "\n",
    "+ **_getRes**: Con esta función lo que hacemos es comparar las caras detectadas con la del patrón. En caso de haber una alta coincidencia devolvemos en que lugar se encuentra la cara para que se marque el rectángulo rojo."
   ]
  },
  {
   "cell_type": "code",
   "execution_count": null,
   "metadata": {},
   "outputs": [],
   "source": [
    "faceRecognition(imgsMessi, pattern)"
   ]
  },
  {
   "cell_type": "code",
   "execution_count": null,
   "metadata": {},
   "outputs": [],
   "source": [
    "def faceRecognition2(imgs):\n",
    "    faceCascade = cv.CascadeClassifier('haarcascade_frontalface_default.xml')\n",
    "    eyeCascade = cv.CascadeClassifier('haarcascade_eye.xml')\n",
    "    \n",
    "    for img in imgs:\n",
    "        grayImage = cv.cvtColor(img, cv.COLOR_RGB2GRAY)\n",
    "        faces = faceCascade.detectMultiScale(grayImage, 1.1, 3)\n",
    "        for (x, y, w, h) in faces:\n",
    "            roi_gray = grayImage[y:y+h, x:x+w]\n",
    "            roi_color = img[y:y+h, x:x+w]\n",
    "            eyes = eyeCascade.detectMultiScale(roi_gray, 1.1, 3)\n",
    "            for (ex,ey,ew,eh) in eyes:\n",
    "                cv.rectangle(img, (x, y), (x+w, y+h), (255, 0, 0), 2)\n",
    "                cv.rectangle(roi_color,(ex,ey),(ex+ew,ey+eh),(0,255,0),2)\n",
    "        plotter(img)"
   ]
  },
  {
   "cell_type": "markdown",
   "metadata": {},
   "source": [
    "A continuación mostraremos las caras y ojos que el algoritmo marca al analizar cada una de las imágenes."
   ]
  },
  {
   "cell_type": "code",
   "execution_count": null,
   "metadata": {},
   "outputs": [],
   "source": [
    "faceRecognition2(imgsMessi)"
   ]
  },
  {
   "cell_type": "markdown",
   "metadata": {},
   "source": [
    "## Conclusiones\n",
    "\n",
    "Para realizar un análisis a distintas escalas es muy útil usar pirámides, pero no siempre se logra obtener los resultados que uno desea.\n",
    "\n",
    "Los métodos que ya contienen algoritmos entrenados son muy eficientes tanto en tiempo de ejecución como también en detectar distintos elementos en una imagen (en nuestro caso caras y ojos). Sin embargo estos también a veces marcan resultados que son falsos positivos, pero realizando una buena combinación entre ellos se puede detectar caras correctamente.\n",
    "\n",
    "Como se puede apreciar en las imágenes de arriba, casi en todas se logró detectar a Messi correctamente (6/7), la única que tuvo inconvenientes es la que él se encuentra en la playa dado que para ese caso los ojos no se detectaron y por lo tanto al no tenerlos su cara fue descartada por el algoritmo."
   ]
  }
 ],
 "metadata": {
  "kernelspec": {
   "display_name": "Python 3",
   "language": "python",
   "name": "python3"
  },
  "language_info": {
   "codemirror_mode": {
    "name": "ipython",
    "version": 3
   },
   "file_extension": ".py",
   "mimetype": "text/x-python",
   "name": "python",
   "nbconvert_exporter": "python",
   "pygments_lexer": "ipython3",
   "version": "3.7.6"
  }
 },
 "nbformat": 4,
 "nbformat_minor": 4
}
