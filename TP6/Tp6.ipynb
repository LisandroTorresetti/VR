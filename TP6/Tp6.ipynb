{
 "cells": [
  {
   "cell_type": "markdown",
   "metadata": {},
   "source": [
    "# Trabajo práctico 6 - Transformada de Hough\n",
    "\n",
    "**Alumnos:**\n",
    "\n",
    "- Carol lugones Ignacio (100073)\n",
    "- Torresetti Lisandro (99846)"
   ]
  },
  {
   "cell_type": "markdown",
   "metadata": {},
   "source": [
    "## Objetivo\n",
    "\n",
    "Sobre la imagen de los bloques se pide encontrar las líneas principales que definen a dichos bloques utilizando la transformada de Hough (se pueden realizar procesamientos previos para mejorar la imagen de bordes, ajuste de histograma, filtrado, variantes de binarización, variantes de detección de borde, etc)\n",
    "\n",
    "**Actividad extra propuesta:** Ajustar rectángulos por transformada de Hough. En los recursos teóricos de la semana \"Características locales y Transformada de Hough\" hay subido un paper orientativo.\n"
   ]
  },
  {
   "cell_type": "code",
   "execution_count": null,
   "metadata": {},
   "outputs": [],
   "source": [
    "import cv2 as cv\n",
    "import numpy as np\n",
    "import matplotlib.pyplot as plt\n",
    "from glob import glob\n",
    "%matplotlib inline"
   ]
  },
  {
   "cell_type": "code",
   "execution_count": null,
   "metadata": {},
   "outputs": [],
   "source": [
    "def plotter(image, title = '', imgSize = (18,9), grayScale = False, step = 25): #Funcion auxiliar para realizar los graficos\n",
    "    plt.figure(figsize=imgSize)\n",
    "    plt.title(title, fontsize = 16, fontweight = \"bold\")\n",
    "    plt.imshow(image) if not grayScale else plt.imshow(image, cmap='gray', vmin=0, vmax=255)\n",
    "    plt.yticks(np.arange(0, len(image), step))\n",
    "    plt.xticks(np.arange(0, len(image[0]), step), rotation=90)\n",
    "    plt.show()  "
   ]
  },
  {
   "cell_type": "code",
   "execution_count": null,
   "metadata": {
    "scrolled": true
   },
   "outputs": [],
   "source": [
    "#Cargamos la imagen a analizar\n",
    "img = cv.imread('bloques1.jpg')\n",
    "img = cv.cvtColor(img, cv.COLOR_BGR2RGB)\n",
    "imgGray = cv.cvtColor(img, cv.COLOR_RGB2GRAY)\n",
    "imgGray2 = cv.imread('bloques1.jpg',cv.IMREAD_GRAYSCALE)\n",
    "imgWidth = img.shape[1]\n",
    "imgHeight = img.shape[0]\n",
    "\n",
    "print(\"Img Width: {} \\t Img Height: {}\".format(imgWidth, imgHeight))\n",
    "plotter(img, 'Original Image', step=100)\n",
    "plotter(imgGray, 'Original Image in Gray Scale', grayScale=True, step=100)\n",
    "plotter(imgGray2, 'Grayscale', grayScale = True)"
   ]
  },
  {
   "cell_type": "markdown",
   "metadata": {},
   "source": [
    "## Mejor mascara"
   ]
  },
  {
   "cell_type": "code",
   "execution_count": null,
   "metadata": {},
   "outputs": [],
   "source": []
  },
  {
   "cell_type": "code",
   "execution_count": null,
   "metadata": {},
   "outputs": [],
   "source": []
  },
  {
   "cell_type": "markdown",
   "metadata": {},
   "source": [
    "## Ecualizacion del histogram"
   ]
  },
  {
   "cell_type": "code",
   "execution_count": null,
   "metadata": {},
   "outputs": [],
   "source": [
    "# Imagen ecualizada\n",
    "imgEqzd1 = cv.equalizeHist(imgGray2)\n",
    "plotter(imgEqzd1, 'Ecualizada', grayScale = True)\n",
    "\n",
    "hist2,bins2 = np.histogram(imgEqzd1.ravel(),256,[0,256])\n",
    "ax4=plt.subplot(224)\n",
    "ax4.plot(hist2)\n",
    "\n",
    "plt.show()"
   ]
  },
  {
   "cell_type": "code",
   "execution_count": null,
   "metadata": {},
   "outputs": [],
   "source": [
    "# Imagen ecualizada\n",
    "imgEqzd2 = cv.equalizeHist(imgGray)\n",
    "plotter(imgEqzd2, 'Ecualizada', grayScale = True)\n",
    "\n",
    "hist2,bins2 = np.histogram(imgEqzd2.ravel(),256,[0,256])\n",
    "ax4=plt.subplot(224)\n",
    "ax4.plot(hist2)\n",
    "\n",
    "plt.show()\n"
   ]
  },
  {
   "cell_type": "code",
   "execution_count": null,
   "metadata": {},
   "outputs": [],
   "source": [
    "imgTest = imgEqzd1.copy()\n",
    "imgTest = imgTest + (255*0.30)\n",
    "# imgTest = (1 + 80 / 100) * imgTest\n",
    "plotter(imgTest, grayScale = True)\n"
   ]
  },
  {
   "cell_type": "code",
   "execution_count": null,
   "metadata": {},
   "outputs": [],
   "source": []
  },
  {
   "cell_type": "markdown",
   "metadata": {},
   "source": [
    "Opciones Lineas:\n",
    "\n",
    "1. Podriamos hacer una mascara con el color de uno de los bloques asi solo resaltamos esas cosas y los otros los mandamos a color negro (tener cuidado con esa L de madera, podriamos obtener cual es su color y si es ese mandarlo a negro)\n",
    "\n",
    "2. Aplicando binarizacion seria similar, pero queremos que solo queden las cosas de madera, habria que ver como mandar eso a blanco y el resto a negro o viceversa\n",
    "\n",
    "3. Hay ciertos bloques que tienen como un serrucho en sus bordes, podemos mejorar eso usando lo del histograma\n",
    "\n",
    "4. Podemos hacer un recorte de la imagen para solo quedarnos con la parte verde donde estan los bloques, PERO creo que tiene la contra que despues para marcar las lineas en la imagen original vamos a tener problemas\n",
    "\n",
    "Opciones Circulos:\n",
    "\n",
    "En este caso creo que si o si tenemos que recortar esa parte para tenerla a mayor escala, despues aplicar lo de los circulos, podriamos hacer algo para sacar los radios asi no tenemos que iterar hasta encontrar un valor optimo"
   ]
  },
  {
   "cell_type": "markdown",
   "metadata": {},
   "source": [
    "## Hough - Líneas"
   ]
  },
  {
   "cell_type": "markdown",
   "metadata": {},
   "source": [
    "## Opción 1"
   ]
  },
  {
   "cell_type": "code",
   "execution_count": null,
   "metadata": {},
   "outputs": [],
   "source": [
    "imgPrueba = img.copy()\n",
    "# Bloques numerados de arriba hacia abajo y de izq a derecha\n",
    "block1 = ((550, 1200), (1200, 1200))\n",
    "block2 = ((1500, 1600), (2100, 1600))\n",
    "block3 = ((650, 2600), (900, 2600))\n",
    "block4 = ((1350, 2600), (1600, 2600))\n",
    "block5 = ((1720, 2450), (1850, 2450))\n",
    "block6 = ((1952, 2600), (2250, 2600))\n",
    "\n",
    "blocks = [block1, block2, block3, block4, block5, block6]\n",
    "# Marcamos una linea roja para ver correctamente sus posiciones\n",
    "for block in blocks:\n",
    "    cv.line(imgPrueba, block[0], block[1], (255,0,0), 5)\n",
    "\n",
    "plotter(imgPrueba, step = 100)"
   ]
  },
  {
   "cell_type": "code",
   "execution_count": null,
   "metadata": {},
   "outputs": [],
   "source": [
    "def createMask(img, samples, lowerMultiplier = 15, upperMultiplier = 6):\n",
    "    meanColors = 0\n",
    "    stdColors = 0\n",
    "    for point1, point2 in samples:\n",
    "        colorMean, colorStd = cv.meanStdDev(img[point1[1]:point1[1] + 100,point1[0]:point2[0], :])\n",
    "        meanColors += colorMean\n",
    "        stdColors += colorStd\n",
    "    meanColors /= len(samples)\n",
    "    stdColors /= len(samples)\n",
    "    print(meanColors, stdColors)\n",
    "    return cv.inRange(img, meanColors - stdColors * lowerMultiplier,  meanColors + stdColors * upperMultiplier)"
   ]
  },
  {
   "cell_type": "code",
   "execution_count": null,
   "metadata": {},
   "outputs": [],
   "source": [
    "mask = createMask(img, blocks)\n",
    "imgWithMask = cv.bitwise_and(img, img, mask=mask)\n",
    "plotter(imgWithMask, 'Image With Mask' ,step = 100)"
   ]
  },
  {
   "cell_type": "code",
   "execution_count": null,
   "metadata": {},
   "outputs": [],
   "source": [
    "imgWithMaskGray = cv.cvtColor(imgWithMask, cv.COLOR_RGB2GRAY)\n",
    "plotter(imgWithMaskGray, grayScale=True, step = 100)"
   ]
  },
  {
   "cell_type": "code",
   "execution_count": null,
   "metadata": {},
   "outputs": [],
   "source": [
    "laplacian = cv.Laplacian(imgWithMaskGray,cv.CV_8U)\n",
    "S = cv.getStructuringElement(cv.MORPH_CROSS,(3,3))\n",
    "morph_opened_laplacian = cv.dilate(cv.erode(laplacian, S), S)"
   ]
  },
  {
   "cell_type": "code",
   "execution_count": null,
   "metadata": {},
   "outputs": [],
   "source": [
    "plotter(laplacian)"
   ]
  },
  {
   "cell_type": "code",
   "execution_count": null,
   "metadata": {
    "scrolled": true
   },
   "outputs": [],
   "source": [
    "edges = cv.Canny(imgEqzd1,150,160,apertureSize = 3)\n",
    "plotter(edges, 'Edges', grayScale = True, step = 100)"
   ]
  },
  {
   "cell_type": "code",
   "execution_count": null,
   "metadata": {},
   "outputs": [],
   "source": [
    "edges = cv.Canny(imgWithMask,322,940)\n",
    "plotter(edges, 'Edges', step=100)"
   ]
  },
  {
   "cell_type": "code",
   "execution_count": null,
   "metadata": {},
   "outputs": [],
   "source": [
    "plotter(img)"
   ]
  },
  {
   "cell_type": "code",
   "execution_count": null,
   "metadata": {},
   "outputs": [],
   "source": [
    "rho_step = 1 # Tocar estos parametros\n",
    "theta_step = (np.pi/180)# Cada 5 grados hace la votacion\n",
    "thresh = 100\n",
    "lines = cv.HoughLinesP(edges,rho_step,theta_step,thresh, None,200, 600)\n",
    "imgCopy = img.copy()\n",
    "# Dibujamos lo resultados\n",
    "#========================\n",
    "# creo que en vez de 1000 va width para X y height para y\n",
    "for line in lines:\n",
    "    x1,y1,x2,y2 = line[0]\n",
    "    cv.line(imgCopy,(x1,y1),(x2,y2),(255,0,0),5)\n",
    "#cv.imwrite('houghlines3.jpg',img)\n",
    "#plt.figure(figsize=(20,20))\n",
    "plotter(imgCopy,step=100)"
   ]
  },
  {
   "cell_type": "code",
   "execution_count": null,
   "metadata": {},
   "outputs": [],
   "source": [
    "len(lines)"
   ]
  },
  {
   "cell_type": "markdown",
   "metadata": {},
   "source": [
    "TOP_SLIDER = 100\n",
    "TOP_SLIDER_MAX = 600\n",
    "t1 = 10\n",
    "T1 = 10\n",
    "edges = 0\n",
    "\n",
    "def setT1(t1):\n",
    "    global T1\n",
    "    T1 = t1\n",
    "    print(t1)\n",
    "    if T1 < TOP_SLIDER:\n",
    "        T1 = 10\n",
    "    edges = cv.Canny(image, T1, 3*T1) \n",
    "    cv.imshow(\"canny\", edges)\n",
    "\n",
    "image = imgWithMask\n",
    "edges = cv.Canny(image, T1, 3*T1) \n",
    "cv.imshow(\"canny\", edges)\n",
    "cv.createTrackbar(\"T1\", \"canny\", t1, TOP_SLIDER_MAX, setT1)\n",
    "\n",
    "cv.waitKey(0)     \n",
    "cv.destroyAllWindows()"
   ]
  },
  {
   "cell_type": "code",
   "execution_count": null,
   "metadata": {},
   "outputs": [],
   "source": [
    "plotter(cv.bitwise_not(cv.cvtColor(img - imgWithMask, cv.COLOR_RGB2GRAY)), grayScale = True)"
   ]
  },
  {
   "cell_type": "markdown",
   "metadata": {},
   "source": [
    "## Hough - Círculos"
   ]
  },
  {
   "cell_type": "code",
   "execution_count": null,
   "metadata": {},
   "outputs": [],
   "source": [
    "# Obtenemos el sector de la imagen donde se encuentra la botonera\n",
    "buttons = img[800:1650, 2600:,:]\n",
    "buttonsGray = cv.cvtColor(buttons, cv.COLOR_RGB2GRAY)\n",
    "plotter(buttons, 'Buttons', step = 25)\n",
    "plotter(buttonsGray, 'Buttons in Gray Scale',grayScale=True, step = 25)\n",
    "\n",
    "#Si tratamos de mover la imagen como para verla bien de arriba? falopa pero copado seria una transf proyectiva"
   ]
  },
  {
   "cell_type": "code",
   "execution_count": null,
   "metadata": {},
   "outputs": [],
   "source": [
    "buttonsCopy = buttons.copy()\n",
    "# Punto 1\n",
    "P1 = (75, 135)\n",
    "P2 = (280, 145)\n",
    "P3 = (50, 800)\n",
    "P4 = (280, 800)\n",
    "#P1 = (125, 225)\n",
    "#P2 = (280, 225)\n",
    "#P3 = (125, 715)\n",
    "#P4 = (280, 715)\n",
    "cv.circle(buttonsCopy,P1,10,(255,0,0),2,cv.LINE_AA)\n",
    "cv.circle(buttonsCopy,P2,10,(255,0,0),2,cv.LINE_AA)\n",
    "cv.circle(buttonsCopy,P3,10,(255,0,0),2,cv.LINE_AA)\n",
    "cv.circle(buttonsCopy,P4,10,(255,0,0),2,cv.LINE_AA)\n",
    "plotter(buttonsCopy)"
   ]
  },
  {
   "cell_type": "code",
   "execution_count": null,
   "metadata": {},
   "outputs": [],
   "source": [
    "# Para la transformación proyectiva necesitamos cuatro puntos. Usamos los puntos P1, P2, P3 y P4\n",
    "\n",
    "# Puntos de origen\n",
    "pts1 = np.float32([[P1[0],P1[1]],[P2[0],P2[1]],[P3[0],P3[1]],[P4[0],P4[1]]])\n",
    "# Puntos de destino (adonde se mapean)\n",
    "pts2 = np.float32([[10, 100],[250, 100],[10,800],[250,800]])\n",
    "\n",
    "rows, cols = buttonsCopy.shape[:2]\n",
    "M = cv.getPerspectiveTransform(pts1,pts2)\n",
    "dst = cv.warpPerspective(buttonsCopy,M,(cols,rows))\n",
    "\n",
    "#plt.figure()\n",
    "#plt.subplot(121),plt.imshow(img,cmap='gray'),plt.title('Entrada')\n",
    "#plt.subplot(122),plt.imshow(dst,cmap='gray'),plt.title('Salida')\n",
    "#plt.show()\n"
   ]
  },
  {
   "cell_type": "code",
   "execution_count": null,
   "metadata": {},
   "outputs": [],
   "source": [
    "plotter(dst)"
   ]
  },
  {
   "cell_type": "code",
   "execution_count": null,
   "metadata": {},
   "outputs": [],
   "source": [
    "imgPrueba = img.copy()\n",
    "# Bloques numerados de arriba hacia abajo y de izq a derecha\n",
    "#block1 = ((550, 1200), (1200, 1200))\n",
    "#block2 = ((1500, 1600), (2100, 1600))\n",
    "#block3 = ((650, 2600), (900, 2600))\n",
    "#block4 = ((1350, 2600), (1600, 2600))\n",
    "#block5 = ((1720, 2450), (1850, 2450))\n",
    "#block6 = ((1952, 2600), (2250, 2600))\n",
    "\n",
    "block1 = ((600, 1500), (1300, 1500))\n",
    "block2 = ((200,750), (500, 750))\n",
    "blocks = [block1, block2]\n",
    "\n",
    "#blocks = [block1, block2, block3, block4, block5, block6]\n",
    "# Marcamos una linea roja para ver correctamente sus posiciones\n",
    "for block in blocks:\n",
    "    cv.line(imgPrueba, block[0], block[1], (255,0,0), 5)\n",
    "\n",
    "plotter(imgPrueba, step = 100)"
   ]
  },
  {
   "cell_type": "code",
   "execution_count": null,
   "metadata": {},
   "outputs": [],
   "source": [
    "def createMask2(img, samples, lowerMultiplier = 15, upperMultiplier = 6):\n",
    "    meanColors = 0\n",
    "    stdColors = 0\n",
    "    for point1, point2 in samples:\n",
    "        colorMean, colorStd = cv.meanStdDev(img[point1[1]:point1[1] + 700,point1[0]:point2[0], :])\n",
    "        meanColors += colorMean\n",
    "        stdColors += colorStd\n",
    "    meanColors /= len(samples)\n",
    "    stdColors /= len(samples)\n",
    "    print(meanColors, stdColors)\n",
    "    return cv.inRange(img, meanColors - stdColors * lowerMultiplier,  meanColors + stdColors * upperMultiplier)"
   ]
  },
  {
   "cell_type": "code",
   "execution_count": null,
   "metadata": {},
   "outputs": [],
   "source": [
    "mask = createMask2(img, blocks)\n",
    "imgWithMask2 = cv.bitwise_and(img, img, mask=mask)\n",
    "plotter(imgWithMask2, 'Image With Mask' ,step = 100)"
   ]
  },
  {
   "cell_type": "code",
   "execution_count": null,
   "metadata": {},
   "outputs": [],
   "source": [
    "plotter(img - imgWithMask)"
   ]
  },
  {
   "cell_type": "code",
   "execution_count": null,
   "metadata": {},
   "outputs": [],
   "source": [
    "plotter(imgWithMask - imgWithMask2)"
   ]
  }
 ],
 "metadata": {
  "kernelspec": {
   "display_name": "Python 3",
   "language": "python",
   "name": "python3"
  },
  "language_info": {
   "codemirror_mode": {
    "name": "ipython",
    "version": 3
   },
   "file_extension": ".py",
   "mimetype": "text/x-python",
   "name": "python",
   "nbconvert_exporter": "python",
   "pygments_lexer": "ipython3",
   "version": "3.8.5"
  }
 },
 "nbformat": 4,
 "nbformat_minor": 4
}
