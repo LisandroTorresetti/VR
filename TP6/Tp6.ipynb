{
 "cells": [
  {
   "cell_type": "markdown",
   "metadata": {},
   "source": [
    "# Trabajo práctico 6 - Transformada de Hough\n",
    "\n",
    "**Alumnos:**\n",
    "\n",
    "- Carol lugones Ignacio (100073)\n",
    "- Torresetti Lisandro (99846)"
   ]
  },
  {
   "cell_type": "markdown",
   "metadata": {},
   "source": [
    "## Objetivo\n",
    "\n",
    "Sobre la imagen de los bloques se pide encontrar las líneas principales que definen a dichos bloques utilizando la transformada de Hough (se pueden realizar procesamientos previos para mejorar la imagen de bordes, ajuste de histograma, filtrado, variantes de binarización, variantes de detección de borde, etc)\n",
    "\n",
    "**Actividad extra propuesta:** Ajustar rectángulos por transformada de Hough. En los recursos teóricos de la semana \"Características locales y Transformada de Hough\" hay subido un paper orientativo.\n"
   ]
  },
  {
   "cell_type": "code",
   "execution_count": null,
   "metadata": {},
   "outputs": [],
   "source": [
    "import cv2 as cv\n",
    "import numpy as np\n",
    "import matplotlib.pyplot as plt\n",
    "from glob import glob\n",
    "%matplotlib inline"
   ]
  },
  {
   "cell_type": "code",
   "execution_count": null,
   "metadata": {},
   "outputs": [],
   "source": [
    "def plotter(image, title = '', imgSize = (18,9), grayScale = False, step = 25): #Funcion auxiliar para realizar los graficos\n",
    "    plt.figure(figsize=imgSize)\n",
    "    plt.title(title, fontsize = 16, fontweight = \"bold\")\n",
    "    plt.imshow(image) if not grayScale else plt.imshow(image, cmap='gray', vmin=0, vmax=255)\n",
    "    plt.yticks(np.arange(0, len(image), step))\n",
    "    plt.xticks(np.arange(0, len(image[0]), step), rotation=90)\n",
    "    plt.show()  "
   ]
  },
  {
   "cell_type": "markdown",
   "metadata": {},
   "source": [
    "A continuación cargamos la imagen a analizar, obtenemos el ancho y el alto y luego la imprimimos"
   ]
  },
  {
   "cell_type": "code",
   "execution_count": null,
   "metadata": {
    "scrolled": true
   },
   "outputs": [],
   "source": [
    "#Cargamos la imagen a analizar\n",
    "img = cv.imread('bloques1.jpg')\n",
    "img = cv.cvtColor(img, cv.COLOR_BGR2RGB)\n",
    "img = cv.medianBlur(img,5) #Para eliminar los posibles ruidos\n",
    "imgGray = cv.cvtColor(img, cv.COLOR_RGB2GRAY)\n",
    "imgWidth = img.shape[1]\n",
    "imgHeight = img.shape[0]\n",
    "\n",
    "print(\"Img Width: {} \\t Img Height: {}\".format(imgWidth, imgHeight))\n",
    "plotter(img, 'Original Image', step=100)\n",
    "plotter(imgGray, 'Original Image in Gray Scale', grayScale=True, step=100)"
   ]
  },
  {
   "cell_type": "code",
   "execution_count": null,
   "metadata": {},
   "outputs": [],
   "source": [
    "#Ecualizamos el histograma de la imagen que cargamos en escala de grises\n",
    "imgGrayMod = cv.equalizeHist(imgGray.copy())\n",
    "plotter(imgGrayMod, 'Equalized', grayScale = True, step=100)"
   ]
  },
  {
   "cell_type": "code",
   "execution_count": null,
   "metadata": {},
   "outputs": [],
   "source": [
    "#Aumentamos el brillo un 30%\n",
    "imgGrayMod = np.round(np.clip(imgGrayMod + (255*0.30), 0, 255))\n",
    "plotter(imgGrayMod, grayScale = True, step=100)"
   ]
  },
  {
   "cell_type": "markdown",
   "metadata": {},
   "source": [
    "## Hough - Líneas"
   ]
  },
  {
   "cell_type": "markdown",
   "metadata": {},
   "source": [
    "Vamos a generar una máscara, para ello vamos a tomar como muestra cada uno de los bloques con el fin de obtener la mejor máscara posible."
   ]
  },
  {
   "cell_type": "code",
   "execution_count": null,
   "metadata": {},
   "outputs": [],
   "source": [
    "imgPrueba = img.copy()\n",
    "# Bloques numerados de arriba hacia abajo y de izq a derecha\n",
    "#El tercer valor es el ancho del bloque para hacer la mascara\n",
    "block1 = ((550, 980), (1350, 980), 345)\n",
    "block2 = ((1500, 1600), (2050, 1600),125)\n",
    "block3 = ((650, 2400), (1000, 2400), 750)\n",
    "block4 = ((1300, 2400), (1600, 2400), 700)\n",
    "block5 = ((1720, 2450), (1850, 2450),350)\n",
    "block6 = ((1890, 2200), (2250, 2200),800)\n",
    "blocks = [block1, block2, block3, block4, block5, block6]\n",
    "\n",
    "# Marcamos una linea roja para ver correctamente sus posiciones\n",
    "for block in blocks:\n",
    "    cv.line(imgPrueba, block[0], block[1], (255,0,0), 5)\n",
    "\n",
    "plotter(imgPrueba, step = 100)"
   ]
  },
  {
   "cell_type": "markdown",
   "metadata": {},
   "source": [
    "La función createMask es una función auxiliar para poder crear la máscara. Lo que hace es itera cada uno de los bloques que se le pasa por parámetro (variable 'sample') obtiene la media y el desvío de ese bloque y suma esos valores con los valores prevíos. Sería como una especie de promedio de las medias y desvíos de todos los bloques. Finalmente la función devuelve la máscara."
   ]
  },
  {
   "cell_type": "code",
   "execution_count": null,
   "metadata": {},
   "outputs": [],
   "source": [
    "def createMask(img, samples, lowerMultiplier = 15, upperMultiplier = 6):\n",
    "    meanColors = 0\n",
    "    stdColors = 0\n",
    "    for point1, point2, blockWidth in samples:\n",
    "        colorMean, colorStd = cv.meanStdDev(img[point1[1]:point1[1] + blockWidth,point1[0]:point2[0], :])\n",
    "        meanColors += colorMean\n",
    "        stdColors += colorStd\n",
    "    meanColors /= len(samples)\n",
    "    stdColors /= len(samples)\n",
    "    return cv.inRange(img, meanColors - stdColors * lowerMultiplier,  meanColors + stdColors * upperMultiplier)"
   ]
  },
  {
   "cell_type": "code",
   "execution_count": null,
   "metadata": {},
   "outputs": [],
   "source": [
    "mask = createMask(img, blocks)\n",
    "imgWithMask = cv.bitwise_and(img, img, mask=mask)\n",
    "plotter(imgWithMask, 'Image With Mask' ,step = 100)"
   ]
  },
  {
   "cell_type": "code",
   "execution_count": null,
   "metadata": {},
   "outputs": [],
   "source": [
    "imgWithMaskGray = cv.cvtColor(imgWithMask, cv.COLOR_RGB2GRAY)\n",
    "plotter(imgWithMaskGray,'Gray Image With Mask', grayScale=True, step = 100)"
   ]
  },
  {
   "cell_type": "markdown",
   "metadata": {},
   "source": [
    "Como podemos observar la máscara que se obtuvo no es lo suficientemente buena, de todas formas 'apaga' muchas cosas que no son necesarias analizar para este caso.\n",
    "El siguiente bloque de codigo se encuentra marcado como texto, se lo utilizó para encontrar los valores óptimos que luego serán utilizados en la función HoughLinesP"
   ]
  },
  {
   "cell_type": "markdown",
   "metadata": {},
   "source": [
    "TOP_SLIDER = 100\n",
    "TOP_SLIDER_MAX = 600\n",
    "t1 = 10\n",
    "T1 = 10\n",
    "edges = 0\n",
    "\n",
    "def setT1(t1):\n",
    "    global T1\n",
    "    T1 = t1\n",
    "    print(t1)\n",
    "    if T1 < TOP_SLIDER:\n",
    "        T1 = 10\n",
    "    edges = cv.Canny(image, T1, 3*T1) \n",
    "    cv.imshow(\"canny\", edges)\n",
    "\n",
    "image = imgWithMask\n",
    "edges = cv.Canny(image, T1, 3*T1) \n",
    "cv.imshow(\"canny\", edges)\n",
    "cv.createTrackbar(\"T1\", \"canny\", t1, TOP_SLIDER_MAX, setT1)\n",
    "\n",
    "cv.waitKey(0)     \n",
    "cv.destroyAllWindows()"
   ]
  },
  {
   "cell_type": "code",
   "execution_count": null,
   "metadata": {},
   "outputs": [],
   "source": [
    "edges = cv.Canny(imgWithMask,322,940)\n",
    "plotter(edges, 'Edges', step=100)\n",
    "\n",
    "rho_step = 1\n",
    "theta_step = (np.pi/180)\n",
    "thresh = 100\n",
    "lines = cv.HoughLinesP(edges,rho_step,theta_step,thresh, None,200, 600)\n",
    "imgCopy = img.copy()\n",
    "\n",
    "# Dibujamos lo resultados\n",
    "for line in lines:\n",
    "    x1,y1,x2,y2 = line[0]\n",
    "    cv.line(imgCopy,(x1,y1),(x2,y2),(255,0,0),5)\n",
    "\n",
    "plotter(imgCopy,'Result',step=100)"
   ]
  },
  {
   "cell_type": "markdown",
   "metadata": {},
   "source": [
    "Esta función es similar a la que muestran en los videos de laboratorio, con la diferencia que permite agregar el mínimo y máximo largo de una línea, de esta forma hacemos que sea todo más visible y no haya líneas que atraviesen toda la imagen."
   ]
  },
  {
   "cell_type": "markdown",
   "metadata": {},
   "source": [
    "## Conclusiones\n",
    "\n",
    "Si bien la máscara no fue perfecta permitió encontrar parámetros buenos para luego poder encontrar las líneas de los bloques. La performance de los algoritmos es muy buena y eficiente para encontrar, en este caso, las líneas de todos los bloques."
   ]
  }
 ],
 "metadata": {
  "kernelspec": {
   "display_name": "Python 3",
   "language": "python",
   "name": "python3"
  },
  "language_info": {
   "codemirror_mode": {
    "name": "ipython",
    "version": 3
   },
   "file_extension": ".py",
   "mimetype": "text/x-python",
   "name": "python",
   "nbconvert_exporter": "python",
   "pygments_lexer": "ipython3",
   "version": "3.7.6"
  }
 },
 "nbformat": 4,
 "nbformat_minor": 4
}
