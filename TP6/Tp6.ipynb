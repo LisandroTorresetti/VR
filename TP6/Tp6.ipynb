{
 "cells": [
  {
   "cell_type": "markdown",
   "metadata": {},
   "source": [
    "# Trabajo práctico 6 - Transformada de Hough\n",
    "\n",
    "**Alumnos:**\n",
    "\n",
    "- Carol lugones Ignacio (100073)\n",
    "- Torresetti Lisandro (99846)"
   ]
  },
  {
   "cell_type": "markdown",
   "metadata": {},
   "source": [
    "## Objetivo\n",
    "\n",
    "Sobre la imagen de los bloques se pide encontrar las líneas principales que definen a dichos bloques utilizando la transformada de Hough (se pueden realizar procesamientos previos para mejorar la imagen de bordes, ajuste de histograma, filtrado, variantes de binarización, variantes de detección de borde, etc)\n",
    "\n",
    "**Actividad extra propuesta:** Ajustar rectángulos por transformada de Hough. En los recursos teóricos de la semana \"Características locales y Transformada de Hough\" hay subido un paper orientativo.\n"
   ]
  },
  {
   "cell_type": "code",
   "execution_count": null,
   "metadata": {},
   "outputs": [],
   "source": [
    "import cv2 as cv\n",
    "import numpy as np\n",
    "import matplotlib.pyplot as plt\n",
    "from glob import glob\n",
    "%matplotlib inline"
   ]
  },
  {
   "cell_type": "code",
   "execution_count": null,
   "metadata": {},
   "outputs": [],
   "source": [
    "def plotter(image, title = '', imgSize = (18,9), grayScale = False, step = 25): #Funcion auxiliar para realizar los graficos\n",
    "    plt.figure(figsize=imgSize)\n",
    "    plt.title(title, fontsize = 16, fontweight = \"bold\")\n",
    "    plt.imshow(image) if not grayScale else plt.imshow(image, cmap='gray', vmin=0, vmax=255)\n",
    "    plt.yticks(np.arange(0, len(image), step))\n",
    "    plt.xticks(np.arange(0, len(image[0]), step), rotation=90)\n",
    "    plt.show()  "
   ]
  },
  {
   "cell_type": "code",
   "execution_count": null,
   "metadata": {},
   "outputs": [],
   "source": [
    "#Cargamos la imagen a analizar\n",
    "img = cv.imread('bloques1.jpg')\n",
    "img = cv.cvtColor(img, cv.COLOR_BGR2RGB)\n",
    "imgGray = cv.cvtColor(img, cv.COLOR_RGB2GRAY)\n",
    "imgWidth = img.shape[1]\n",
    "imgHeight = img.shape[0]\n",
    "\n",
    "print(\"Img Width: {} \\t Img Height: {}\".format(imgWidth, imgHeight))\n",
    "plotter(img, 'Original Image', step=100)\n",
    "plotter(imgGray, 'Original Image in Gray Scale', grayScale=True, step=100)"
   ]
  },
  {
   "cell_type": "markdown",
   "metadata": {},
   "source": [
    "Opciones Lineas:\n",
    "\n",
    "1. Podriamos hacer una mascara con el color de uno de los bloques asi solo resaltamos esas cosas y los otros los mandamos a color negro (tener cuidado con esa L de madera, podriamos obtener cual es su color y si es ese mandarlo a negro)\n",
    "\n",
    "2. Aplicando binarizacion seria similar, pero queremos que solo queden las cosas de madera, habria que ver como mandar eso a blanco y el resto a negro o viceversa\n",
    "\n",
    "3. Hay ciertos bloques que tienen como un serrucho en sus bordes, podemos mejorar eso usando lo del histograma\n",
    "\n",
    "4. Podemos hacer un recorte de la imagen para solo quedarnos con la parte verde donde estan los bloques, PERO creo que tiene la contra que despues para marcar las lineas en la imagen original vamos a tener problemas\n",
    "\n",
    "Opciones Circulos:\n",
    "\n",
    "En este caso creo que si o si tenemos que recortar esa parte para tenerla a mayor escala, despues aplicar lo de los circulos, podriamos hacer algo para sacar los radios asi no tenemos que iterar hasta encontrar un valor optimo"
   ]
  },
  {
   "cell_type": "markdown",
   "metadata": {},
   "source": [
    "## Hough - Líneas"
   ]
  },
  {
   "cell_type": "markdown",
   "metadata": {},
   "source": [
    "## Opción 1"
   ]
  },
  {
   "cell_type": "code",
   "execution_count": null,
   "metadata": {},
   "outputs": [],
   "source": [
    "imgPrueba = img.copy()\n",
    "# Bloques numerados de arriba hacia abajo y de izq a derecha\n",
    "block1 = ((550, 1200), (1200, 1200))\n",
    "block2 = ((1500, 1600), (2100, 1600))\n",
    "block3 = ((650, 2600), (900, 2600))\n",
    "block4 = ((1350, 2600), (1600, 2600))\n",
    "block5 = ((1720, 2600), (1850, 2600))\n",
    "block6 = ((1952, 2600), (2250, 2600))\n",
    "\n",
    "blocks = [block1, block2, block3, block4, block5, block6]\n",
    "# Marcamos una linea roja para ver correctamente sus posiciones\n",
    "for block in blocks:\n",
    "    cv.line(imgPrueba, block[0], block[1], (255,0,0), 5)\n",
    "\n",
    "plotter(imgPrueba, step = 100)"
   ]
  },
  {
   "cell_type": "code",
   "execution_count": null,
   "metadata": {},
   "outputs": [],
   "source": [
    "def createMask(img, samples, lowerMultiplier = 15, upperMultiplier = 10):\n",
    "    meanColors = 0\n",
    "    stdColors = 0\n",
    "    for point1, point2 in samples:\n",
    "        colorMean, colorStd = cv.meanStdDev(img[point1[1]:point1[1] + 100,point1[0]:point2[0], :])\n",
    "        meanColors += colorMean\n",
    "        stdColors += colorStd\n",
    "    meanColors /= len(samples)\n",
    "    stdColors /= len(samples)\n",
    "    return cv.inRange(img, meanColors - stdColors * lowerMultiplier,  meanColors + stdColors * upperMultiplier)"
   ]
  },
  {
   "cell_type": "code",
   "execution_count": null,
   "metadata": {},
   "outputs": [],
   "source": [
    "mask = createMask(img, blocks)\n",
    "imgWithMask = cv.bitwise_and(img, img, mask=mask)\n",
    "plotter(imgWithMask, 'Image With Mask' ,step = 100)"
   ]
  },
  {
   "cell_type": "code",
   "execution_count": null,
   "metadata": {},
   "outputs": [],
   "source": [
    "# Obtenemos los bordes por Canny\n",
    "#===============================\n",
    "edges = cv.Canny(imgGray,150,160,apertureSize = 3)\n",
    "plotter(edges, 'Edges')\n",
    "\n",
    "# Obtenemos las líneas por la transformada de Hough\n",
    "#==================================================\n",
    "rho_step = 1 # Tocar estos parametros\n",
    "theta_step = (np.pi/180)*5 # Cada 5 grados hace la votacion\n",
    "thresh = 60\n",
    "lines = cv.HoughLines(edges,rho_step,theta_step,thresh)\n",
    "\n",
    "# Dibujamos lo resultados\n",
    "#========================\n",
    "# creo que en vez de 1000 va width para X y height para y\n",
    "for line in lines:\n",
    "    rho,theta = line[0]\n",
    "    a = np.cos(theta)\n",
    "    b = np.sin(theta)\n",
    "    x0 = a*rho\n",
    "    y0 = b*rho\n",
    "    x1 = int(x0 + 1000*(-b))\n",
    "    y1 = int(y0 + 1000*(a))\n",
    "    x2 = int(x0 - 1000*(-b))\n",
    "    y2 = int(y0 - 1000*(a))\n",
    "    cv.line(img,(x1,y1),(x2,y2),(0,0,255),1)\n",
    "#cv.imwrite('houghlines3.jpg',img)\n",
    "#plt.figure(figsize=(20,20))\n",
    "plt.imshow(img)\n",
    "plt.show()"
   ]
  },
  {
   "cell_type": "markdown",
   "metadata": {},
   "source": [
    "## Hough - Círculos"
   ]
  },
  {
   "cell_type": "code",
   "execution_count": null,
   "metadata": {},
   "outputs": [],
   "source": [
    "# Obtenemos el sector de la imagen donde se encuentra la botonera\n",
    "buttons = img[800:1650, 2700:,:]\n",
    "buttonsGray = cv.cvtColor(buttons, cv.COLOR_RGB2GRAY)\n",
    "plotter(buttons, 'Buttons', step = 25)\n",
    "plotter(buttonsGray, 'Buttons in Gray Scale',grayScale=True, step = 25)\n",
    "\n",
    "#Si tratamos de mover la imagen como para verla bien de arriba? falopa pero copado seria una transf proyectiva"
   ]
  },
  {
   "cell_type": "code",
   "execution_count": null,
   "metadata": {},
   "outputs": [],
   "source": [
    "buttons.shape"
   ]
  },
  {
   "cell_type": "code",
   "execution_count": null,
   "metadata": {},
   "outputs": [],
   "source": [
    "buttonsCopy = buttons.copy()\n",
    "# Punto 1\n",
    "P1 = (75, 135)\n",
    "P2 = (280, 145)\n",
    "P3 = (50, 800)\n",
    "P4 = (280, 800)\n",
    "#P1 = (125, 225)\n",
    "#P2 = (280, 225)\n",
    "#P3 = (125, 715)\n",
    "#P4 = (280, 715)\n",
    "cv.circle(buttonsCopy,P1,10,(255,0,0),2,cv.LINE_AA)\n",
    "cv.circle(buttonsCopy,P2,10,(255,0,0),2,cv.LINE_AA)\n",
    "cv.circle(buttonsCopy,P3,10,(255,0,0),2,cv.LINE_AA)\n",
    "cv.circle(buttonsCopy,P4,10,(255,0,0),2,cv.LINE_AA)\n",
    "plotter(buttonsCopy)"
   ]
  },
  {
   "cell_type": "code",
   "execution_count": null,
   "metadata": {},
   "outputs": [],
   "source": [
    "# Para la transformación proyectiva necesitamos cuatro puntos. Usamos los puntos P1, P2, P3 y P4\n",
    "\n",
    "# Puntos de origen\n",
    "pts1 = np.float32([[P1[0],P1[1]],[P2[0],P2[1]],[P3[0],P3[1]],[P4[0],P4[1]]])\n",
    "# Puntos de destino (adonde se mapean)\n",
    "pts2 = np.float32([[10, 100],[250, 100],[10,800],[250,800]])\n",
    "\n",
    "rows, cols = buttonsCopy.shape[:2]\n",
    "M = cv.getPerspectiveTransform(pts1,pts2)\n",
    "dst = cv.warpPerspective(buttonsCopy,M,(cols,rows))\n",
    "\n",
    "#plt.figure()\n",
    "#plt.subplot(121),plt.imshow(img,cmap='gray'),plt.title('Entrada')\n",
    "#plt.subplot(122),plt.imshow(dst,cmap='gray'),plt.title('Salida')\n",
    "#plt.show()\n"
   ]
  },
  {
   "cell_type": "code",
   "execution_count": null,
   "metadata": {},
   "outputs": [],
   "source": [
    "plotter(dst)"
   ]
  }
 ],
 "metadata": {
  "kernelspec": {
   "display_name": "Python 3",
   "language": "python",
   "name": "python3"
  },
  "language_info": {
   "codemirror_mode": {
    "name": "ipython",
    "version": 3
   },
   "file_extension": ".py",
   "mimetype": "text/x-python",
   "name": "python",
   "nbconvert_exporter": "python",
   "pygments_lexer": "ipython3",
   "version": "3.7.6"
  }
 },
 "nbformat": 4,
 "nbformat_minor": 4
}
