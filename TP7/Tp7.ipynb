{
 "cells": [
  {
   "cell_type": "markdown",
   "metadata": {},
   "source": [
    "# Trabajo práctico 7 - Contornos\n",
    "\n",
    "**Alumnos:**\n",
    "\n",
    "- Carol lugones Ignacio (100073)\n",
    "- Torresetti Lisandro (99846)"
   ]
  },
  {
   "cell_type": "markdown",
   "metadata": {},
   "source": [
    "## Objetivo\n",
    "\n",
    "Sobre la imagen de los bloques de la semana pasada encontrar los mismos y obtener los parámetros de área, perímetro y orientación. Adicionalmente indicar la relación de aspecto (largo Vs. ancho) de cada uno. Comparar los datos obtenidos obtenidos para cada bloque entre sí."
   ]
  },
  {
   "cell_type": "code",
   "execution_count": null,
   "metadata": {},
   "outputs": [],
   "source": [
    "import cv2 as cv\n",
    "import numpy as np\n",
    "import matplotlib.pyplot as plt\n",
    "from glob import glob\n",
    "%matplotlib inline"
   ]
  },
  {
   "cell_type": "code",
   "execution_count": null,
   "metadata": {},
   "outputs": [],
   "source": [
    "def plotter(image, title = '', imgSize = (18,9), grayScale = False, step = 100): #Funcion auxiliar para realizar los graficos\n",
    "    plt.figure(figsize=imgSize)\n",
    "    plt.title(title, fontsize = 16, fontweight = \"bold\")\n",
    "    plt.imshow(image) if not grayScale else plt.imshow(image, cmap='gray', vmin=0, vmax=255)\n",
    "    plt.yticks(np.arange(0, len(image), step))\n",
    "    plt.xticks(np.arange(0, len(image[0]), step), rotation=90)\n",
    "    plt.show()  "
   ]
  },
  {
   "cell_type": "code",
   "execution_count": null,
   "metadata": {
    "scrolled": true
   },
   "outputs": [],
   "source": [
    "#Cargamos la imagen a analizar\n",
    "img = cv.imread('bloques1.jpg')\n",
    "imgGray = cv.imread('bloques1.jpg', 0)\n",
    "img = cv.cvtColor(img, cv.COLOR_BGR2RGB)\n",
    "#img = cv.medianBlur(img,5) #Para eliminar los posibles ruidos\n",
    "imgWidth = img.shape[1]\n",
    "imgHeight = img.shape[0]\n",
    "\n",
    "print(\"Img Width: {} \\t Img Height: {}\".format(imgWidth, imgHeight))\n",
    "plotter(img, 'Original Image')\n",
    "plotter(imgGray, 'Original Image Grayscale', grayScale=True)"
   ]
  },
  {
   "cell_type": "code",
   "execution_count": null,
   "metadata": {
    "scrolled": true
   },
   "outputs": [],
   "source": [
    "#Extraemos la parte que nos interesa analizar, o sea la tabla verde con los bloques\n",
    "imgCut = img[800:3300, 200:2400, :]\n",
    "imgCutGray = imgGray[800:3300, 200:2400]\n",
    "plotter(imgCut, 'Image Cutted')\n",
    "plotter(imgCutGray, 'Image Cutted Gray Scale', grayScale=True)"
   ]
  },
  {
   "cell_type": "markdown",
   "metadata": {},
   "source": [
    "A diferencia del tp anterior, en este caso no vamos a tomar en cuenta el bloque que se encuentra tapado por los otros bloques, así que sus valores de media y desvío no se analizarán."
   ]
  },
  {
   "cell_type": "code",
   "execution_count": null,
   "metadata": {},
   "outputs": [],
   "source": [
    "imgPrueba = img.copy()\n",
    "# Bloques numerados de arriba hacia abajo y de izq a derecha\n",
    "#El tercer valor es el ancho del bloque para hacer la mascara\n",
    "block1 = ((550, 980), (1350, 980), 345)\n",
    "block2 = ((1500, 1600), (2050, 1600),125)\n",
    "block3 = ((650, 2400), (1000, 2400), 750)\n",
    "block4 = ((1300, 2400), (1600, 2400), 700)\n",
    "block6 = ((1890, 2200), (2250, 2200),800)\n",
    "blocks = [block1, block2, block3, block4, block6]\n",
    "\n",
    "# Marcamos una linea roja para ver correctamente sus posiciones\n",
    "for block in blocks:\n",
    "    cv.line(imgPrueba, block[0], block[1], (255,0,0), 5)\n",
    "\n",
    "plotter(imgPrueba, step = 100)"
   ]
  },
  {
   "cell_type": "code",
   "execution_count": null,
   "metadata": {},
   "outputs": [],
   "source": [
    "def createMask(img, samples, lowerMultiplier = 15, upperMultiplier = 6):\n",
    "    meanColors = 0\n",
    "    stdColors = 0\n",
    "    for point1, point2, blockWidth in samples:\n",
    "        colorMean, colorStd = cv.meanStdDev(img[point1[1]:point1[1] + blockWidth,point1[0]:point2[0], :])\n",
    "        meanColors += colorMean\n",
    "        stdColors += colorStd\n",
    "    meanColors /= len(samples)\n",
    "    stdColors /= len(samples)\n",
    "    return cv.inRange(img, meanColors - stdColors * lowerMultiplier,  meanColors + stdColors * upperMultiplier)"
   ]
  },
  {
   "cell_type": "code",
   "execution_count": null,
   "metadata": {},
   "outputs": [],
   "source": [
    "mask = createMask(img, blocks, 7)\n",
    "imgWithMask = cv.bitwise_and(img, img, mask=mask)\n",
    "plotter(imgWithMask, 'Image With Mask' ,step = 100)"
   ]
  },
  {
   "cell_type": "code",
   "execution_count": null,
   "metadata": {},
   "outputs": [],
   "source": [
    "imgWithMaskGray = cv.cvtColor(imgWithMask, cv.COLOR_RGB2GRAY)\n",
    "imgWithMaskGray = imgWithMaskGray[800:3300, 200:2400]\n",
    "plotter(imgWithMaskGray,'Gray Image With Mask', grayScale=True, step = 100)"
   ]
  },
  {
   "cell_type": "code",
   "execution_count": null,
   "metadata": {},
   "outputs": [],
   "source": [
    "#Aplicamos un filtro de mediana a las dos imagenes para eliminar los ruidos\n",
    "imgCutGray = cv.medianBlur(imgCutGray, 5)\n",
    "imgWithMaskGray = cv.medianBlur(imgWithMaskGray, 5)\n",
    "plotter(imgCutGray, 'Cut',grayScale=True)\n",
    "plotter(imgWithMaskGray, 'Mask',grayScale=True)"
   ]
  },
  {
   "cell_type": "code",
   "execution_count": null,
   "metadata": {},
   "outputs": [],
   "source": [
    "IMGS = [imgCutGray, imgWithMaskGray] #Estas son las imagenes que vamos a analizar\n",
    "NAMES = ['Original', 'With Mask']"
   ]
  },
  {
   "cell_type": "markdown",
   "metadata": {},
   "source": [
    "Binarizamos todas las imágenes con el algoritmo de Otsu, ya que las operaciones morfológicas se aplican sobre imágenes binarias. Antes de hacer esto primero graficamos los histogramas para analizar mejor las imágenes"
   ]
  },
  {
   "cell_type": "code",
   "execution_count": null,
   "metadata": {},
   "outputs": [],
   "source": [
    "def plotHistograms(imgs, bins = 50):\n",
    "    fig, axs = plt.subplots(len(imgs))\n",
    "    fig.suptitle('Histograms', fontsize=18, fontweight='bold')\n",
    "    for imgNum,img in enumerate(imgs):\n",
    "        axs[imgNum].set_title(NAMES[imgNum], fontsize = 16, fontweight='bold')\n",
    "        axs[imgNum].grid()\n",
    "        axs[imgNum].hist(img.ravel(),bins,[0,256], color='orange')\n",
    "    \n",
    "    fig.set_size_inches(10, 8)\n",
    "    fig.tight_layout(pad=3.0)"
   ]
  },
  {
   "cell_type": "code",
   "execution_count": null,
   "metadata": {},
   "outputs": [],
   "source": [
    "plotHistograms([imgCutGray, imgWithMaskGray])"
   ]
  },
  {
   "cell_type": "markdown",
   "metadata": {},
   "source": [
    "Observamos que los valores de threshold de 127 funcionará bien para ambas imágenes. Este valor lo ponemos como parámetro opcional en la siguiente función."
   ]
  },
  {
   "cell_type": "code",
   "execution_count": null,
   "metadata": {},
   "outputs": [],
   "source": [
    "def otsuBinarization(imgs, thresh = 127):\n",
    "    result = []\n",
    "    for imgNum, img in enumerate(imgs):\n",
    "        ret, imgBin = cv.threshold(img,thresh,255,cv.THRESH_BINARY+cv.THRESH_OTSU)\n",
    "        plotter(imgBin,NAMES[imgNum], grayScale=True)\n",
    "        result.append(imgBin)\n",
    "    return result"
   ]
  },
  {
   "cell_type": "code",
   "execution_count": null,
   "metadata": {},
   "outputs": [],
   "source": [
    "imgBin, imgMaskBin = otsuBinarization([imgCutGray, imgWithMaskGray])"
   ]
  },
  {
   "cell_type": "markdown",
   "metadata": {},
   "source": [
    "Se pueden apreciar diferencias entre ambas binarizaciones. Dado que la opción con la máscara eliminó de mejor manera el bloque tapado, a partir de ahora utilizaremos esta imagen para realizar las operaciones y los análisis correspondientes."
   ]
  },
  {
   "cell_type": "markdown",
   "metadata": {},
   "source": [
    "A continuación realizaremos varias operaciones morfológicas para ver los resultados de cada una, así luego las refinamos para eliminar efectivamente el bloque que se encuentra tapado."
   ]
  },
  {
   "cell_type": "code",
   "execution_count": null,
   "metadata": {
    "scrolled": false
   },
   "outputs": [],
   "source": [
    "#PRUEBAS DE OPERACIONES MORFOLOGICAS\n",
    "imgTest = imgMaskBin.copy()\n",
    "\n",
    "# Erode\n",
    "kernelErode = np.ones((9,10), np.uint8)\n",
    "plotter(cv.erode(imgTest, kernelErode), 'Erode', grayScale=True)\n",
    "\n",
    "# Dilate\n",
    "kernelDilate =np.ones((15,15), np.uint8)\n",
    "plotter(cv.dilate(imgTest, kernelDilate), 'Dilate', grayScale=True)\n",
    "\n",
    "# Opening\n",
    "kernelOpening = np.ones((30,30), np.uint8)\n",
    "plotter(cv.morphologyEx(imgTest, cv.MORPH_OPEN, kernelOpening),  'Opening', grayScale=True)\n",
    "\n",
    "# Closing\n",
    "kernelClosing = np.ones((30,30), np.uint8)\n",
    "plotter(cv.morphologyEx(imgTest, cv.MORPH_CLOSE, kernelClosing), 'Closing', grayScale=True)\n",
    "\n",
    "# Multiple Erosions and Dilations\n",
    "\n",
    "kernelErotion2 = np.ones((15,15), np.uint8)\n",
    "kernelDilation2 = np.ones((15,10), np.uint8)\n",
    "imgTest2 = imgTest.copy()\n",
    "\n",
    "imgTest2 = cv.erode(imgTest2, kernelErotion2, iterations=2)\n",
    "imgTest2 = cv.dilate(imgTest2, kernelDilation2, iterations=5)\n",
    "plotter(imgTest2, 'Multiple Operations', grayScale=True)\n"
   ]
  },
  {
   "cell_type": "markdown",
   "metadata": {},
   "source": [
    "De las operaciones anteriores la que mejor deja los bordes de los bloques es la dilatación, buscaremos mejorar el kernel para conseguir un mejor resultado."
   ]
  },
  {
   "cell_type": "code",
   "execution_count": null,
   "metadata": {},
   "outputs": [],
   "source": [
    "# TESTING\n",
    "testing = imgMaskBin.copy()\n",
    "#kernelErode = np.ones((10,1), np.uint8)\n",
    "#testing = cv.erode(testing, kernelErode, iterations = 5)\n",
    "kernelDilate = np.ones((2,4), np.uint8)\n",
    "testing = cv.dilate(testing, kernelDilate, iterations=2)\n",
    "plotter(testing, 'Dilate Modified', grayScale=True)"
   ]
  },
  {
   "cell_type": "code",
   "execution_count": null,
   "metadata": {},
   "outputs": [],
   "source": [
    "imgDilated = cv.dilate(imgMaskBin.copy(), kernelDilate, iterations=2)\n",
    "contours, hier = cv.findContours(imgDilated, cv.RETR_TREE, cv.CHAIN_APPROX_SIMPLE)\n",
    "out = imgCut.copy()\n",
    "cv.drawContours(out, contours, -1, (255,0,0),5)\n",
    "plotter(out)"
   ]
  },
  {
   "cell_type": "markdown",
   "metadata": {},
   "source": [
    "Para eliminar los contornos no deseados, como los puntos rojos o curvas raras que se ven, vamos a calcular el área y desechar los contornos que tengan un valor menor que la media."
   ]
  },
  {
   "cell_type": "code",
   "execution_count": null,
   "metadata": {},
   "outputs": [],
   "source": [
    "def getAspectRatio(contour):\n",
    "    x,y,width,height = cv.boundingRect(contour)\n",
    "    return float(width) / height\n",
    "\n",
    "def getCentroid(moment, area):\n",
    "    return (int(moment['m10'] / area), int(moment['m01'] / area))\n",
    "\n",
    "def getOrientation(contour):\n",
    "    return cv.fitEllipse(contour)"
   ]
  },
  {
   "cell_type": "code",
   "execution_count": null,
   "metadata": {},
   "outputs": [],
   "source": [
    "# Para mas info https://en.wikipedia.org/wiki/Image_moment\n",
    "AREA = 0 #Para saber en que posicion del array que guarda el diccionario se encuentra la info deseada\n",
    "PERIMETER = 1\n",
    "CENTER = 2\n",
    "ASPECT_RELATION = 3\n",
    "ORIENTATION = 4\n",
    "CONTOUR = 5\n",
    "\n",
    "def getContoursInfo(contours):\n",
    "    contoursArea = []\n",
    "    contoursPerimeter = []\n",
    "    contoursCenter = []\n",
    "\n",
    "    for ctr in contours:\n",
    "        moment = cv.moments(ctr)\n",
    "        area = moment['m00']\n",
    "        contoursArea.append(area)\n",
    "        contoursPerimeter.append(cv.arcLength(ctr,True))\n",
    "        contoursCenter.append(getCentroid(moment, area))\n",
    "\n",
    "    contoursAreaMean = np.mean(contoursArea)\n",
    "\n",
    "    contoursInfo = {}  \n",
    "    contourNum = 1\n",
    "    for area, perimeter, center, contour in  zip(contoursArea, contoursPerimeter, contoursCenter, contours):\n",
    "        if area >= contoursAreaMean:\n",
    "            contoursInfo[contourNum] = [area, perimeter, center, getAspectRatio(contour),\n",
    "                                        getOrientation(contour), contour]\n",
    "            contourNum += 1\n",
    "            \n",
    "    return contoursInfo"
   ]
  },
  {
   "cell_type": "code",
   "execution_count": null,
   "metadata": {},
   "outputs": [],
   "source": [
    "contoursInfo = getContoursInfo(contours)\n",
    "\n",
    "def printResults(contoursInfo):\n",
    "    print('RESULTS')\n",
    "    for key, value in contoursInfo.items():\n",
    "        print('''\n",
    "                Block Num: {}\n",
    "\n",
    "                    Area: {}\n",
    "                    Perimeter: {}\n",
    "                    Centroid: {}\n",
    "                    Aspect Relation: {}\n",
    "                    Orientation: {}\n",
    "                '''.format(key, value[AREA], value[PERIMETER], value[CENTER], value[ASPECT_RELATION],\n",
    "                          value[ORIENTATION][2]))\n",
    "    "
   ]
  },
  {
   "cell_type": "markdown",
   "metadata": {},
   "source": [
    "Para saber que bloque posee esos valores los numeraremos en la siguiente imagen, además agregamos un punto blanco que muestra donde se encuentra el centro de bloque."
   ]
  },
  {
   "cell_type": "code",
   "execution_count": null,
   "metadata": {},
   "outputs": [],
   "source": [
    "out = imgCut.copy()\n",
    "font = cv.FONT_HERSHEY_SIMPLEX\n",
    "for key, value in contoursInfo.items():\n",
    "    contour = value[CONTOUR]\n",
    "    cv.putText(out, str(key), value[CENTER], font, 5, (0, 0, 0), 10, cv.LINE_AA)\n",
    "    cv.circle(out, value[CENTER], radius=15, color=(255, 255, 255), thickness=-3)\n",
    "    approx = cv.approxPolyDP(contour, 0.1 * cv.arcLength(contour, True), True)\n",
    "    cv.drawContours(out, [approx], 0, (255, 0, 0), 10)\n",
    "    x = approx.ravel()[0]\n",
    "    y = approx.ravel()[1] - 5\n",
    "plotter(out)"
   ]
  },
  {
   "cell_type": "code",
   "execution_count": null,
   "metadata": {},
   "outputs": [],
   "source": [
    "# Dibujamos las elipese que se obtuvieron al calcular la orientacion mas arriba\n",
    "out = imgCut.copy()\n",
    "font = cv.FONT_HERSHEY_SIMPLEX\n",
    "for key, value in contoursInfo.items():\n",
    "    contour = value[CONTOUR]\n",
    "    center, axes, angle = value[ORIENTATION]\n",
    "    center = (int(center[0]), int(center[1]))\n",
    "    axes = (int(axes[0]), int(axes[1]))\n",
    "    cv.putText(out, str(key), value[CENTER], font, 5, (0, 0, 0), 10, cv.LINE_AA)\n",
    "    approx = cv.approxPolyDP(contour, 0.1 * cv.arcLength(contour, True), True)\n",
    "    #cv2.ellipse(image, center, axes, angle, 0., 360, (0,0,255))\n",
    "    \n",
    "    cv.ellipse(out,center,axes,angle,0.,360,(0,0,0), 5)\n",
    "    cv.drawContours(out, [approx], 0, (255, 0, 0), 10)\n",
    "    x = approx.ravel()[0]\n",
    "    y = approx.ravel()[1] - 5\n",
    "plotter(out)"
   ]
  },
  {
   "cell_type": "code",
   "execution_count": null,
   "metadata": {},
   "outputs": [],
   "source": [
    "printResults(contoursInfo)"
   ]
  },
  {
   "cell_type": "markdown",
   "metadata": {},
   "source": [
    "## Conclusiones\n",
    "\n",
    "El bloque con mayor área es el número 3, esto se puede deber a que el bloque se encuentra más arriba que los otros por lo que esta más cerca del punto en el cual se tomó la foto. Al ser el que posee el área más grande se esperaba que también su perímetro lo fuera.\n",
    "\n",
    "Con respecto a los algoritmos utilizados se pudo apreciar lo eficiente y simples que son las operaciones morfológicas para restaurar partes de la imagen (cuando los bloques tenían puntos negros en su interior o las esquinas no estaban bien definidas) o borrarlas (como fue el caso del bloque que se encontraba tapado que se lo descartó).\n",
    "\n",
    "Otra cosa que llamó la atención es toda la información que se puede obtener a partir de los contornos."
   ]
  }
 ],
 "metadata": {
  "kernelspec": {
   "display_name": "Python 3",
   "language": "python",
   "name": "python3"
  },
  "language_info": {
   "codemirror_mode": {
    "name": "ipython",
    "version": 3
   },
   "file_extension": ".py",
   "mimetype": "text/x-python",
   "name": "python",
   "nbconvert_exporter": "python",
   "pygments_lexer": "ipython3",
   "version": "3.7.6"
  }
 },
 "nbformat": 4,
 "nbformat_minor": 4
}
