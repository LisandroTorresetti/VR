{
 "cells": [
  {
   "cell_type": "markdown",
   "metadata": {},
   "source": [
    "# Trabajo práctico 7 - Contornos\n",
    "\n",
    "**Alumnos:**\n",
    "\n",
    "- Carol lugones Ignacio (100073)\n",
    "- Torresetti Lisandro (99846)"
   ]
  },
  {
   "cell_type": "markdown",
   "metadata": {},
   "source": [
    "## Objetivo\n",
    "\n",
    "Sobre la imagen de los bloques de la semana pasada encontrar los mismos y obtener los parámetros de área, perímetro y orientación. Adicionalmente indicar la relación de aspecto (largo Vs. ancho) de cada uno. Comparar los datos obtenidos obtenidos para cada bloque entre sí."
   ]
  },
  {
   "cell_type": "code",
   "execution_count": null,
   "metadata": {},
   "outputs": [],
   "source": [
    "import cv2 as cv\n",
    "import numpy as np\n",
    "import matplotlib.pyplot as plt\n",
    "from glob import glob\n",
    "%matplotlib inline"
   ]
  },
  {
   "cell_type": "code",
   "execution_count": null,
   "metadata": {},
   "outputs": [],
   "source": [
    "def plotter(image, title = '', imgSize = (18,9), grayScale = False, step = 100): #Funcion auxiliar para realizar los graficos\n",
    "    plt.figure(figsize=imgSize)\n",
    "    plt.title(title, fontsize = 16, fontweight = \"bold\")\n",
    "    plt.imshow(image) if not grayScale else plt.imshow(image, cmap='gray', vmin=0, vmax=255)\n",
    "    plt.yticks(np.arange(0, len(image), step))\n",
    "    plt.xticks(np.arange(0, len(image[0]), step), rotation=90)\n",
    "    plt.show()  "
   ]
  },
  {
   "cell_type": "code",
   "execution_count": null,
   "metadata": {},
   "outputs": [],
   "source": [
    "#Cargamos la imagen a analizar\n",
    "img = cv.imread('bloques1.jpg')\n",
    "imgGray = cv.imread('bloques1.jpg', 0)\n",
    "img = cv.cvtColor(img, cv.COLOR_BGR2RGB)\n",
    "#img = cv.medianBlur(img,5) #Para eliminar los posibles ruidos\n",
    "imgWidth = img.shape[1]\n",
    "imgHeight = img.shape[0]\n",
    "\n",
    "print(\"Img Width: {} \\t Img Height: {}\".format(imgWidth, imgHeight))\n",
    "plotter(img, 'Original Image')\n",
    "plotter(imgGray, 'Original Image Grayscale', grayScale=True)"
   ]
  },
  {
   "cell_type": "code",
   "execution_count": null,
   "metadata": {},
   "outputs": [],
   "source": [
    "#Extraemos la parte que nos interesa analizar, o sea la tabla verde con los bloques\n",
    "imgCut = img[800:3300, 200:2400, :]\n",
    "imgCutGray = imgGray[800:3300, 200:2400]\n",
    "plotter(imgCut, 'Image Cutted')\n",
    "plotter(imgCutGray, 'Image Cutted Gray Scale', grayScale=True)"
   ]
  },
  {
   "cell_type": "code",
   "execution_count": null,
   "metadata": {},
   "outputs": [],
   "source": [
    "#Ecualizamos el histograma de la imagen que cargamos en escala de grises\n",
    "imgGrayMod = cv.equalizeHist(imgCutGray.copy())\n",
    "plotter(imgGrayMod, 'Equalized', grayScale = True, step=100)"
   ]
  },
  {
   "cell_type": "code",
   "execution_count": null,
   "metadata": {},
   "outputs": [],
   "source": [
    "#Aumentamos el brillo un 30%\n",
    "imgGrayMod = imgGrayMod + (255*0.30)\n",
    "plotter(imgGrayMod, grayScale = True, step=100)"
   ]
  },
  {
   "cell_type": "code",
   "execution_count": null,
   "metadata": {},
   "outputs": [],
   "source": [
    "imgPrueba = img.copy()\n",
    "# Bloques numerados de arriba hacia abajo y de izq a derecha\n",
    "#El tercer valor es el ancho del bloque para hacer la mascara\n",
    "block1 = ((550, 980), (1350, 980), 345)\n",
    "block2 = ((1500, 1600), (2050, 1600),125)\n",
    "block3 = ((650, 2400), (1000, 2400), 750)\n",
    "block4 = ((1300, 2400), (1600, 2400), 700)\n",
    "block5 = ((1720, 2450), (1850, 2450),350)\n",
    "block6 = ((1890, 2200), (2250, 2200),800)\n",
    "blocks = [block1, block2, block3, block4, block5, block6]\n",
    "\n",
    "# Marcamos una linea roja para ver correctamente sus posiciones\n",
    "for block in blocks:\n",
    "    cv.line(imgPrueba, block[0], block[1], (255,0,0), 5)\n",
    "\n",
    "plotter(imgPrueba, step = 100)"
   ]
  },
  {
   "cell_type": "code",
   "execution_count": null,
   "metadata": {},
   "outputs": [],
   "source": [
    "def createMask(img, samples, lowerMultiplier = 15, upperMultiplier = 6):\n",
    "    meanColors = 0\n",
    "    stdColors = 0\n",
    "    for point1, point2, blockWidth in samples:\n",
    "        colorMean, colorStd = cv.meanStdDev(img[point1[1]:point1[1] + blockWidth,point1[0]:point2[0], :])\n",
    "        meanColors += colorMean\n",
    "        stdColors += colorStd\n",
    "    meanColors /= len(samples)\n",
    "    stdColors /= len(samples)\n",
    "    return cv.inRange(img, meanColors - stdColors * lowerMultiplier,  meanColors + stdColors * upperMultiplier)"
   ]
  },
  {
   "cell_type": "code",
   "execution_count": null,
   "metadata": {},
   "outputs": [],
   "source": [
    "mask = createMask(img, blocks)\n",
    "imgWithMask = cv.bitwise_and(img, img, mask=mask)\n",
    "plotter(imgWithMask, 'Image With Mask' ,step = 100)"
   ]
  },
  {
   "cell_type": "code",
   "execution_count": null,
   "metadata": {},
   "outputs": [],
   "source": [
    "imgWithMaskGray = cv.cvtColor(imgWithMask, cv.COLOR_RGB2GRAY)\n",
    "imgWithMaskGray = imgWithMaskGray[800:3300, 200:2400]\n",
    "plotter(imgWithMaskGray,'Gray Image With Mask', grayScale=True, step = 100)"
   ]
  },
  {
   "cell_type": "markdown",
   "metadata": {},
   "source": [
    "Binarizamos todas las imágenes con el algoritmo de Otsu, ya que las aplicaciones de apertura, cierre, erosión, etc se aplican sobre imágenes binarias."
   ]
  },
  {
   "cell_type": "code",
   "execution_count": null,
   "metadata": {
    "scrolled": true
   },
   "outputs": [],
   "source": [
    "#Aplicamos un filtro de mediana a las dos imagenes para eliminar los ruidos\n",
    "imgCutGray = cv.medianBlur(imgCutGray, 5)\n",
    "imgWithMaskGray = cv.medianBlur(imgWithMaskGray, 5)\n",
    "plotter(imgCutGray, 'Cut',grayScale=True)\n",
    "plotter(imgWithMaskGray, 'Mask',grayScale=True)\n",
    "plotter(imgGrayMod, 'Modify',grayScale=True)"
   ]
  },
  {
   "cell_type": "code",
   "execution_count": null,
   "metadata": {
    "scrolled": false
   },
   "outputs": [],
   "source": [
    "# Imagen binarizada (embebida - Otsu) - Parámetros: Imag_original,umbral,valor_máximo,método\n",
    "ret, thresh = cv.threshold(imgCutGray,0,255,cv.THRESH_BINARY+cv.THRESH_OTSU)\n",
    "plotter(thresh,'Binarizada OpenCV, Otsu', grayScale=True)\n",
    "kernel = np.ones((5,5), np.uint8)\n",
    "plotter(cv.dilate(cv.erode(thresh,kernel), kernel), grayScale=True)\n",
    "plotter(cv.morphologyEx(thresh, cv.MORPH_OPEN, kernel), grayScale=True)\n",
    "kernel = np.ones ((20,20), np.uint8)\n",
    "plotter(cv.morphologyEx(thresh, cv.MORPH_CLOSE, kernel), grayScale=True)"
   ]
  }
 ],
 "metadata": {
  "kernelspec": {
   "display_name": "Python 3",
   "language": "python",
   "name": "python3"
  },
  "language_info": {
   "codemirror_mode": {
    "name": "ipython",
    "version": 3
   },
   "file_extension": ".py",
   "mimetype": "text/x-python",
   "name": "python",
   "nbconvert_exporter": "python",
   "pygments_lexer": "ipython3",
   "version": "3.7.6"
  }
 },
 "nbformat": 4,
 "nbformat_minor": 4
}
