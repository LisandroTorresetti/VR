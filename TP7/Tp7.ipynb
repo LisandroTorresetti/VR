{
 "cells": [
  {
   "cell_type": "markdown",
   "metadata": {},
   "source": [
    "# Trabajo práctico 7 - Contornos\n",
    "\n",
    "**Alumnos:**\n",
    "\n",
    "- Carol lugones Ignacio (100073)\n",
    "- Torresetti Lisandro (99846)"
   ]
  },
  {
   "cell_type": "markdown",
   "metadata": {},
   "source": [
    "## Objetivo\n",
    "\n",
    "Sobre la imagen de los bloques de la semana pasada encontrar los mismos y obtener los parámetros de área, perímetro y orientación. Adicionalmente indicar la relación de aspecto (largo Vs. ancho) de cada uno. Comparar los datos obtenidos obtenidos para cada bloque entre sí."
   ]
  },
  {
   "cell_type": "code",
   "execution_count": null,
   "metadata": {},
   "outputs": [],
   "source": [
    "import cv2 as cv\n",
    "import numpy as np\n",
    "import matplotlib.pyplot as plt\n",
    "from glob import glob\n",
    "%matplotlib inline"
   ]
  },
  {
   "cell_type": "code",
   "execution_count": null,
   "metadata": {},
   "outputs": [],
   "source": [
    "def plotter(image, title = '', imgSize = (18,9), grayScale = False, step = 100): #Funcion auxiliar para realizar los graficos\n",
    "    plt.figure(figsize=imgSize)\n",
    "    plt.title(title, fontsize = 16, fontweight = \"bold\")\n",
    "    plt.imshow(image) if not grayScale else plt.imshow(image, cmap='gray', vmin=0, vmax=255)\n",
    "    plt.yticks(np.arange(0, len(image), step))\n",
    "    plt.xticks(np.arange(0, len(image[0]), step), rotation=90)\n",
    "    plt.show()  "
   ]
  },
  {
   "cell_type": "code",
   "execution_count": null,
   "metadata": {
    "scrolled": true
   },
   "outputs": [],
   "source": [
    "#Cargamos la imagen a analizar\n",
    "img = cv.imread('bloques1.jpg')\n",
    "imgGray = cv.imread('bloques1.jpg', 0)\n",
    "img = cv.cvtColor(img, cv.COLOR_BGR2RGB)\n",
    "#img = cv.medianBlur(img,5) #Para eliminar los posibles ruidos\n",
    "imgWidth = img.shape[1]\n",
    "imgHeight = img.shape[0]\n",
    "\n",
    "print(\"Img Width: {} \\t Img Height: {}\".format(imgWidth, imgHeight))\n",
    "plotter(img, 'Original Image')\n",
    "plotter(imgGray, 'Original Image Grayscale', grayScale=True)"
   ]
  },
  {
   "cell_type": "code",
   "execution_count": null,
   "metadata": {
    "scrolled": true
   },
   "outputs": [],
   "source": [
    "#Extraemos la parte que nos interesa analizar, o sea la tabla verde con los bloques\n",
    "imgCut = img[800:3300, 200:2400, :]\n",
    "imgCutGray = imgGray[800:3300, 200:2400]\n",
    "plotter(imgCut, 'Image Cutted')\n",
    "plotter(imgCutGray, 'Image Cutted Gray Scale', grayScale=True)"
   ]
  },
  {
   "cell_type": "code",
   "execution_count": null,
   "metadata": {},
   "outputs": [],
   "source": [
    "#Ecualizamos el histograma de la imagen que cargamos en escala de grises\n",
    "imgGrayMod = cv.equalizeHist(imgCutGray.copy())\n",
    "plotter(imgGrayMod, 'Equalized', grayScale = True, step=100)"
   ]
  },
  {
   "cell_type": "code",
   "execution_count": null,
   "metadata": {},
   "outputs": [],
   "source": [
    "#Aumentamos el brillo un 30%\n",
    "imgGrayMod = np.clip(imgGrayMod + (255 * 0.30), 0, 255)\n",
    "plotter(imgGrayMod, grayScale = True, step=100)"
   ]
  },
  {
   "cell_type": "code",
   "execution_count": null,
   "metadata": {},
   "outputs": [],
   "source": [
    "imgPrueba = img.copy()\n",
    "# Bloques numerados de arriba hacia abajo y de izq a derecha\n",
    "#El tercer valor es el ancho del bloque para hacer la mascara\n",
    "block1 = ((550, 980), (1350, 980), 345)\n",
    "block2 = ((1500, 1600), (2050, 1600),125)\n",
    "block3 = ((650, 2400), (1000, 2400), 750)\n",
    "block4 = ((1300, 2400), (1600, 2400), 700)\n",
    "block5 = ((1720, 2450), (1850, 2450),350)\n",
    "block6 = ((1890, 2200), (2250, 2200),800)\n",
    "blocks = [block1, block2, block3, block4, block5, block6]\n",
    "\n",
    "# Marcamos una linea roja para ver correctamente sus posiciones\n",
    "for block in blocks:\n",
    "    cv.line(imgPrueba, block[0], block[1], (255,0,0), 5)\n",
    "\n",
    "plotter(imgPrueba, step = 100)"
   ]
  },
  {
   "cell_type": "code",
   "execution_count": null,
   "metadata": {},
   "outputs": [],
   "source": [
    "def createMask(img, samples, lowerMultiplier = 15, upperMultiplier = 6):\n",
    "    meanColors = 0\n",
    "    stdColors = 0\n",
    "    for point1, point2, blockWidth in samples:\n",
    "        colorMean, colorStd = cv.meanStdDev(img[point1[1]:point1[1] + blockWidth,point1[0]:point2[0], :])\n",
    "        meanColors += colorMean\n",
    "        stdColors += colorStd\n",
    "    meanColors /= len(samples)\n",
    "    stdColors /= len(samples)\n",
    "    return cv.inRange(img, meanColors - stdColors * lowerMultiplier,  meanColors + stdColors * upperMultiplier)"
   ]
  },
  {
   "cell_type": "code",
   "execution_count": null,
   "metadata": {},
   "outputs": [],
   "source": [
    "mask = createMask(img, blocks)\n",
    "imgWithMask = cv.bitwise_and(img, img, mask=mask)\n",
    "plotter(imgWithMask, 'Image With Mask' ,step = 100)"
   ]
  },
  {
   "cell_type": "code",
   "execution_count": null,
   "metadata": {},
   "outputs": [],
   "source": [
    "imgWithMaskGray = cv.cvtColor(imgWithMask, cv.COLOR_RGB2GRAY)\n",
    "imgWithMaskGray = imgWithMaskGray[800:3300, 200:2400]\n",
    "plotter(imgWithMaskGray,'Gray Image With Mask', grayScale=True, step = 100)"
   ]
  },
  {
   "cell_type": "code",
   "execution_count": null,
   "metadata": {},
   "outputs": [],
   "source": [
    "#Aplicamos un filtro de mediana a las dos imagenes para eliminar los ruidos\n",
    "imgCutGray = cv.medianBlur(imgCutGray, 5)\n",
    "imgWithMaskGray = cv.medianBlur(imgWithMaskGray, 5)\n",
    "plotter(imgCutGray, 'Cut',grayScale=True)\n",
    "plotter(imgWithMaskGray, 'Mask',grayScale=True)"
   ]
  },
  {
   "cell_type": "code",
   "execution_count": null,
   "metadata": {},
   "outputs": [],
   "source": [
    "IMGS = [imgCutGray, imgWithMaskGray] #Estas son las imagenes que vamos a analizar\n",
    "NAMES = ['Original', 'With Mask']"
   ]
  },
  {
   "cell_type": "markdown",
   "metadata": {},
   "source": [
    "Binarizamos todas las imágenes con el algoritmo de Otsu, ya que las aplicaciones de apertura, cierre, erosión, etc se aplican sobre imágenes binarias. Antes de hacer esto primero graficamos los histogramas para analizar mejor las imágenes"
   ]
  },
  {
   "cell_type": "code",
   "execution_count": null,
   "metadata": {},
   "outputs": [],
   "source": [
    "def plotHistograms(imgs, bins = 50):\n",
    "    fig, axs = plt.subplots(len(imgs))\n",
    "    fig.suptitle('Histograms', fontsize=18, fontweight='bold')\n",
    "    for imgNum,img in enumerate(imgs):\n",
    "        axs[imgNum].set_title(NAMES[imgNum], fontsize = 16, fontweight='bold')\n",
    "        axs[imgNum].grid()\n",
    "        axs[imgNum].hist(img.ravel(),bins,[0,256], color='orange')\n",
    "    \n",
    "    fig.set_size_inches(10, 8)\n",
    "    fig.tight_layout(pad=3.0)"
   ]
  },
  {
   "cell_type": "code",
   "execution_count": null,
   "metadata": {},
   "outputs": [],
   "source": [
    "plotHistograms([imgCutGray, imgWithMaskGray])"
   ]
  },
  {
   "cell_type": "markdown",
   "metadata": {},
   "source": [
    "Observamos que los valores de threshold de 125 funcionará bien para ambas imágenes. Este valor lo ponemos como parámetro opcional en la siguiente función."
   ]
  },
  {
   "cell_type": "code",
   "execution_count": null,
   "metadata": {},
   "outputs": [],
   "source": [
    "def otsuBinarization(imgs, thresh = 127):\n",
    "    result = []\n",
    "    for imgNum, img in enumerate(imgs):\n",
    "        ret, imgBin = cv.threshold(img,thresh,255,cv.THRESH_BINARY+cv.THRESH_OTSU)\n",
    "        plotter(imgBin,NAMES[imgNum], grayScale=True)\n",
    "        result.append(imgBin)\n",
    "    return result"
   ]
  },
  {
   "cell_type": "code",
   "execution_count": null,
   "metadata": {},
   "outputs": [],
   "source": [
    "imgBin, imgMaskBin = otsuBinarization([imgCutGray, imgWithMaskGray])"
   ]
  },
  {
   "cell_type": "markdown",
   "metadata": {},
   "source": [
    "Se pueden apreciar diferencias entre ambas binarizaciones. Si realizamos una binarización diretamente sobre la imagen original el bloque que se encuentra tapado se ve 'cortado', mientras que para la imagen con la máscara esto casi no sucede, ese bloque solo posee una pequeña mancha negra. Aplicaremos operaciones morfológicas a continuación para eliminar los ruidos y mejorar el problema que se tiene con el bloque tapado"
   ]
  },
  {
   "cell_type": "code",
   "execution_count": null,
   "metadata": {},
   "outputs": [],
   "source": [
    "#PRUEBAS\n",
    "imgTest = imgBin.copy()\n",
    "plotter(imgTest, grayScale=True)\n",
    "kernel = np.ones((100,100), np.uint8) #Influye bastante en la operacion morfolofica\n",
    "imgTest = cv.morphologyEx(imgTest, cv.MORPH_OPEN, kernel)\n",
    "kernelDil = np.ones((150,50), np.uint8)\n",
    "plotter(cv.dilate(imgTest,kernelDil), grayScale=True)\n"
   ]
  },
  {
   "cell_type": "code",
   "execution_count": null,
   "metadata": {
    "scrolled": true
   },
   "outputs": [],
   "source": [
    "#PRUEBAS\n",
    "imgTest2 = imgMaskBin.copy()\n",
    "plotter(imgTest2, grayScale=True)\n",
    "kernel = np.ones((125,125), np.uint8) #Influye bastante en la operacion morfolofica\n",
    "plotter(cv.morphologyEx(imgTest2, cv.MORPH_OPEN, kernel), grayScale=True)"
   ]
  },
  {
   "cell_type": "code",
   "execution_count": null,
   "metadata": {},
   "outputs": [],
   "source": [
    "kernel = np.ones((15,15), np.uint8)\n",
    "plotter(cv.GaussianBlur(cv.dilate(imgTest,kernel),(5,5),10))"
   ]
  },
  {
   "cell_type": "code",
   "execution_count": null,
   "metadata": {},
   "outputs": [],
   "source": [
    "kernel = np.ones((15,15), np.uint8)\n",
    "contours, hier = cv.findContours(cv.dilate(imgTest,kernel), cv.RETR_TREE, cv.CHAIN_APPROX_SIMPLE)\n",
    "out = imgCut.copy()\n",
    "cv.drawContours(out, contours, -1, (255,0,0),5)\n",
    "plotter(out)"
   ]
  },
  {
   "cell_type": "code",
   "execution_count": null,
   "metadata": {},
   "outputs": [],
   "source": [
    "out = imgCut.copy()\n",
    "for contour in ctrs:\n",
    "    approx = cv.approxPolyDP(contour, 0.06 * cv.arcLength(contour, True), True)\n",
    "    cv.drawContours(out, [approx], 0, (0, 0, 0), 5)\n",
    "    x = approx.ravel()[0]\n",
    "    y = approx.ravel()[1] - 5\n",
    "plotter(out)"
   ]
  }
 ],
 "metadata": {
  "kernelspec": {
   "display_name": "Python 3",
   "language": "python",
   "name": "python3"
  },
  "language_info": {
   "codemirror_mode": {
    "name": "ipython",
    "version": 3
   },
   "file_extension": ".py",
   "mimetype": "text/x-python",
   "name": "python",
   "nbconvert_exporter": "python",
   "pygments_lexer": "ipython3",
   "version": "3.7.6"
  }
 },
 "nbformat": 4,
 "nbformat_minor": 4
}
