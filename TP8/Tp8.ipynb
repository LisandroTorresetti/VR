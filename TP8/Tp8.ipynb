{
 "cells": [
  {
   "cell_type": "markdown",
   "metadata": {},
   "source": [
    "# Trabajo práctico 8 - Segmentación\n",
    "\n",
    "**Alumnos:**\n",
    "\n",
    "- Carol lugones Ignacio (100073)\n",
    "- Torresetti Lisandro (99846)"
   ]
  },
  {
   "cell_type": "markdown",
   "metadata": {},
   "source": [
    "## Objetivo\n",
    "\n",
    "A partir de la imagen de bloques encontrar, mediante alguno de los métodos mencionados o combinación de ellos (inclusive pueden utilizar operaciones morfológicas como las vistas anteriormente) la mejor segmentación de los bloques respecto del resto de las piezas."
   ]
  },
  {
   "cell_type": "code",
   "execution_count": null,
   "metadata": {},
   "outputs": [],
   "source": [
    "import cv2 as cv\n",
    "import numpy as np\n",
    "import matplotlib.pyplot as plt\n",
    "from glob import glob\n",
    "%matplotlib inline"
   ]
  },
  {
   "cell_type": "code",
   "execution_count": null,
   "metadata": {},
   "outputs": [],
   "source": [
    "def plotter(image, title = '', imgSize = (18,9), grayScale = False, step = 100): #Funcion auxiliar para realizar los graficos\n",
    "    plt.figure(figsize=imgSize)\n",
    "    plt.title(title, fontsize = 16, fontweight = \"bold\")\n",
    "    plt.imshow(image) if not grayScale else plt.imshow(image, cmap='gray', vmin=0, vmax=255)\n",
    "    plt.yticks(np.arange(0, len(image), step))\n",
    "    plt.xticks(np.arange(0, len(image[0]), step), rotation=90)\n",
    "    plt.show() "
   ]
  },
  {
   "cell_type": "code",
   "execution_count": null,
   "metadata": {},
   "outputs": [],
   "source": [
    "#Cargamos la imagen a analizar\n",
    "IMG_NAME = 'Piezas2.png'\n",
    "img = cv.imread(IMG_NAME)\n",
    "imgGray = cv.imread(IMG_NAME, 0)\n",
    "img = cv.cvtColor(img, cv.COLOR_BGR2RGB)\n",
    "imgWidth = img.shape[1]\n",
    "imgHeight = img.shape[0]\n",
    "\n",
    "print(\"Img Width: {} \\t Img Height: {}\".format(imgWidth, imgHeight))\n",
    "plotter(img, 'Original Image')\n",
    "plotter(imgGray, 'Original Image Grayscale', grayScale=True)"
   ]
  },
  {
   "cell_type": "markdown",
   "metadata": {},
   "source": [
    "Recortamos la parte de interés, la cual es la mesa con los bloques, lo demás descartamos."
   ]
  },
  {
   "cell_type": "code",
   "execution_count": null,
   "metadata": {},
   "outputs": [],
   "source": [
    "img = img[100:2200, 350:2500, :]\n",
    "imgGray = imgGray[100:2200, 350:2500]\n",
    "plotter(img, 'Original Image')\n",
    "plotter(imgGray, 'Original Image Grayscale', grayScale=True)"
   ]
  },
  {
   "cell_type": "markdown",
   "metadata": {},
   "source": [
    "Primero, binarizamos la imagen con Otsu. Para lograr esto utilizamos las siguientes funciones auxiliares"
   ]
  },
  {
   "cell_type": "code",
   "execution_count": null,
   "metadata": {},
   "outputs": [],
   "source": [
    "def plotHistogram(img, title = '', bins = 50):\n",
    "    plt.figure(figsize=(10,10))\n",
    "    plt.title('Histogram' + title, fontsize=18, fontweight='bold')\n",
    "    plt.grid()\n",
    "    plt.hist(img.ravel(),bins,[0,256], color='orange')\n",
    "\n",
    "def otsuBinarization(img, thresh = 127):\n",
    "    ret, imgBin = cv.threshold(img,thresh,255,cv.THRESH_BINARY+cv.THRESH_OTSU)\n",
    "    plotter(imgBin, grayScale=True)\n",
    "    return imgBin"
   ]
  },
  {
   "cell_type": "code",
   "execution_count": null,
   "metadata": {},
   "outputs": [],
   "source": [
    "plotHistogram(imgGray)"
   ]
  },
  {
   "cell_type": "markdown",
   "metadata": {},
   "source": [
    "Del histograma podemos observar que un valor de umbral de 125 funcionará bien. Procedemos a binarizar la imagen"
   ]
  },
  {
   "cell_type": "code",
   "execution_count": null,
   "metadata": {},
   "outputs": [],
   "source": [
    "imgBin = otsuBinarization(imgGray, thresh = 125)"
   ]
  },
  {
   "cell_type": "markdown",
   "metadata": {},
   "source": [
    "Realizamos una apertura para eliminar el ruido en la imagen."
   ]
  },
  {
   "cell_type": "code",
   "execution_count": null,
   "metadata": {},
   "outputs": [],
   "source": [
    "kernel = np.ones((3,3), np.uint8)\n",
    "imgOpen = cv.morphologyEx(imgBin.copy(), cv.MORPH_OPEN, kernel, iterations=3)\n",
    "plotter(imgOpen, 'Open', grayScale=True)"
   ]
  },
  {
   "cell_type": "markdown",
   "metadata": {},
   "source": [
    "## Watersheed"
   ]
  },
  {
   "cell_type": "markdown",
   "metadata": {},
   "source": [
    "Para utilizar este algoritmo necesitamos definir tres elementos (marcadores) para no generar sobremarcación, estos elementos son:\n",
    "* Zona de Fondo Seguro\n",
    "* Zona de Objetos Seguro\n",
    "* Zona de Incertezas (Resta de las dos anteriores)"
   ]
  },
  {
   "cell_type": "markdown",
   "metadata": {},
   "source": [
    "### Fondo Seguro"
   ]
  },
  {
   "cell_type": "markdown",
   "metadata": {},
   "source": [
    "Para ontener la zona de fondo seguro dilatamos la imagen con un kernel de 6x6. Lo que será el fondo seguro es toda la parte que quede en negro de la imagen."
   ]
  },
  {
   "cell_type": "code",
   "execution_count": null,
   "metadata": {},
   "outputs": [],
   "source": [
    "kernelDilate = np.ones((6,6), np.uint8)\n",
    "secureBG = cv.dilate(imgOpen.copy(), kernelDilate, iterations = 3)\n",
    "plotter(secureBG, 'Secure Background', grayScale=True)"
   ]
  },
  {
   "cell_type": "markdown",
   "metadata": {},
   "source": [
    "### Objetos Seguros"
   ]
  },
  {
   "cell_type": "markdown",
   "metadata": {},
   "source": [
    "Primero cerramos la imagen para que no haya puntos negros dentro de los bloques"
   ]
  },
  {
   "cell_type": "code",
   "execution_count": null,
   "metadata": {},
   "outputs": [],
   "source": [
    "kernelClosing = np.ones((10,10), np.uint8)\n",
    "closing = cv.morphologyEx(imgOpen.copy(), cv.MORPH_CLOSE, kernelClosing, iterations=3)\n",
    "plotter(closing, 'Closing', grayScale=True)"
   ]
  },
  {
   "cell_type": "markdown",
   "metadata": {},
   "source": [
    "Aplicamos una transformación de distancia, esta transformada calcula la distancia desde un pixel blanco hasta el pixel oscuro mas cercano. Luego de aplicar esta transformada nos quedamos con los pixeles que tengan una distancia mayor o igual al 70% de la máxima distancia."
   ]
  },
  {
   "cell_type": "code",
   "execution_count": null,
   "metadata": {},
   "outputs": [],
   "source": [
    "distanceTransform = cv.distanceTransform(closing, cv.DIST_L2, 5)\n",
    "ret, secureObjects = cv.threshold(distanceTransform, 0.7 * distanceTransform.max(), 255, 0)\n",
    "plotter(secureObjects, 'Secure Objects', grayScale=True)"
   ]
  },
  {
   "cell_type": "markdown",
   "metadata": {},
   "source": [
    "### Incertezas"
   ]
  },
  {
   "cell_type": "code",
   "execution_count": null,
   "metadata": {},
   "outputs": [],
   "source": [
    "secureObjects = np.uint8(secureObjects)\n",
    "unknowns = cv.subtract(secureBG,secureObjects)\n",
    "plotter(unknowns, 'Unknowns', grayScale=True)"
   ]
  },
  {
   "cell_type": "markdown",
   "metadata": {},
   "source": [
    "### Etiquetado"
   ]
  },
  {
   "cell_type": "code",
   "execution_count": null,
   "metadata": {},
   "outputs": [],
   "source": [
    "ret, markers = cv.connectedComponents(secureObjects)\n",
    "markers += 1\n",
    "markers[unknowns == 255] = 0\n",
    "\n",
    "plotter(markers, 'Markers')"
   ]
  },
  {
   "cell_type": "markdown",
   "metadata": {},
   "source": [
    "Ahora con todo esto realizado, aplicamos el algoritmo de Watersheed"
   ]
  },
  {
   "cell_type": "code",
   "execution_count": null,
   "metadata": {},
   "outputs": [],
   "source": [
    "outputWatersheed = img.copy()\n",
    "markers = cv.watershed(outputWatersheed, markers)\n",
    "outputWatersheed[markers==1] = [0, 0, 0]\n",
    "plotter(markers, 'Markers')\n",
    "plotter(outputWatersheed, 'Result')"
   ]
  },
  {
   "cell_type": "markdown",
   "metadata": {},
   "source": [
    "## K-Means"
   ]
  },
  {
   "cell_type": "markdown",
   "metadata": {},
   "source": [
    "Volvemos a cargar las imágenes"
   ]
  },
  {
   "cell_type": "code",
   "execution_count": null,
   "metadata": {},
   "outputs": [],
   "source": [
    "img = cv.imread(IMG_NAME)\n",
    "imgGray = cv.imread(IMG_NAME, 0)\n",
    "img = cv.cvtColor(img, cv.COLOR_BGR2RGB)\n",
    "img = img[100:2200, 350:2500, :]\n",
    "imgGray = imgGray[100:2200, 350:2500]\n",
    "plotter(img, 'Original Image')\n",
    "plotter(imgGray, 'Original Image Grayscale', grayScale=True)"
   ]
  },
  {
   "cell_type": "markdown",
   "metadata": {},
   "source": [
    "Pasamos a la imagen a un array de pixeles en 2D"
   ]
  },
  {
   "cell_type": "code",
   "execution_count": null,
   "metadata": {},
   "outputs": [],
   "source": [
    "pixelValues = img.reshape((-1, 3))\n",
    "pixelValues = np.float32(pixelValues)"
   ]
  },
  {
   "cell_type": "markdown",
   "metadata": {},
   "source": [
    "Ahora definimos el criterio de __stopping__"
   ]
  },
  {
   "cell_type": "code",
   "execution_count": null,
   "metadata": {},
   "outputs": [],
   "source": [
    "criteria = (cv.TERM_CRITERIA_EPS + cv.TERM_CRITERIA_MAX_ITER, 100, 0.2)"
   ]
  },
  {
   "cell_type": "markdown",
   "metadata": {},
   "source": [
    "Definimos el número de clusters, se probaron varios valores y debido a la performance el mejor que se encontró fue K = 10"
   ]
  },
  {
   "cell_type": "code",
   "execution_count": null,
   "metadata": {},
   "outputs": [],
   "source": [
    "k = 10\n",
    "_, labels, (centers) = cv.kmeans(pixelValues, k, None, criteria, 10, cv.KMEANS_RANDOM_CENTERS)\n",
    "\n",
    "centers = np.uint8(centers)\n",
    "labels = labels.flatten()"
   ]
  },
  {
   "cell_type": "markdown",
   "metadata": {},
   "source": [
    "Convertimos todos los pixeles al color de su centroide"
   ]
  },
  {
   "cell_type": "code",
   "execution_count": null,
   "metadata": {},
   "outputs": [],
   "source": [
    "segmentedImg = centers[labels.flatten()]\n",
    "segmentedImg = segmentedImg.reshape(img.shape)\n",
    "plotter(segmentedImg)"
   ]
  },
  {
   "cell_type": "markdown",
   "metadata": {},
   "source": [
    "A continuación vamos a imprimir la imagen con el valor de K asociado, de esta forma pretendemos encontrar para qué valor de K obtenemos los mejores resultados."
   ]
  },
  {
   "cell_type": "code",
   "execution_count": null,
   "metadata": {
    "scrolled": false
   },
   "outputs": [],
   "source": [
    "output = img.copy()\n",
    "output = output.reshape((-1, 3))\n",
    "for cluster in range(1,11):\n",
    "    outputCopy = output.copy()\n",
    "    outputCopy[labels != cluster] = [0, 0, 0]\n",
    "    outputCopy = outputCopy.reshape(img.shape)\n",
    "    plotter(outputCopy, 'K = ' + str(cluster))"
   ]
  },
  {
   "cell_type": "markdown",
   "metadata": {},
   "source": [
    "Vemos que el valor de K = 3 es el mejor para la situación. Volvemos a imprimir esta imagen y la que se obtuvo por Watersheed para ver los diferentes resultados"
   ]
  },
  {
   "cell_type": "code",
   "execution_count": null,
   "metadata": {},
   "outputs": [],
   "source": [
    "cluster = 3\n",
    "outputKMeans = img.copy()\n",
    "outputKMeans = outputKMeans.reshape((-1, 3))\n",
    "outputKMeans[labels != cluster] = [0, 0, 0]\n",
    "outputKMeans = outputKMeans.reshape(img.shape)\n",
    "plotter(outputKMeans, 'Resut K-Means')\n",
    "plotter(outputWatersheed, 'Result Watersheed')"
   ]
  },
  {
   "cell_type": "markdown",
   "metadata": {},
   "source": [
    "## Conclusiones\n",
    "\n",
    "**Watersheed:**\n",
    "\n",
    "Este algoritmo fue muy performante y fácil de implementar, solo necesitamos definir tres zonas y con eso ya alcanza para obtener un buen resultado. Como podemos ver más arriba la imagen se ve bastante bien, sin ruido y con una pequeño cilindro gris de una de las piezas que se encuentran al lado de los bloques, pero todo lo demas se pudo eliminar de manera correcta, incluso el bloque que se encuentra tapado por otros. Además pudimos deshacernos del borde de madera de la mesa.\n",
    "\n",
    "**K-Means:**\n",
    "\n",
    "Este algoritmo no resultó tan performante como el anterior, su resultado contiene mucho ruido pero logró eliminar correctamente las otras piezas y solo dejar marcado los bloques. Con este algoritmo no pudimos eliminar el borde de la mesa, y se ven ciertos pixeles encendidos que corresponden a las otras piezas que no son bloques\n",
    "\n",
    "Por lo tanto el mejor algoritmo para esta situación es Watersheed, produce un resultado mucho mejor que K-means e incluso con una performance mayor."
   ]
  }
 ],
 "metadata": {
  "kernelspec": {
   "display_name": "Python 3",
   "language": "python",
   "name": "python3"
  },
  "language_info": {
   "codemirror_mode": {
    "name": "ipython",
    "version": 3
   },
   "file_extension": ".py",
   "mimetype": "text/x-python",
   "name": "python",
   "nbconvert_exporter": "python",
   "pygments_lexer": "ipython3",
   "version": "3.7.6"
  }
 },
 "nbformat": 4,
 "nbformat_minor": 4
}
