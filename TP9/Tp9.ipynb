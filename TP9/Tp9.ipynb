{
 "cells": [
  {
   "cell_type": "markdown",
   "metadata": {},
   "source": [
    "# Trabajo práctico 9 - Calibración\n",
    "\n",
    "**Alumnos:**\n",
    "\n",
    "- Carol lugones Ignacio (100073)\n",
    "- Torresetti Lisandro (99846)"
   ]
  },
  {
   "cell_type": "markdown",
   "metadata": {},
   "source": [
    "## Objetivo\n",
    "\n",
    "En base a las funciones de calibración implementadas en OpenCV realizar la calibración de sus celulares y devolver la matriz de parámetros intrinsecos."
   ]
  },
  {
   "cell_type": "code",
   "execution_count": null,
   "metadata": {},
   "outputs": [],
   "source": [
    "import cv2 as cv\n",
    "import numpy as np\n",
    "import matplotlib.pyplot as plt\n",
    "from glob import glob\n",
    "import PIL.ExifTags\n",
    "import PIL.Image\n",
    "import pprint\n",
    "%matplotlib inline"
   ]
  },
  {
   "cell_type": "code",
   "execution_count": null,
   "metadata": {},
   "outputs": [],
   "source": [
    "def plotter(image, title = '', imgSize = (18,9), grayScale = False, step = 100): #Funcion auxiliar para realizar los graficos\n",
    "    plt.figure(figsize=imgSize)\n",
    "    plt.title(title, fontsize = 16, fontweight = \"bold\")\n",
    "    plt.imshow(image) if not grayScale else plt.imshow(image, cmap='gray', vmin=0, vmax=255)\n",
    "    plt.yticks(np.arange(0, len(image), step))\n",
    "    plt.xticks(np.arange(0, len(image[0]), step), rotation=90)\n",
    "    plt.show() "
   ]
  },
  {
   "cell_type": "markdown",
   "metadata": {},
   "source": [
    "El patrón a analizar es el siguiente:"
   ]
  },
  {
   "cell_type": "code",
   "execution_count": null,
   "metadata": {},
   "outputs": [],
   "source": [
    "pattern = cv.imread('ChessBoardPattern.png')\n",
    "plotter(pattern, 'Chess Board Pattern')"
   ]
  },
  {
   "cell_type": "markdown",
   "metadata": {},
   "source": [
    "Ahora definimos el tamaño del tablero (la cantidad de puntos es igual a la cantidad de puntos en los que un cuadrado negro toca a uno blanco), y la lista de puntos a reconocer, tomando como origen (0, 0, 0) la esquina que se encuentra en las coordenadas (100, 100)."
   ]
  },
  {
   "cell_type": "code",
   "execution_count": null,
   "metadata": {},
   "outputs": [],
   "source": [
    "chessBoardSize  = (7, 7)\n",
    "objp = np.zeros((np.prod(chessBoardSize), 3),  dtype=np.float32)\n",
    "objp[:, :2] = np.mgrid[0:chessBoardSize[0], 0:chessBoardSize[1]].T.reshape(-1, 2)"
   ]
  },
  {
   "cell_type": "markdown",
   "metadata": {},
   "source": [
    "A continuación cargamos las imágenes tomadas al patrón de distintos ángulos."
   ]
  },
  {
   "cell_type": "code",
   "execution_count": null,
   "metadata": {},
   "outputs": [],
   "source": [
    "img_fnames = glob('./fotos/*')\n",
    "imgsGray = []\n",
    "imgsColor = []\n",
    "for imgName in img_fnames:\n",
    "    img = cv.imread(imgName)\n",
    "    imgsColor.append(cv.cvtColor(img, cv.COLOR_BGR2RGB))\n",
    "    imgsGray.append(cv.cvtColor(img, cv.COLOR_BGR2GRAY))\n",
    "\n",
    "for img in imgsColor: #Imprimimos las imagenes tomadas del patron\n",
    "    plotter(img)"
   ]
  },
  {
   "cell_type": "markdown",
   "metadata": {},
   "source": [
    "Ahora definimos dos funciones, una para encontrar las esquinas y otra para calibrar la cámara que será usada más adelante."
   ]
  },
  {
   "cell_type": "code",
   "execution_count": null,
   "metadata": {},
   "outputs": [],
   "source": [
    "def findCorners(imgsColor, imgsGray, plot=True, maxCount = 25, epsilon = 0.001, flag=cv.CALIB_CB_ADAPTIVE_THRESH):\n",
    "    imgPoints = []\n",
    "    objPoints = []\n",
    "    criteria = (cv.TERM_CRITERIA_EPS | cv.TERM_CRITERIA_MAX_ITER, maxCount, epsilon)\n",
    "    cb_flags = flag \n",
    "    for imgColor, imgGray in zip(imgsColor, imgsGray):\n",
    "        imgColor = imgColor.copy()\n",
    "        ret, corners = cv.findChessboardCorners(imgGray, chessBoardSize, flags=cb_flags)\n",
    "        if ret:\n",
    "            objPoints.append(objp)\n",
    "            corners_subp = cv.cornerSubPix(imgGray, corners, (5, 5), (-1, -1), criteria)\n",
    "            imgPoints.append(corners_subp)\n",
    "            cv.drawChessboardCorners(imgColor, chessBoardSize, corners_subp, ret)\n",
    "            if plot:\n",
    "                plotter(imgColor)\n",
    "    return imgPoints, objPoints\n",
    "\n",
    "def calibrateCamera(objPoints, imgPoints, widthAndHeight):\n",
    "    ret, mtx, dist, rvecs, tvecs = cv.calibrateCamera(objPoints, imgPoints, widthAndHeight, None, None)\n",
    "    print('Camera Matrix: \\n{}'.format(mtx))\n",
    "    print('\\nDistortion Coefficients: \\n{}\\n'.format(dist))"
   ]
  },
  {
   "cell_type": "code",
   "execution_count": null,
   "metadata": {
    "scrolled": true
   },
   "outputs": [],
   "source": [
    "imgPoints, objPoints = findCorners(imgsColor, imgsGray)\n",
    "height, width = imgsGray[0].shape\n",
    "calibrateCamera(objPoints, imgPoints, (width,height))"
   ]
  },
  {
   "cell_type": "markdown",
   "metadata": {},
   "source": [
    "Si abrimos las imágenes anteriores en una pestaña nueva puede verse que encontró correctamente las esquinas."
   ]
  },
  {
   "cell_type": "code",
   "execution_count": null,
   "metadata": {},
   "outputs": [],
   "source": [
    "height, width = imgsGray[0].shape\n",
    "calibrateCamera(objPoints, imgPoints, (width,height)) #este es el resultado que se pone en las conclusiones"
   ]
  },
  {
   "cell_type": "markdown",
   "metadata": {},
   "source": [
    "## Variación de los flags para _findChessboardCorners_"
   ]
  },
  {
   "cell_type": "markdown",
   "metadata": {},
   "source": [
    "Volveremos a realizar el proceso anterior pero esta vez variando los flags que se le pueden pasar a la función _findChessboardCorners_ de _openCV_. Los flags que se pueden utilizar son:\n",
    "+ CALIB_CB_NORMALIZE_IMAGE\n",
    "+ CALIB_CB_FILTER_QUADS\n",
    "+ CALIB_CB_FAST_CHECK"
   ]
  },
  {
   "cell_type": "code",
   "execution_count": null,
   "metadata": {},
   "outputs": [],
   "source": [
    "flagsChessBoard = [cv.CALIB_CB_NORMALIZE_IMAGE, cv.CALIB_CB_FILTER_QUADS, cv.CALIB_CB_FAST_CHECK]\n",
    "flagsName = ['CALIB_CB_NORMALIZE_IMAGE', 'CALIB_CB_FILTER_QUADS', 'CALIB_CB_FAST_CHECK']\n",
    "\n",
    "def tryFlags(flags):\n",
    "    for flagNum, flag in enumerate(flags):\n",
    "        imgPoints, objPoints = findCorners(imgsColor, imgsGray, plot=False, flag=flag)\n",
    "        height, width = imgsGray[0].shape\n",
    "        print('Result with {}'.format(flagsName[flagNum]))\n",
    "        calibrateCamera(objPoints, imgPoints, (width,height))"
   ]
  },
  {
   "cell_type": "code",
   "execution_count": null,
   "metadata": {},
   "outputs": [],
   "source": [
    "tryFlags(flagsChessBoard)"
   ]
  },
  {
   "cell_type": "markdown",
   "metadata": {},
   "source": [
    "Se puede apreciar que variando los flags los resultados obtenidos son muy similares entre si. Y estos a su vez son similares con la primer matriz que se encontró utilizando el flag CALIB_CB_ADAPTIVE_THRESH"
   ]
  },
  {
   "cell_type": "markdown",
   "metadata": {},
   "source": [
    "## Variación de las iteraciones"
   ]
  },
  {
   "cell_type": "markdown",
   "metadata": {},
   "source": [
    "Ahora vamos a variar la cantidad de iteraciones, en los casos anteriores el número máximo fue de 25, ahora probaremos con 5, 50, 100 y 1000"
   ]
  },
  {
   "cell_type": "code",
   "execution_count": null,
   "metadata": {},
   "outputs": [],
   "source": [
    "def iterations():\n",
    "    for it in [5, 50, 100, 1000]:\n",
    "        imgPoints, objPoints = findCorners(imgsColor, imgsGray, plot=False, maxCount=it)\n",
    "        height, width = imgsGray[0].shape\n",
    "        print('Result with {} iterarions'.format(it))\n",
    "        calibrateCamera(objPoints, imgPoints, (width,height))\n",
    "        \n",
    "iterations()"
   ]
  },
  {
   "cell_type": "markdown",
   "metadata": {},
   "source": [
    "Se puede apreciar que nuevamente los valores son similares, pero el que posee más diferencias con todos los demas es el caso de cuando se pone un límite de 5 iteraciones."
   ]
  },
  {
   "cell_type": "markdown",
   "metadata": {},
   "source": [
    "Por último vamos a analizar la información que posee una imagen para comparar con los resultados obtenidos"
   ]
  },
  {
   "cell_type": "code",
   "execution_count": null,
   "metadata": {
    "scrolled": false
   },
   "outputs": [],
   "source": [
    "def getInfo(imgNum = 0, focalLengthInfo=False):\n",
    "    \n",
    "    exif_img = PIL.Image.open(img_fnames[2])\n",
    "\n",
    "    exif_data = {\n",
    "     PIL.ExifTags.TAGS[k]: v\n",
    "     for k, v in exif_img._getexif().items()\n",
    "     if k in PIL.ExifTags.TAGS\n",
    "    }\n",
    "    imgName = img_fnames[imgNum].split('/')[-1]\n",
    "    if focalLengthInfo:\n",
    "        focal_length_exif = exif_data['FocalLength']\n",
    "        focal_length = focal_length_exif[0]/focal_length_exif[1]\n",
    "        print('Focal Length of the image {} = {}mm'.format(imgName, focal_length))\n",
    "    else:\n",
    "        print('Full Info of the image {}:'.format(imgName))\n",
    "        pprint.pprint(exif_data)"
   ]
  },
  {
   "cell_type": "code",
   "execution_count": null,
   "metadata": {},
   "outputs": [],
   "source": [
    "getInfo(focalLengthInfo=True)"
   ]
  },
  {
   "cell_type": "markdown",
   "metadata": {},
   "source": [
    "También se puede obtener la siguiente información de las imágenes"
   ]
  },
  {
   "cell_type": "code",
   "execution_count": null,
   "metadata": {},
   "outputs": [],
   "source": [
    "getInfo()"
   ]
  },
  {
   "cell_type": "markdown",
   "metadata": {},
   "source": [
    "## Conclusiones"
   ]
  },
  {
   "cell_type": "markdown",
   "metadata": {},
   "source": [
    "En este trabajo práctico se pudo apreciar como con funciones de openCV es sencillo obtener los parámetros intrinsecos de la cámara, como otra información.\n",
    "\n",
    "Al variar los _flags_ y el _número de iteraciones_ no se observaron cambios grandes en los resultados de la matriz obtenida, lo más distinto que se obtuvo fue cuando se utilizaron 5 iteraciones.\n",
    "\n",
    "El proceso de calibración es muy performante, correr este notebook es bastante rápido, siendo que se probaron con variaciones de parámetros.\n",
    "\n",
    "Algo que llamó la atención es toda la información que se puede obtener de una foto, como la distancia focal, el número F, tiempo de exposición hasta incluso la marca del celular.\n",
    "\n",
    "Por último, resumimos los valores obtenidos de la matriz de parámetros intrínsecos:\n",
    "+ fx = 3.31104416e+03\n",
    "+ fy = 3.31114074e+03\n",
    "+ cx = 1.44845095e+03\n",
    "+ cy = 1.91976918e+03"
   ]
  }
 ],
 "metadata": {
  "kernelspec": {
   "display_name": "Python 3",
   "language": "python",
   "name": "python3"
  },
  "language_info": {
   "codemirror_mode": {
    "name": "ipython",
    "version": 3
   },
   "file_extension": ".py",
   "mimetype": "text/x-python",
   "name": "python",
   "nbconvert_exporter": "python",
   "pygments_lexer": "ipython3",
   "version": "3.7.6"
  }
 },
 "nbformat": 4,
 "nbformat_minor": 4
}
