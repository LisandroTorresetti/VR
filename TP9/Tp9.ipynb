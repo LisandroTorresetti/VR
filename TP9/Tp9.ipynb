{
 "cells": [
  {
   "cell_type": "markdown",
   "metadata": {},
   "source": [
    "# Trabajo práctico 9 - Calibración\n",
    "\n",
    "**Alumnos:**\n",
    "\n",
    "- Carol lugones Ignacio (100073)\n",
    "- Torresetti Lisandro (99846)"
   ]
  },
  {
   "cell_type": "markdown",
   "metadata": {},
   "source": [
    "## Objetivo\n",
    "\n",
    "En base a las funciones de calibración implementadas en OpenCV realizar la calibración de sus celulares y devolver la matriz de parámetros intrinsecos."
   ]
  },
  {
   "cell_type": "code",
   "execution_count": null,
   "metadata": {},
   "outputs": [],
   "source": [
    "import cv2 as cv\n",
    "import numpy as np\n",
    "import matplotlib.pyplot as plt\n",
    "from glob import glob\n",
    "%matplotlib inline"
   ]
  },
  {
   "cell_type": "code",
   "execution_count": null,
   "metadata": {},
   "outputs": [],
   "source": [
    "def plotter(image, title = '', imgSize = (18,9), grayScale = False, step = 100): #Funcion auxiliar para realizar los graficos\n",
    "    plt.figure(figsize=imgSize)\n",
    "    plt.title(title, fontsize = 16, fontweight = \"bold\")\n",
    "    plt.imshow(image) if not grayScale else plt.imshow(image, cmap='gray', vmin=0, vmax=255)\n",
    "    plt.yticks(np.arange(0, len(image), step))\n",
    "    plt.xticks(np.arange(0, len(image[0]), step), rotation=90)\n",
    "    plt.show() "
   ]
  },
  {
   "cell_type": "markdown",
   "metadata": {},
   "source": [
    "El patrón a analizar es el siguiente:"
   ]
  },
  {
   "cell_type": "code",
   "execution_count": null,
   "metadata": {},
   "outputs": [],
   "source": [
    "pattern = cv.imread('ChessBoardPattern.png')\n",
    "plotter(pattern, 'Chess Board Pattern')"
   ]
  },
  {
   "cell_type": "markdown",
   "metadata": {},
   "source": [
    "A continuación cargamos las imágenes tomadas al patrón de distintos ángulos."
   ]
  },
  {
   "cell_type": "code",
   "execution_count": null,
   "metadata": {},
   "outputs": [],
   "source": [
    "img_fnames = glob('./fotos/*')\n",
    "imgsGray = []\n",
    "imgsColor = []\n",
    "for imgName in img_fnames:\n",
    "    img = cv.imread(imgName)\n",
    "    imgsColor.append(cv.cvtColor(img, cv.COLOR_BGR2RGB))\n",
    "    imgsGray.append(cv.cvtColor(img, cv.COLOR_BGR2GRAY))\n",
    "    "
   ]
  },
  {
   "cell_type": "markdown",
   "metadata": {},
   "source": [
    "findChessboardCorners: a regular chessboard has 8 x 8 squares and 7 x 7 internal corners, that is, points where the black squares touch each other. The detected coordinates are approximate, and to determine their positions more accurately, the function calls cornerSubPix. You also may use the function cornerSubPix with different parameters if returned coordinates are not accurate enough.\n",
    "\n",
    "Devuelve un booleano si encontro o no corners y despues los corners"
   ]
  },
  {
   "cell_type": "code",
   "execution_count": null,
   "metadata": {},
   "outputs": [],
   "source": [
    "imgPoints = []\n",
    "img\n",
    "def findCorners(imgsColor, imgsGray, maxCount = 25, epsilon = 0.001):\n",
    "    criteria = (cv.TERM_CRITERIA_EPS | cv.TERM_CRITERIA_MAX_ITER, maxCount, epsilon)\n",
    "    cb_flags = cv.CALIB_CB_ADAPTIVE_THRESH  \n",
    "    for imgColor, imgGray in zip(imgsColor, imgsGray):\n",
    "        ret, corners = cv.findChessboardCorners(imgGray, ch_size, flags=cb_flags)\n",
    "        "
   ]
  }
 ],
 "metadata": {
  "kernelspec": {
   "display_name": "Python 3",
   "language": "python",
   "name": "python3"
  },
  "language_info": {
   "codemirror_mode": {
    "name": "ipython",
    "version": 3
   },
   "file_extension": ".py",
   "mimetype": "text/x-python",
   "name": "python",
   "nbconvert_exporter": "python",
   "pygments_lexer": "ipython3",
   "version": "3.7.6"
  }
 },
 "nbformat": 4,
 "nbformat_minor": 4
}
