{
 "cells": [
  {
   "cell_type": "markdown",
   "metadata": {},
   "source": [
    "## Trabajo práctico Integrador"
   ]
  },
  {
   "cell_type": "markdown",
   "metadata": {},
   "source": [
    "**Alumno:** Torresetti Lisandro\n",
    "\n",
    "**Padrón:** 99846\n",
    "\n",
    "**Objetivo:**\n",
    "\n",
    "Realizar un programa que permita determiar la pose de las piezas dispuestas en la zona de trabajo de manera que el robot pueda tomarlas."
   ]
  },
  {
   "cell_type": "code",
   "execution_count": null,
   "metadata": {},
   "outputs": [],
   "source": [
    "# Imports\n",
    "import cv2 as cv\n",
    "import numpy as np\n",
    "import matplotlib.pyplot as plt\n",
    "from glob import glob\n",
    "import PIL.ExifTags\n",
    "import PIL.Image\n",
    "import pprint\n",
    "import re\n",
    "%matplotlib inline\n",
    "\n",
    "# Paths\n",
    "\n",
    "BLOCKS_PATH = './imagenes/img_bloques'\n",
    "BLOCKS_CHALLENGE_PATH = './imagenes/img_bloques_desafio'\n",
    "CALIBRATION_SET_1 = './imagenes/img_cal_set1'\n",
    "CALIBRATION_SET_2 = './imagenes/img_cal_set2'\n",
    "\n",
    "# Constants\n",
    "\n",
    "EXTRA_IMG = 'imgCalExtr'\n",
    "IMG_NAME = 'imgBloque'\n",
    "\n",
    "# Debug\n",
    "IMGS_DEBUG = ['imgBloque1', 'imgBloque2', 'imgBloque3', 'imgBloque4', 'imgBloque16']"
   ]
  },
  {
   "cell_type": "markdown",
   "metadata": {},
   "source": [
    "## Auxiliary Functions"
   ]
  },
  {
   "cell_type": "code",
   "execution_count": null,
   "metadata": {},
   "outputs": [],
   "source": [
    "# Auxiliary function to make the plots\n",
    "def plotter(image, title = '', imgSize = (16,9), grayScale = False):\n",
    "    plt.figure(figsize=imgSize)\n",
    "    plt.title(title, fontsize = 16, fontweight = \"bold\")\n",
    "    plt.imshow(image) if not grayScale else plt.imshow(image, cmap='gray', vmin=0, vmax=255)\n",
    "    plt.show()\n",
    "\n",
    "# Auxiliary function to load all the images from path\n",
    "def loadImages(path):\n",
    "    imgNames = glob(path + '/*')\n",
    "    result = {}\n",
    "    for imgName in imgNames:\n",
    "        img = cv.imread(imgName)\n",
    "        result[re.sub(r'^.*/([^.]*).*$', r'\\1', imgName)] = cv.cvtColor(img, cv.COLOR_BGR2RGB)\n",
    "    return result\n",
    "\n",
    "# Creates a mask from the image and the specified position. Remember: in OpenCv the coorinates are (Y, X)\n",
    "def createMask(img, position, lowerMultiplier = 6, upperMultiplier = 6):\n",
    "    initialPoint, endPoint = position\n",
    "    colorMean, colorStd = cv.meanStdDev(img[initialPoint[1]:endPoint[1], initialPoint[0]:endPoint[0], :])\n",
    "    return cv.inRange(img, colorMean - colorStd * lowerMultiplier,  colorMean + colorStd * upperMultiplier)\n",
    "\n",
    "# Applies a mask to the img. Returns a new image with the mask applied\n",
    "def applyMask(img, mask):\n",
    "    return cv.bit\n",
    "\n",
    "# Plot the histogram for the first 'amountOfBlocks' blocks\n",
    "def plotHistograms(imgs, bins = 50, amountOfBlocks = 5):\n",
    "    fig, axs = plt.subplots(amountOfBlocks)\n",
    "    fig.suptitle('Histograms', fontsize=18, fontweight='bold')\n",
    "    imgsNames = [IMG_NAME + str(i) for i in range(1, amountOfBlocks + 1)]\n",
    "    xTicks = np.arange(0, 260, 10)\n",
    "    yTicks = np.arange(0, 300000, 30000)\n",
    "    for imgNum, imgName in enumerate(imgsNames):\n",
    "        axs[imgNum].set_title(imgName, fontsize = 16, fontweight='bold')\n",
    "        axs[imgNum].grid()\n",
    "        axs[imgNum].hist(imgs[imgName].ravel(),bins,[0,256], color='orange')\n",
    "        axs[imgNum].set_xticks(xTicks)\n",
    "        axs[imgNum].set_yticks(yTicks)\n",
    "    \n",
    "    fig.set_size_inches(16, 10)\n",
    "    fig.tight_layout(pad=5.0)\n",
    "    \n",
    "# Performs the Otsu binarization mehtod. Returns a dictionary with the images binarized\n",
    "def otsuBinarization(imgs, thresh = 100):\n",
    "    result = {}\n",
    "    for imgName, img in imgs.items():\n",
    "        ret, imgBin = cv.threshold(img, thresh, 255, cv.THRESH_BINARY+cv.THRESH_OTSU)\n",
    "        result[imgName] = imgBin\n",
    "    return result\n",
    "\n",
    "# For debugging\n",
    "def debug(imgs, grayScale=False):\n",
    "    for imgName in IMGS_DEBUG:\n",
    "        plotter(imgs[imgName], imgName, grayScale=grayScale)"
   ]
  },
  {
   "cell_type": "markdown",
   "metadata": {},
   "source": [
    "## Process Images\n",
    "\n",
    "Primero cargo las imagenes de los bloques y las de los sets de calibracion."
   ]
  },
  {
   "cell_type": "markdown",
   "metadata": {},
   "source": [
    "## Hay que rotar todas las imagenes de calibracion para que apunten en la misma direccion??"
   ]
  },
  {
   "cell_type": "code",
   "execution_count": null,
   "metadata": {
    "scrolled": false
   },
   "outputs": [],
   "source": [
    "imgsBlocks = loadImages(BLOCKS_PATH)\n",
    "calibrationSet1 = loadImages(CALIBRATION_SET_1)\n",
    "calibrationSet2 = loadImages(CALIBRATION_SET_2)\n",
    "\n",
    "# Dado que en las imagenes de los bloques hay una imagen para realizar la calibracion extrinseca\n",
    "# la guardo en una variable y la elimino del set a analizar\n",
    "extrinsicCalibration = imgsBlocks[EXTRA_IMG]\n",
    "del imgsBlocks[EXTRA_IMG]\n",
    "\n",
    "# Imprimo algunas imagenes para verificar que este todo bien\n",
    "debug(imgsBlocks)"
   ]
  },
  {
   "cell_type": "markdown",
   "metadata": {},
   "source": [
    "Creo una mascara con el tablero verde para poder eliminar el ruido de los otros elementos que se encuentran en la imagen. Para crearla, tomare una porcion de 'imgBloque1' y otra de 'imgBloque2' para luego hacer un OR y obtener una mascara que solo abarque el tablero verde."
   ]
  },
  {
   "cell_type": "code",
   "execution_count": null,
   "metadata": {},
   "outputs": [],
   "source": [
    "# Position = ((x1, y1), (x2, y2))\n",
    "maskPosition1 = ((125, 280), (480, 450))\n",
    "blocksMask1 = createMask(imgsBlocks['imgBloque1'], maskPosition1)\n",
    "\n",
    "maskPosition2 = ((125, 50), (480, 250))\n",
    "blocksMask2 = createMask(imgsBlocks['imgBloque4'], maskPosition2)\n",
    "blocksMask = cv.bitwise_or(blocksMask1, blocksMask2)\n",
    "blocksMask = cv.medianBlur(blocksMask, 15)\n",
    "\n",
    "blocksWithMask = {}\n",
    "for imgName, img in imgsBlocks.items():\n",
    "    blocksWithMask[imgName] = cv.bitwise_and(img, img, mask=blocksMask)\n",
    "\n",
    "# DEBUG\n",
    "debug(blocksWithMask)"
   ]
  },
  {
   "cell_type": "markdown",
   "metadata": {},
   "source": [
    "Ahora procedo a crear una mascara para los bloques para luego aplicarla y hacer que solo ellos se encuentren denifidos en las imagenes. Usare los bloques de las imagenes 1, 2 y 3 para obtener la mascara deseada."
   ]
  },
  {
   "cell_type": "code",
   "execution_count": null,
   "metadata": {},
   "outputs": [],
   "source": [
    "# Blocks Positions\n",
    "block1 = ((325, 110), (400, 125))\n",
    "block2 = ((285, 150), (325, 195))\n",
    "block3 = ((400, 150), (450, 200))\n",
    "blocks = [block1, block2, block3]\n",
    "\n",
    "# Draw a red line to verify the positions\n",
    "for blockNum, block in enumerate(blocks):\n",
    "    testImg = blocksWithMask[IMG_NAME + str(blockNum + 1)].copy()\n",
    "    cv.line(testImg, block[0], block[1], (255,0,0), 5)\n",
    "    plotter(testImg, IMG_NAME + str(blockNum + 1))\n",
    "\n",
    "# Get statistics about each block to compute the mask\n",
    "totalMeanBlocks = 0\n",
    "totalStdBlocks = 0\n",
    "for blockNum, blockPosition in enumerate(blocks):\n",
    "    initialPoint, endPoint = blockPosition\n",
    "    imgName = IMG_NAME + str(blockNum + 1)\n",
    "    blockImg = blocksWithMask[imgName][initialPoint[1]:endPoint[1], initialPoint[0]:endPoint[0], :]\n",
    "    meanBlock, stdBlock = cv.meanStdDev(blockImg)\n",
    "    totalMeanBlocks += meanBlock\n",
    "    totalStdBlocks += stdBlock\n",
    "    plotter(blockImg, imgName, imgSize=(8,5))\n",
    "\n",
    "meanBlocks = totalMeanBlocks / len(blocks)\n",
    "stdBlocks = totalStdBlocks / len(blocks)"
   ]
  },
  {
   "cell_type": "code",
   "execution_count": null,
   "metadata": {},
   "outputs": [],
   "source": [
    "print(f\"Mean: {meanBlocks} \\nStd: {stdBlocks}\")"
   ]
  },
  {
   "cell_type": "markdown",
   "metadata": {},
   "source": [
    "Aplico estos datos obtenidos a todas las imagenes para obtnener solo los bloques definidos en cada una de ellas. Los resultados seran guardados en **blocksWithMask** en escala de grises, pisando los valores anteriores."
   ]
  },
  {
   "cell_type": "code",
   "execution_count": null,
   "metadata": {},
   "outputs": [],
   "source": [
    "for imgName, img in blocksWithMask.items():\n",
    "    mask_i = cv.inRange(img, meanBlocks - stdBlocks * 6,  meanBlocks + stdBlocks * 6)\n",
    "    blocksWithMask[imgName] = cv.cvtColor(cv.bitwise_and(img, img, mask=mask_i), cv.COLOR_RGB2GRAY)\n",
    "\n",
    "debug(blocksWithMask, grayScale=True)"
   ]
  },
  {
   "cell_type": "markdown",
   "metadata": {},
   "source": [
    "A continuacion grafico el histograma del los primeros dos bloques para tener una idea de la distribucion de los valores, asi establezco un threshold para luego poder binarizar las imagenes."
   ]
  },
  {
   "cell_type": "code",
   "execution_count": null,
   "metadata": {},
   "outputs": [],
   "source": [
    "plotHistograms(blocksWithMask, amountOfBlocks=2)"
   ]
  },
  {
   "cell_type": "markdown",
   "metadata": {},
   "source": [
    "El resultado de los histogramas es el esperado, ya que el porcentaje de color del bloque es pequeño en comparación con toda la imagen que es negra. Usare un _threshold_ de 100 para realizar la binarizacion."
   ]
  },
  {
   "cell_type": "code",
   "execution_count": null,
   "metadata": {
    "scrolled": true
   },
   "outputs": [],
   "source": [
    "binarizedBlocks = otsuBinarization(blocksWithMask)\n",
    "debug(binarizedBlocks, grayScale=True)"
   ]
  },
  {
   "cell_type": "markdown",
   "metadata": {},
   "source": [
    "Aplico operaciones morfologicas y filtros para corregir las imperfecciones de las imagenes."
   ]
  },
  {
   "cell_type": "code",
   "execution_count": null,
   "metadata": {
    "scrolled": false
   },
   "outputs": [],
   "source": [
    "#PRUEBAS DE OPERACIONES MORFOLOGICAS\n",
    "imgTest = binarizedBlocks['imgBloque1'].copy()\n",
    "\n",
    "# Erode\n",
    "kernelErode = np.ones((9,10), np.uint8)\n",
    "plotter(cv.erode(imgTest, kernelErode), 'Erode', grayScale=True)\n",
    "\n",
    "# Dilate\n",
    "kernelDilate =np.ones((15,15), np.uint8)\n",
    "plotter(cv.dilate(imgTest, kernelDilate), 'Dilate', grayScale=True)\n",
    "\n",
    "# Opening\n",
    "kernelOpening = np.ones((30,30), np.uint8)\n",
    "plotter(cv.morphologyEx(imgTest, cv.MORPH_OPEN, kernelOpening),  'Opening', grayScale=True)\n",
    "\n",
    "# Closing\n",
    "kernelClosing = np.ones((30,30), np.uint8)\n",
    "plotter(cv.morphologyEx(imgTest, cv.MORPH_CLOSE, kernelClosing), 'Closing', grayScale=True)\n",
    "\n",
    "# Multiple Erosions and Dilations\n",
    "\n",
    "kernelErotion2 = np.ones((15,15), np.uint8)\n",
    "kernelDilation2 = np.ones((15,10), np.uint8)\n",
    "imgTest2 = imgTest.copy()\n",
    "\n",
    "imgTest2 = cv.erode(imgTest2, kernelErotion2, iterations=2)\n",
    "imgTest2 = cv.dilate(imgTest2, kernelDilation2, iterations=5)\n",
    "plotter(imgTest2, 'Multiple Operations', grayScale=True)"
   ]
  },
  {
   "cell_type": "markdown",
   "metadata": {},
   "source": [
    "La que dio mejores resultados fue la operacion de _closing_. Utilizare esta en combinacion con un _filtro de mediana_ para todas las imagenes."
   ]
  },
  {
   "cell_type": "code",
   "execution_count": null,
   "metadata": {},
   "outputs": [],
   "source": [
    "# This dictionary will contain the final result of all the previous operation \n",
    "# plus the next one for the block images\n",
    "KERNEL_SIZE = 5\n",
    "blocksImgs = {}\n",
    "for blockName, blockImg in binarizedBlocks.items():\n",
    "    blockImg = cv.morphologyEx(blockImg, cv.MORPH_CLOSE, kernelClosing)\n",
    "    blocksImgs[blockName] = cv.medianBlur(blockImg, KERNEL_SIZE)\n",
    "\n",
    "debug(blocksImgs, grayScale=True)"
   ]
  },
  {
   "cell_type": "markdown",
   "metadata": {},
   "source": [
    "# Prueba Auxiliar con tp7"
   ]
  },
  {
   "cell_type": "code",
   "execution_count": null,
   "metadata": {},
   "outputs": [],
   "source": [
    "contours, hier = cv.findContours(blocksImgs['imgBloque16'], cv.RETR_TREE, cv.CHAIN_APPROX_SIMPLE)\n",
    "out = imgsBlocks['imgBloque16'].copy()\n",
    "cv.drawContours(out, contours, -1, (255,0,0),2)\n",
    "plotter(out)"
   ]
  },
  {
   "cell_type": "code",
   "execution_count": null,
   "metadata": {},
   "outputs": [],
   "source": [
    "def getAspectRatio(contour):\n",
    "    x,y,width,height = cv.boundingRect(contour)\n",
    "    return np.round(float(width) / height, 2)\n",
    "\n",
    "def getCentroid(moment, area):\n",
    "    return (int(moment['m10'] / area), int(moment['m01'] / area))\n",
    "\n",
    "def getOrientation(contour):\n",
    "    (x, y), (MA, mA), angle = cv.fitEllipse(contour)\n",
    "    return (int(x), int(y)), (int(MA), int(mA)), np.round(angle)"
   ]
  },
  {
   "cell_type": "code",
   "execution_count": null,
   "metadata": {},
   "outputs": [],
   "source": [
    "# Para mas info https://en.wikipedia.org/wiki/Image_moment\n",
    "AREA = 0 #Para saber en que posicion del array que guarda el diccionario se encuentra la info deseada\n",
    "PERIMETER = 1\n",
    "CENTER = 2\n",
    "ASPECT_RELATION = 3\n",
    "ORIENTATION = 4\n",
    "CONTOUR = 5\n",
    "\n",
    "def getContoursInfo(contours):\n",
    "    contoursArea = []\n",
    "    contoursPerimeter = []\n",
    "    contoursCenter = []\n",
    "\n",
    "    for ctr in contours:\n",
    "        moment = cv.moments(ctr)\n",
    "        area = int(moment['m00'])\n",
    "        contoursArea.append(area)\n",
    "        contoursPerimeter.append(int(cv.arcLength(ctr,True)))\n",
    "        contoursCenter.append(getCentroid(moment, area))\n",
    "\n",
    "    contoursAreaMean = np.mean(contoursArea)\n",
    "\n",
    "    contoursInfo = {}  \n",
    "    contourNum = 1\n",
    "    for area, perimeter, center, contour in  zip(contoursArea, contoursPerimeter, contoursCenter, contours):\n",
    "        if area >= contoursAreaMean:\n",
    "            contoursInfo[contourNum] = [area, perimeter, center, getAspectRatio(contour),\n",
    "                                        getOrientation(contour), contour]\n",
    "            contourNum += 1\n",
    "            \n",
    "    return contoursInfo"
   ]
  },
  {
   "cell_type": "code",
   "execution_count": null,
   "metadata": {},
   "outputs": [],
   "source": [
    "contoursInfo = getContoursInfo(contours)\n",
    "\n",
    "def printResults(contoursInfo):\n",
    "    print('RESULTS')\n",
    "    for key, value in contoursInfo.items():\n",
    "        print('''\n",
    "                Block Num: {}\n",
    "\n",
    "                    Area: {}\n",
    "                    Perimeter: {}\n",
    "                    Centroid: {}\n",
    "                    Aspect Relation: {}\n",
    "                    Orientation: {}\n",
    "                '''.format(key, value[AREA], value[PERIMETER], value[CENTER], value[ASPECT_RELATION],\n",
    "                          value[ORIENTATION][2]))\n",
    "    "
   ]
  },
  {
   "cell_type": "code",
   "execution_count": null,
   "metadata": {},
   "outputs": [],
   "source": [
    "imgCut = imgsBlocks['imgBloque16']"
   ]
  },
  {
   "cell_type": "code",
   "execution_count": null,
   "metadata": {},
   "outputs": [],
   "source": [
    "out = imgCut.copy()\n",
    "font = cv.FONT_HERSHEY_SIMPLEX\n",
    "for key, value in contoursInfo.items():\n",
    "    contour = value[CONTOUR]\n",
    "    cv.putText(out, str(key), value[CENTER], font, 2, (0, 0, 0), 3, cv.LINE_AA)\n",
    "    cv.circle(out, value[CENTER], radius=5, color=(255, 255, 255), thickness=-3)\n",
    "    approx = cv.approxPolyDP(contour, 0.1 * cv.arcLength(contour, True), True)\n",
    "    cv.drawContours(out, [approx], 0, (255, 0, 0), 2)\n",
    "    x = approx.ravel()[0]\n",
    "    y = approx.ravel()[1] - 5\n",
    "plotter(out)"
   ]
  },
  {
   "cell_type": "code",
   "execution_count": null,
   "metadata": {},
   "outputs": [],
   "source": [
    "# Dibujamos las elipese que se obtuvieron al calcular la orientacion mas arriba\n",
    "out = imgCut.copy()\n",
    "font = cv.FONT_HERSHEY_SIMPLEX\n",
    "for key, value in contoursInfo.items():\n",
    "    contour = value[CONTOUR]\n",
    "    center, axes, angle = value[ORIENTATION]\n",
    "    ellipse = cv.fitEllipse(contour)\n",
    "    cv.ellipse(out, ellipse, (0,0,0), 2)\n",
    "    cv.putText(out, str(key), value[CENTER], font, 2, (0, 0, 0), 3, cv.LINE_AA)\n",
    "    approx = cv.approxPolyDP(contour, 0.1 * cv.arcLength(contour, True), True) \n",
    "    cv.drawContours(out, [approx], 0, (255, 0, 0), 2)\n",
    "    x = approx.ravel()[0]\n",
    "    y = approx.ravel()[1] - 5\n",
    "plotter(out)"
   ]
  },
  {
   "cell_type": "code",
   "execution_count": null,
   "metadata": {},
   "outputs": [],
   "source": [
    "printResults(contoursInfo)"
   ]
  },
  {
   "cell_type": "code",
   "execution_count": null,
   "metadata": {},
   "outputs": [],
   "source": []
  },
  {
   "cell_type": "markdown",
   "metadata": {},
   "source": [
    "## Step 1 - Intrinsic Parameters"
   ]
  },
  {
   "cell_type": "code",
   "execution_count": null,
   "metadata": {},
   "outputs": [],
   "source": []
  },
  {
   "cell_type": "markdown",
   "metadata": {},
   "source": [
    "## Step 2 - Extrinsic Calibration"
   ]
  },
  {
   "cell_type": "markdown",
   "metadata": {},
   "source": [
    "## Step 3 - Search Blocks"
   ]
  },
  {
   "cell_type": "markdown",
   "metadata": {},
   "source": [
    "## Step 4 - Validation"
   ]
  },
  {
   "cell_type": "markdown",
   "metadata": {},
   "source": [
    "## Step 5 - Measure Blocks"
   ]
  }
 ],
 "metadata": {
  "kernelspec": {
   "display_name": "Python 3",
   "language": "python",
   "name": "python3"
  },
  "language_info": {
   "codemirror_mode": {
    "name": "ipython",
    "version": 3
   },
   "file_extension": ".py",
   "mimetype": "text/x-python",
   "name": "python",
   "nbconvert_exporter": "python",
   "pygments_lexer": "ipython3",
   "version": "3.7.6"
  }
 },
 "nbformat": 4,
 "nbformat_minor": 4
}
