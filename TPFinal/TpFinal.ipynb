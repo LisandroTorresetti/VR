{
 "cells": [
  {
   "cell_type": "markdown",
   "id": "850eab87",
   "metadata": {},
   "source": [
    "Alumno: Ignacio Carol Lugones\n",
    "\n",
    "\n",
    "Padron: 100073"
   ]
  },
  {
   "cell_type": "code",
   "execution_count": null,
   "id": "162f8f08",
   "metadata": {},
   "outputs": [],
   "source": [
    "import cv2 as cv\n",
    "import numpy as np\n",
    "import matplotlib.pyplot as plt\n",
    "from glob import glob\n",
    "%matplotlib inline"
   ]
  },
  {
   "cell_type": "code",
   "execution_count": null,
   "id": "cc6a9c1b",
   "metadata": {},
   "outputs": [],
   "source": [
    "def plotter(image, title = '', imgSize = (18,9), grayScale = False, step = 100): #Funcion auxiliar para realizar los graficos\n",
    "    plt.figure(figsize=imgSize)\n",
    "    plt.title(title, fontsize = 16, fontweight = \"bold\")\n",
    "    plt.imshow(image) if not grayScale else plt.imshow(image, cmap='gray', vmin=0, vmax=255)\n",
    "    plt.yticks(np.arange(0, len(image), step))\n",
    "    plt.xticks(np.arange(0, len(image[0]), step), rotation=90)\n",
    "    plt.show() "
   ]
  },
  {
   "cell_type": "markdown",
   "id": "dcad2a01",
   "metadata": {},
   "source": [
    "# Calibracion de parametros"
   ]
  },
  {
   "cell_type": "markdown",
   "id": "2fdc2252",
   "metadata": {},
   "source": [
    "Definimos el tamaño del tablero, sabiendo que cada celda del ajedrez medira 28 mm"
   ]
  },
  {
   "cell_type": "code",
   "execution_count": null,
   "id": "e1008dba",
   "metadata": {},
   "outputs": [],
   "source": [
    "chessBoardSize  = (8, 6)\n",
    "objp = np.zeros((np.prod(chessBoardSize), 3),  dtype=np.float32)\n",
    "objp[:, :2] = np.mgrid[0:chessBoardSize[0], 0:chessBoardSize[1]].T.reshape(-1, 2)\n",
    "objp = objp * 28"
   ]
  },
  {
   "cell_type": "markdown",
   "id": "b0cc3776",
   "metadata": {},
   "source": [
    "Cargamos imagenes y dibujamos"
   ]
  },
  {
   "cell_type": "code",
   "execution_count": null,
   "id": "e0f6144e",
   "metadata": {},
   "outputs": [],
   "source": [
    "img_fnames = glob('./imagenes/img_cal_set1/*')\n",
    "imgsGray = []\n",
    "imgsColor = []\n",
    "imgNames = []\n",
    "for imgName in img_fnames:\n",
    "    img = cv.imread(imgName)\n",
    "    imgsColor.append(cv.cvtColor(img, cv.COLOR_BGR2RGB))\n",
    "    imgsGray.append(cv.cvtColor(img, cv.COLOR_BGR2GRAY))\n",
    "    imgNames.append(imgName)\n"
   ]
  },
  {
   "cell_type": "code",
   "execution_count": null,
   "id": "c0897ef0",
   "metadata": {},
   "outputs": [],
   "source": [
    "def findCorners(imgsColor, imgsGray, plot=True, maxCount = 30, epsilon = 0.001, flag=cv.CALIB_CB_ADAPTIVE_THRESH):\n",
    "    imgPoints = []\n",
    "    objPoints = []\n",
    "    criteria = (cv.TERM_CRITERIA_EPS | cv.TERM_CRITERIA_MAX_ITER, maxCount, epsilon)\n",
    "    cb_flags = flag\n",
    "    i = 1\n",
    "    for imgColor, imgGray in zip(imgsColor, imgsGray):\n",
    "        imgColor = imgColor.copy()\n",
    "        ret, corners = cv.findChessboardCorners(imgGray, chessBoardSize, flags=cb_flags)\n",
    "        if ret:\n",
    "            objPoints.append(objp)\n",
    "            corners_subp = cv.cornerSubPix(imgGray, corners, (5, 5), (-1, -1), criteria)\n",
    "            imgPoints.append(corners_subp)\n",
    "            cv.drawChessboardCorners(imgColor, chessBoardSize, corners_subp, ret)\n",
    "            if plot:\n",
    "                print(i)\n",
    "                plotter(imgColor)\n",
    "        i+=1\n",
    "    return imgPoints, objPoints\n",
    "\n",
    "def calibrateCamera(objPoints, imgPoints, widthAndHeight, returnMatrix=False):\n",
    "    ret, mtx, dist, rvecs, tvecs = cv.calibrateCamera(objPoints, imgPoints, widthAndHeight, None, None, flags = cv.CALIB_ZERO_TANGENT_DIST)\n",
    "    print('Camera Matrix: \\n{}'.format(mtx))\n",
    "    print('\\nDistortion Coefficients: \\n{}\\n'.format(dist))\n",
    "    if returnMatrix:\n",
    "        return mtx, dist\n",
    "\n",
    "def getIntrinsecParams(imgsColor, imgsGray, printImg = False):\n",
    "    imgPoints, objPoints = findCorners(imgsColor, imgsGray, printImg)\n",
    "    height, width = imgsGray[0].shape\n",
    "    return calibrateCamera(objPoints, imgPoints, (width,height), returnMatrix=True)"
   ]
  },
  {
   "cell_type": "code",
   "execution_count": null,
   "id": "37b65dfe",
   "metadata": {},
   "outputs": [],
   "source": [
    "mtx, dist = getIntrinsecParams(imgsColor, imgsGray, True)\n"
   ]
  },
  {
   "cell_type": "code",
   "execution_count": null,
   "id": "02cfcb49",
   "metadata": {},
   "outputs": [],
   "source": [
    "#Set 2\n",
    "chessBoardSize  = (8, 6)\n",
    "objp = np.zeros((np.prod(chessBoardSize), 3),  dtype=np.float32)\n",
    "objp[:, :2] = np.mgrid[0:chessBoardSize[0], 0:chessBoardSize[1]].T.reshape(-1, 2)\n",
    "objp = objp * 28\n",
    "img_fnames = glob('./imagenes/img_cal_set2/*')\n",
    "imgsGray = []\n",
    "imgsColor = []\n",
    "for imgName in img_fnames:\n",
    "    img = cv.imread(imgName)\n",
    "    imgsColor.append(cv.cvtColor(img, cv.COLOR_BGR2RGB))\n",
    "    imgsGray.append(cv.cvtColor(img, cv.COLOR_BGR2GRAY))\n",
    "mtx, dist = getIntrinsecParams(imgsColor, imgsGray, True)"
   ]
  },
  {
   "cell_type": "markdown",
   "id": "8afa6b39",
   "metadata": {},
   "source": [
    "Se ve que se tiene que usar el set 1 en vez del set dos porque el fx y el fy del set 1 son mas similares entre si, lo que conlleva que la matriz de parametros intrinsecos del set 1 esta mejor generada que la del set 2"
   ]
  },
  {
   "cell_type": "code",
   "execution_count": null,
   "id": "306d5b40",
   "metadata": {},
   "outputs": [],
   "source": [
    "# reload set1\n",
    "chessBoardSize  = (8, 6)\n",
    "objp = np.zeros((np.prod(chessBoardSize), 3),  dtype=np.float32)\n",
    "objp[:, :2] = np.mgrid[0:chessBoardSize[0], 0:chessBoardSize[1]].T.reshape(-1, 2)\n",
    "objp = objp * 28\n",
    "img_fnames = glob('./imagenes/img_cal_set1/*')\n",
    "imgsGray = []\n",
    "imgsColor = []\n",
    "for imgName in img_fnames:\n",
    "    img = cv.imread(imgName)\n",
    "    imgsColor.append(cv.cvtColor(img, cv.COLOR_BGR2RGB))\n",
    "    imgsGray.append(cv.cvtColor(img, cv.COLOR_BGR2GRAY))\n",
    "    imgNames.append(imgName)\n",
    "mtx, dist = getIntrinsecParams(imgsColor, imgsGray)"
   ]
  },
  {
   "cell_type": "markdown",
   "id": "407f823a",
   "metadata": {},
   "source": [
    "# 2, sacamos parametros extrinsecos e implicitamente la terna de trabajo"
   ]
  },
  {
   "cell_type": "code",
   "execution_count": null,
   "id": "6c37149c",
   "metadata": {},
   "outputs": [],
   "source": [
    "#Levantamos la imagen para calibracion de parametros extrinsecos\n",
    "objp = np.zeros((np.prod(chessBoardSize), 3),  dtype=np.float32)\n",
    "objp[:, :2] = np.mgrid[0:chessBoardSize[0], 0:chessBoardSize[1]].T.reshape(-1, 2)\n",
    "objp = objp * 28\n",
    "img_fnames = glob('./imagenes/img_bloques/imgCalExtr.png')\n",
    "imgsGray = []\n",
    "imgsColor = []\n",
    "for imgName in img_fnames:\n",
    "    img = cv.imread(imgName)\n",
    "    imgsColor.append(cv.cvtColor(img, cv.COLOR_BGR2RGB))\n",
    "    imgsGray.append(cv.cvtColor(img, cv.COLOR_BGR2GRAY))\n",
    "imgPoints, objPoints = findCorners(imgsColor, imgsGray, True)"
   ]
  },
  {
   "cell_type": "code",
   "execution_count": null,
   "id": "b66c474c",
   "metadata": {},
   "outputs": [],
   "source": [
    "ret, rvecs, t = cv.solvePnP(objPoints[0], imgPoints[0], mtx, dist, useExtrinsicGuess=False)\n",
    "rotation = cv.Rodrigues(rvecs)[0]\n",
    "print(t)\n",
    "print(rotation)"
   ]
  },
  {
   "cell_type": "markdown",
   "id": "3cfedc9d",
   "metadata": {},
   "source": [
    "Al tener una sola camara, en escenarios futuros consideraremos que la terna z debera ser 0, ya que no se puede estimar la profundidad correctamente."
   ]
  },
  {
   "cell_type": "markdown",
   "id": "5e4ee67b",
   "metadata": {},
   "source": [
    "# 3 Busqueda de bloques"
   ]
  },
  {
   "cell_type": "code",
   "execution_count": null,
   "id": "fb4684d7",
   "metadata": {},
   "outputs": [],
   "source": [
    "def checkCenter(c):\n",
    "    return (c[0] > 92 and c[0] < 500) and (c[1] > 20 and c[1] < 468)\n",
    "def processImage(img):\n",
    "    centers = []\n",
    "    boxes = []\n",
    "    img = cv.medianBlur(img, 5)\n",
    "    imgGray = cv.cvtColor(img, cv.COLOR_BGR2GRAY)\n",
    "    ret, img_bin = cv.threshold(imgGray, 30, 255, cv.THRESH_BINARY+cv.THRESH_OTSU)\n",
    "    \n",
    "    kernel = np.ones((2,2), np.uint8)\n",
    "    opening = cv.morphologyEx(img_bin, cv.MORPH_OPEN, kernel) # removes noice\n",
    "    \n",
    "    kernel = np.ones((2,2), np.uint8)\n",
    "    ending = cv.morphologyEx(opening, cv.MORPH_CLOSE, kernel) #fill blanks\n",
    "    \n",
    "    contours, hierarchy = cv.findContours(ending, cv.RETR_TREE, cv.CHAIN_APPROX_TC89_L1)\n",
    "    \n",
    "    for cnt in contours:\n",
    "        rect = cv.minAreaRect(cnt)\n",
    "        center = rect[0]\n",
    "        dim = rect[1]\n",
    "        rot = rect[2]\n",
    "        area = cv.contourArea(cnt)\n",
    "        if checkCenter(center) and area > 3000 and area < 100000:\n",
    "            box = cv.boxPoints(rect)\n",
    "            box = np.int0(box)\n",
    "            if box[0][0] < 50 or box[0][1] < 20:\n",
    "                continue\n",
    "            cv.circle(img, (int(center[0]), int(center[1])), 1, (0,0,255), 2)\n",
    "            cv.drawContours(img, [box], 0, (255,0,0), 2)\n",
    "            plt.imshow(img)\n",
    "            plt.show()\n",
    "            print(f\"rotation: {rot}, dimensions are: {dim}, center at: {center}\")\n",
    "            centers.append(center)\n",
    "            boxes.append(box)\n",
    "    return centers, boxes\n"
   ]
  },
  {
   "cell_type": "code",
   "execution_count": null,
   "id": "b82fcfba",
   "metadata": {},
   "outputs": [],
   "source": [
    "imgNames = glob('./imagenes/img_bloques/imgBloque*')\n",
    "imgs = {}\n",
    "for name in imgNames:\n",
    "    img = cv.imread(name)\n",
    "    print(f'\\nnow checking img {name}')\n",
    "    imgs[name] = processImage(img)\n",
    "# centers 0, boxes 1"
   ]
  },
  {
   "cell_type": "code",
   "execution_count": null,
   "id": "8d43885d",
   "metadata": {},
   "outputs": [],
   "source": [
    "imgs"
   ]
  },
  {
   "cell_type": "code",
   "execution_count": null,
   "id": "3d38df4f",
   "metadata": {},
   "outputs": [],
   "source": [
    "import re\n",
    "def printResults(results):\n",
    "    print('RESULTS')\n",
    "    for key, value in results.items():\n",
    "        imgNumber = re.findall(r'\\d+', key)\n",
    "        if len(imgNumber) == 0:\n",
    "            print(key)\n",
    "            continue #border case\n",
    "        print(f'Resultados para imagen {imgNumber[-1]}')\n",
    "        amountOfBlocks = len(value[0])\n",
    "        print(f'bloques encontrados: {amountOfBlocks}')\n",
    "        for i in range(amountOfBlocks):\n",
    "            print(f'[{i + 1}]--->\\ncenter: {value[0][i]};\\nbox: {value[1][i]}')\n",
    "        print('-'*100)\n",
    "            \n",
    "    "
   ]
  },
  {
   "cell_type": "code",
   "execution_count": null,
   "id": "3a2b84ca",
   "metadata": {},
   "outputs": [],
   "source": [
    "printResults(imgs)"
   ]
  },
  {
   "cell_type": "markdown",
   "id": "954f0235",
   "metadata": {},
   "source": [
    "# 4 Propuesta de validacion de algoritmo:\n",
    "## Primer posibilidad\n",
    "Una posible validacion del mismo deberia ser una empirica, esto significa el ver con nuestras propias mediciones a la hora de sacar la foto que lo que nos indique el programa sea correcto.\n",
    "Para esto primero tendremos que sacar el punto de donde se considere nuestro Xw = 0 y nuestro Yw = 0. Esto es relativamente facil de hacer ya que tenemos todos los parametros para sacarlo. Esto tambien se debe comprobar con lo esperado a traves de las calibraciones hechas.\n",
    "\n",
    "Luego de hacer esto, tendremos que ubicar un bloque en el tablero y sacar la foto para que la camara indique en que Xw e Yw esta para ella, una vez obtenido esto debemos nosotros medir con algun instrumento de medicion preciso donde esta ubicado este elemento para nosotros con respecto a nuestra terna Xw e Yw, si estos valores coinciden entonces el algoritmo ha sido validado, en caso contrario es que el algoritmo fallo.\n",
    "## Segunda posibilidad\n",
    "Como segunda posibilidad de validacion, lo que podemos hacer es nosotros forzar una terna xyz a traves de una imagen de calibracion nuestra conocida, una vez hecha esta calibracion, podemos posicionar un bloque, o una imagen de un bloque, sobre nuestro tablero en una posicion conocida, la cual tengamos exactitud de que posicion esta con respecto a esta terna.\n",
    "Con esto, lo compararemos con los datos obtenidos por nuestro algoritmo y asi podremos validar la precision del mismo."
   ]
  },
  {
   "cell_type": "markdown",
   "id": "065219ec",
   "metadata": {},
   "source": [
    "# 5 Pasaje a mm, aca tambien termina el 3 con sus coordenadas en mm al centro"
   ]
  },
  {
   "cell_type": "markdown",
   "id": "e9503ab4",
   "metadata": {},
   "source": [
    "### Como se calcula las coordenadas\n",
    "s * [uv1] = K * [R|T] *XwYwZw = k * (R XwYwZw + t)\n",
    "\n",
    "==> R^-1 * (K^-1 * s * [uv1] - t) = XwYwZw\n",
    "\n",
    "\n",
    "K: intrinsic params\n",
    "\n",
    "R: rotation\n",
    "\n",
    "t: translation\n",
    "\n",
    "s: correcter factor\n",
    "\n",
    "given that Zw should be 0 because we don't have more cameras, Zw should be 0\n",
    "\n",
    "for that to happen the following should be true:\n",
    "\n",
    "s * R^-1 * K^-1  * [uv1] - R^-1 * t = XwYw0\n",
    "\n",
    "\n",
    "More specifically, what should happen is that the result of the last row should be 0\n",
    "\n",
    "in that case to accomplish that condition:\n",
    "\n",
    "s = sum of last row of R^-1 * t / sum of last row of R ^-1 * K^-1 * [uv1]"
   ]
  },
  {
   "cell_type": "code",
   "execution_count": null,
   "id": "fb3900a3",
   "metadata": {},
   "outputs": [],
   "source": [
    "def getCoord(center):\n",
    "    # s * [uv1] = K * [R|T] *XwYwZw = k * (R XwYwZw + t)\n",
    "    # ==> R^-1 * (K^-1 * [uv1] - t) = XwYwZw\n",
    "    # K intrinsic params\n",
    "    # R rotation\n",
    "    # t translation\n",
    "    # given that Zw should be 0 because we don't have more cameras\n",
    "    uv = np.array([[center[0],center[1],1]], dtype=np.float).T\n",
    "    iK = np.linalg.inv(mtx)\n",
    "    iR = np.linalg.inv(rotation)\n",
    "    numerator = iR.dot(t)\n",
    "    denominator = iR.dot(iK).dot(uv)\n",
    "    s = sum(numerator[2]) / sum(denominator[2])\n",
    "    first = (s * iK.dot(uv) - t)\n",
    "    return iR.dot(first)\n",
    "\n",
    "def getZero():\n",
    "    # given last ecuation, if i want to get the 0 0 0 we should use the first equation, or just multiply k by t:\n",
    "    s = 715.5301268026278 # extracted from an average\n",
    "    return mtx.dot(t) / s\n",
    "\n",
    "\n",
    "def f_dist(x):\n",
    "    k1 = dist[0][0]\n",
    "    xn = x[0:2]\n",
    "    r_sqr = xn[0] ** 2 + xn[1] ** 2\n",
    "    xd = xn * (1+k1 * r_sqr)\n",
    "    return np.vstack((xd,1))\n",
    "\n",
    "def getCoordIter(c):\n",
    "    Kinv = np.linalg.inv(mtx)\n",
    "    Rt = np.hstack((rotation, t))\n",
    "    Rt_z0 = np.delete(Rt, 2, 1)\n",
    "    RtInv = np.linalg.inv(Rt_z0)\n",
    "    iterTimes = 100\n",
    "    uv = np.matrix([[c[0]], [c[1]], [1]])\n",
    "    x_dist = Kinv.dot(uv)\n",
    "    dx = x_dist - f_dist(x_dist)\n",
    "    X = x_dist - dx\n",
    "    for _ in range(iterTimes):\n",
    "        dx = x_dist - f_dist(X)\n",
    "        X = x_dist - dx\n",
    "    return RtInv.dot(X)\n",
    "\n",
    "def getCoordHomo(center):\n",
    "    uv = np.array([[center[0],center[1],1]], dtype=np.float).T\n",
    "    r = rotation.T[:2].T\n",
    "    extrinsic = np.append(r, t, axis=1)\n",
    "    iK = np.linalg.inv(mtx.dot(extrinsic))\n",
    "    return iK.dot(uv)"
   ]
  },
  {
   "cell_type": "code",
   "execution_count": null,
   "id": "f15ae11d",
   "metadata": {},
   "outputs": [],
   "source": [
    "def getDimension(v):\n",
    "    '''The idea of this function, is receiving a box, return a the real dimension of the rectangle'''\n",
    "    v = [getCoord(x)[:2] for x in v]\n",
    "    w = np.sqrt((v[1][0]-v[0][0])**2+(v[1][1]-v[0][1])**2)\n",
    "    h = np.sqrt((v[3][0]-v[0][0])**2+(v[3][1]-v[0][1])**2)\n",
    "    if w > 140 or h > 140: # for the border case of having the diagonal\n",
    "        if w > h:\n",
    "            w = np.sqrt((v[1][0]-v[3][0])**2+(v[1][1]-v[3][1])**2)\n",
    "        else:\n",
    "            h = np.sqrt((v[1][0]-v[3][0])**2+(v[1][1]-v[3][1])**2)\n",
    "    if w > h:\n",
    "        return (w, h)\n",
    "    else:\n",
    "        return (h, w)"
   ]
  },
  {
   "cell_type": "code",
   "execution_count": null,
   "id": "4764bf06",
   "metadata": {},
   "outputs": [],
   "source": [
    "realValues = {}\n",
    "for k, v in imgs.items():\n",
    "    realValues[k] = []\n",
    "    arr = False\n",
    "    for center in v[0]:\n",
    "        l = getCoord(center)\n",
    "        if not arr:\n",
    "            arr = [np.array([l[0][0], l[1][0]])]\n",
    "        else:\n",
    "            arr += [np.array([l[0][0], l[1][0]])]\n",
    "    realValues[k].append(arr)\n",
    "    arr = False\n",
    "    for box in v[1]:\n",
    "        b = getDimension(box)\n",
    "        if not arr:\n",
    "            arr = [np.array([b[0][0], b[1][0]])]\n",
    "        else:\n",
    "            arr += [np.array([b[0][0], b[1][0]])]\n",
    "    realValues[k].append(arr)"
   ]
  },
  {
   "cell_type": "code",
   "execution_count": null,
   "id": "da9204c1",
   "metadata": {
    "scrolled": true
   },
   "outputs": [],
   "source": [
    "printResults(realValues)"
   ]
  },
  {
   "cell_type": "markdown",
   "id": "e0502667",
   "metadata": {},
   "source": [
    "## Calculo de errores"
   ]
  },
  {
   "cell_type": "code",
   "execution_count": null,
   "id": "d5a40835",
   "metadata": {},
   "outputs": [],
   "source": [
    "def plotError(imgsInfo, yLimit=30, step = 10):\n",
    "    imgNames = sorted(list(imgsInfo.keys()), key=int)\n",
    "    widthError = [imgsInfo[imgName][1] for imgName in imgNames]\n",
    "    heightError = [imgsInfo[imgName][0] for imgName in imgNames]\n",
    "    \n",
    "    fig, ax = plt.subplots(1,1)\n",
    "    X_axis = np.arange(len(imgNames))\n",
    "    ax.bar(X_axis - 0.2, widthError, 0.4, label = 'Width')\n",
    "    ax.bar(X_axis + 0.2, heightError, 0.4, label = 'Height')\n",
    "    ax.set_xticklabels(imgNames, rotation=90 if len(imgNames) > 3 else 0)\n",
    "    ax.set_xticks(X_axis)\n",
    "    ax.set_yticklabels([i for i in range(0,yLimit,step)])\n",
    "    ax.set_yticks([i for i in range(0,yLimit,step)])\n",
    "    ax.set_xlabel('Image', fontsize = 16)\n",
    "    ax.set_ylabel('Error percentage (%)',fontsize = 16)\n",
    "    ax.legend()\n",
    "    ax.grid()\n",
    "    fig.set_size_inches(16, 8)"
   ]
  },
  {
   "cell_type": "code",
   "execution_count": null,
   "id": "2213fef6",
   "metadata": {},
   "outputs": [],
   "source": [
    "REAL_H = 130\n",
    "REAL_W = 65\n",
    "errors = {}\n",
    "for key, value in realValues.items():\n",
    "    imgNumber = re.findall(r'\\d+', key)[-1]\n",
    "    h = []\n",
    "    w = []\n",
    "    print(f'for image {imgNumber}')\n",
    "    for i in range(len(value[0])):\n",
    "        errorW = (abs(REAL_W - value[1][i][1]) / REAL_W) * 100\n",
    "        errorH = (abs(REAL_H - value[1][i][0]) / REAL_H) * 100\n",
    "        print(f'[{i + 1}]--->\\nerror in h: {errorH}%;\\nerror in w: {errorW}%')\n",
    "        h.append(errorH)\n",
    "        w.append(errorW)\n",
    "    errors[imgNumber] = (np.mean(h), np.mean(w))\n",
    "    print('-'*100)"
   ]
  },
  {
   "cell_type": "code",
   "execution_count": null,
   "id": "539f8ab6",
   "metadata": {},
   "outputs": [],
   "source": [
    "plotError(errors, 10, 1)"
   ]
  },
  {
   "cell_type": "markdown",
   "id": "b7dd21cf",
   "metadata": {},
   "source": [
    "## Demostracion de donde esta el eje\n",
    "\n",
    "A continuacion demonstraremos como ubicar el eje Xw e Yw"
   ]
  },
  {
   "cell_type": "code",
   "execution_count": null,
   "id": "f9ceefa0",
   "metadata": {},
   "outputs": [],
   "source": [
    "axisStarting = getZero()[:2]\n",
    "axisStarting = (int(axisStarting[0][0]), int(axisStarting[1][0]))\n",
    "xBox = (axisStarting, (axisStarting[0] + 100, axisStarting[1]))\n",
    "yBox = (axisStarting, (axisStarting[0], axisStarting[1] + 100))\n",
    "img = cv.imread('./imagenes/img_bloques/imgBloque15.png') #selected randomly\n",
    "print(xBox)\n",
    "cv.line(img, xBox[0], xBox[1], (0, 255, 0), 5)\n",
    "cv.line(img, yBox[0], yBox[1], (0, 255, 0), 5)\n",
    "plotter(img)"
   ]
  },
  {
   "cell_type": "markdown",
   "id": "7f0d573c",
   "metadata": {},
   "source": [
    "# Challenge\n",
    "El primer punto del challenge fue sacado en el punto anterior, con la imagen 20 respectivamente."
   ]
  },
  {
   "cell_type": "code",
   "execution_count": null,
   "id": "c14760ba",
   "metadata": {},
   "outputs": [],
   "source": [
    "imgNames = glob('./imagenes/img_bloques_desafio/imgBloque*')\n",
    "imgs = {}\n",
    "for name in imgNames:\n",
    "    img = cv.imread(name)\n",
    "    print(f'\\nnow checking img {name}')\n",
    "    imgs[name] = processImage(img)"
   ]
  },
  {
   "cell_type": "code",
   "execution_count": null,
   "id": "de2e6fa4",
   "metadata": {},
   "outputs": [],
   "source": [
    "img_fnames = glob('./imagenes/img_bloques_desafio/imgCalExtr.jpg')\n",
    "imgsGray = []\n",
    "imgsColor = []\n",
    "for imgName in img_fnames:\n",
    "    img = cv.imread(imgName)\n",
    "    imgsColor.append(cv.cvtColor(img, cv.COLOR_BGR2RGB))\n",
    "    imgsGray.append(cv.cvtColor(img, cv.COLOR_BGR2GRAY))\n",
    "imgPoints, objPoints = findCorners(imgsColor, imgsGray, True)\n",
    "ret, rvecs, t = cv.solvePnP(objPoints[0], imgPoints[0], mtx, dist, useExtrinsicGuess=False)\n",
    "rotation = cv.Rodrigues(rvecs)[0]\n",
    "print(t)\n",
    "print(rotation)"
   ]
  },
  {
   "cell_type": "code",
   "execution_count": null,
   "id": "ebf7dcb3",
   "metadata": {},
   "outputs": [],
   "source": [
    "realValues = {}\n",
    "for k, v in imgs.items():\n",
    "    realValues[k] = []\n",
    "    arr = False\n",
    "    for center in v[0]:\n",
    "        l = getCoord(center)\n",
    "        if not arr:\n",
    "            arr = [np.array([l[0][0], l[1][0]])]\n",
    "        else:\n",
    "            arr += [np.array([l[0][0], l[1][0]])]\n",
    "    realValues[k].append(arr)\n",
    "    arr = False\n",
    "    for box in v[1]:\n",
    "        b = getDimension(box)\n",
    "        if not arr:\n",
    "            arr = [np.array([b[0][0], b[1][0]])]\n",
    "        else:\n",
    "            arr += [np.array([b[0][0], b[1][0]])]\n",
    "    realValues[k].append(arr)"
   ]
  },
  {
   "cell_type": "code",
   "execution_count": null,
   "id": "8d53a041",
   "metadata": {},
   "outputs": [],
   "source": [
    "printResults(realValues)"
   ]
  },
  {
   "cell_type": "code",
   "execution_count": null,
   "id": "1e45c29c",
   "metadata": {},
   "outputs": [],
   "source": [
    "REAL_H = 130\n",
    "REAL_W = 65\n",
    "errors = {}\n",
    "for key, value in realValues.items():\n",
    "    imgNumber = re.findall(r'\\d+', key)[-1]\n",
    "    h = []\n",
    "    w = []\n",
    "    print(f'for image {imgNumber}')\n",
    "    for i in range(len(value[0])):\n",
    "        errorW = (abs(REAL_W - value[1][i][1]) / REAL_W) * 100\n",
    "        errorH = (abs(REAL_H - value[1][i][0]) / REAL_H) * 100\n",
    "        print(f'[{i + 1}]--->\\nerror in h: {errorH}%;\\nerror in w: {errorW}%')\n",
    "        h.append(errorH)\n",
    "        w.append(errorW)\n",
    "    errors[imgNumber] = (np.mean(h), np.mean(w))\n",
    "    print('-' * 100)\n",
    "plotError(errors, 10, 1)"
   ]
  }
 ],
 "metadata": {
  "kernelspec": {
   "display_name": "Python 3 (ipykernel)",
   "language": "python",
   "name": "python3"
  },
  "language_info": {
   "codemirror_mode": {
    "name": "ipython",
    "version": 3
   },
   "file_extension": ".py",
   "mimetype": "text/x-python",
   "name": "python",
   "nbconvert_exporter": "python",
   "pygments_lexer": "ipython3",
   "version": "3.9.7"
  }
 },
 "nbformat": 4,
 "nbformat_minor": 5
}
