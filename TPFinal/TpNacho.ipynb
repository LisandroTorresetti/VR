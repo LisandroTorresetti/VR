{
 "cells": [
  {
   "cell_type": "markdown",
   "id": "850eab87",
   "metadata": {},
   "source": [
    "Here I will calibrate the parameters given by the pictures provided"
   ]
  },
  {
   "cell_type": "code",
   "execution_count": null,
   "id": "162f8f08",
   "metadata": {},
   "outputs": [],
   "source": [
    "import cv2 as cv\n",
    "import numpy as np\n",
    "import matplotlib.pyplot as plt\n",
    "from glob import glob\n",
    "import PIL.ExifTags\n",
    "import PIL.Image\n",
    "import pprint\n",
    "%matplotlib inline"
   ]
  },
  {
   "cell_type": "code",
   "execution_count": null,
   "id": "cc6a9c1b",
   "metadata": {},
   "outputs": [],
   "source": [
    "def plotter(image, title = '', imgSize = (18,9), grayScale = False, step = 100): #Funcion auxiliar para realizar los graficos\n",
    "    plt.figure(figsize=imgSize)\n",
    "    plt.title(title, fontsize = 16, fontweight = \"bold\")\n",
    "    plt.imshow(image) if not grayScale else plt.imshow(image, cmap='gray', vmin=0, vmax=255)\n",
    "    plt.yticks(np.arange(0, len(image), step))\n",
    "    plt.xticks(np.arange(0, len(image[0]), step), rotation=90)\n",
    "    plt.show() "
   ]
  },
  {
   "cell_type": "markdown",
   "id": "2fdc2252",
   "metadata": {},
   "source": [
    "Ahora definimos el tamaño del tablero (la cantidad de puntos es igual a la cantidad de puntos en los que un cuadrado negro toca a uno blanco), y la lista de puntos a reconocer, tomando como origen (0, 0, 0) la esquina que se encuentra en las coordenadas (100, 100)."
   ]
  },
  {
   "cell_type": "code",
   "execution_count": null,
   "id": "e1008dba",
   "metadata": {},
   "outputs": [],
   "source": [
    "chessBoardSize  = (8, 6)\n",
    "objp = np.zeros((np.prod(chessBoardSize), 3),  dtype=np.float32)\n",
    "objp[:, :2] = np.mgrid[0:chessBoardSize[0], 0:chessBoardSize[1]].T.reshape(-1, 2)\n",
    "objp = objp * 28"
   ]
  },
  {
   "cell_type": "markdown",
   "id": "b0cc3776",
   "metadata": {},
   "source": [
    "Cargamos imagenes y dibujamos"
   ]
  },
  {
   "cell_type": "code",
   "execution_count": null,
   "id": "e0f6144e",
   "metadata": {},
   "outputs": [],
   "source": [
    "img_fnames = glob('./imagenes/img_cal_set1/*')\n",
    "imgsGray = []\n",
    "imgsColor = []\n",
    "for imgName in img_fnames:\n",
    "    img = cv.imread(imgName)\n",
    "    imgsColor.append(cv.cvtColor(img, cv.COLOR_BGR2RGB))\n",
    "    imgsGray.append(cv.cvtColor(img, cv.COLOR_BGR2GRAY))\n"
   ]
  },
  {
   "cell_type": "code",
   "execution_count": null,
   "id": "c0897ef0",
   "metadata": {},
   "outputs": [],
   "source": [
    "def findCorners(imgsColor, imgsGray, plot=True, maxCount = 30, epsilon = 0.001, flag=cv.CALIB_CB_ADAPTIVE_THRESH):\n",
    "    imgPoints = []\n",
    "    objPoints = []\n",
    "    criteria = (cv.TERM_CRITERIA_EPS | cv.TERM_CRITERIA_MAX_ITER, maxCount, epsilon)\n",
    "    cb_flags = flag \n",
    "    for imgColor, imgGray in zip(imgsColor, imgsGray):\n",
    "        imgColor = imgColor.copy()\n",
    "        ret, corners = cv.findChessboardCorners(imgGray, chessBoardSize, flags=cb_flags)\n",
    "        if ret:\n",
    "            objPoints.append(objp)\n",
    "            corners_subp = cv.cornerSubPix(imgGray, corners, (5, 5), (-1, -1), criteria)\n",
    "            imgPoints.append(corners_subp)\n",
    "            cv.drawChessboardCorners(imgColor, chessBoardSize, corners_subp, ret)\n",
    "            if plot:\n",
    "                plotter(imgColor)\n",
    "    return imgPoints, objPoints\n",
    "\n",
    "def calibrateCamera(objPoints, imgPoints, widthAndHeight, returnMatrix=False):\n",
    "    ret, mtx, dist, rvecs, tvecs = cv.calibrateCamera(objPoints, imgPoints, widthAndHeight, None, None, flags = cv.CALIB_ZERO_TANGENT_DIST)\n",
    "    print('Camera Matrix: \\n{}'.format(mtx))\n",
    "    print('\\nDistortion Coefficients: \\n{}\\n'.format(dist))\n",
    "    if returnMatrix:\n",
    "        return mtx, dist\n",
    "\n",
    "def getIntrinsecParams(imgsColor, imgsGray):\n",
    "    imgPoints, objPoints = findCorners(imgsColor, imgsGray, False)\n",
    "    height, width = imgsGray[0].shape\n",
    "    return calibrateCamera(objPoints, imgPoints, (width,height), returnMatrix=True)"
   ]
  },
  {
   "cell_type": "code",
   "execution_count": null,
   "id": "37b65dfe",
   "metadata": {},
   "outputs": [],
   "source": [
    "mtx, dist = getIntrinsecParams(imgsColor, imgsGray)\n",
    "mtx1, dist1 = mtx, dist"
   ]
  },
  {
   "cell_type": "code",
   "execution_count": null,
   "id": "02cfcb49",
   "metadata": {},
   "outputs": [],
   "source": [
    "#Set 2\n",
    "objp = np.zeros((np.prod(chessBoardSize), 3),  dtype=np.float32)\n",
    "objp[:, :2] = np.mgrid[0:chessBoardSize[0], 0:chessBoardSize[1]].T.reshape(-1, 2)\n",
    "objp = objp * 28\n",
    "img_fnames = glob('./imagenes/img_cal_set2/*')\n",
    "imgsGray = []\n",
    "imgsColor = []\n",
    "for imgName in img_fnames:\n",
    "    img = cv.imread(imgName)\n",
    "    imgsColor.append(cv.cvtColor(img, cv.COLOR_BGR2RGB))\n",
    "    imgsGray.append(cv.cvtColor(img, cv.COLOR_BGR2GRAY))\n",
    "mtx, dist = getIntrinsecParams(imgsColor, imgsGray)"
   ]
  },
  {
   "cell_type": "markdown",
   "id": "8afa6b39",
   "metadata": {},
   "source": [
    "Se ve que se tiene que usar el set 1 en vez del set dos porque el fx y el fy del set 1 son mas similares entre si, lo que implica que es mejor. Fuente: Arial 12"
   ]
  },
  {
   "cell_type": "code",
   "execution_count": null,
   "id": "6c37149c",
   "metadata": {},
   "outputs": [],
   "source": [
    "#Levantamos la imagen para calibracion de parametros extrinsecos\n",
    "objp = np.zeros((np.prod(chessBoardSize), 3),  dtype=np.float32)\n",
    "objp[:, :2] = np.mgrid[0:chessBoardSize[0], 0:chessBoardSize[1]].T.reshape(-1, 2)\n",
    "objp = objp * 28\n",
    "img_fnames = glob('./imagenes/img_bloques/imgCalExtr.png')\n",
    "imgsGray = []\n",
    "imgsColor = []\n",
    "for imgName in img_fnames:\n",
    "    img = cv.imread(imgName)\n",
    "    imgsColor.append(cv.cvtColor(img, cv.COLOR_BGR2RGB))\n",
    "    imgsGray.append(cv.cvtColor(img, cv.COLOR_BGR2GRAY))\n",
    "imgPoints, objPoints = findCorners(imgsColor, imgsGray, False)\n",
    "mtx, dist = mtx1, dist1"
   ]
  },
  {
   "cell_type": "code",
   "execution_count": null,
   "id": "b66c474c",
   "metadata": {},
   "outputs": [],
   "source": [
    "ret, rvecs, t = cv.solvePnP(objPoints[0], imgPoints[0], mtx, dist, useExtrinsicGuess=False)\n",
    "rotation = cv.Rodrigues(rvecs)[0]\n",
    "print(t)\n",
    "print(rotation)"
   ]
  },
  {
   "cell_type": "code",
   "execution_count": null,
   "id": "fb4684d7",
   "metadata": {},
   "outputs": [],
   "source": [
    "# lo que hizo el chabon\n",
    "def squareDif(p1, p2):\n",
    "    return np.sqrt((p1[0]-p2[0]) ** 2 + (p1[1]-p2[1]) ** 2)\n",
    "def processImage(img, i):\n",
    "    areas = []\n",
    "    centers = []\n",
    "    dims = []\n",
    "    rots = []\n",
    "    img = cv.medianBlur(img, 5)\n",
    "    imgGray = cv.cvtColor(img, cv.COLOR_BGR2GRAY)\n",
    "    ret, img_bin = cv.threshold(imgGray, 30, 255, cv.THRESH_BINARY+cv.THRESH_OTSU)\n",
    "    \n",
    "    kernel = np.ones((2,2), np.uint8)\n",
    "    opening = cv.morphologyEx(img_bin, cv.MORPH_OPEN, kernel)\n",
    "    \n",
    "    kernel = np.ones((2,2), np.uint8)\n",
    "    ending = cv.morphologyEx(opening, cv.MORPH_CLOSE, kernel)\n",
    "    \n",
    "    contours, hierarchy = cv.findContours(ending, cv.RETR_TREE, cv.CHAIN_APPROX_TC89_L1)\n",
    "    \n",
    "    for cnt in contours:\n",
    "        rect = cv.minAreaRect(cnt)\n",
    "        center = rect[0]\n",
    "        dim = rect[1]\n",
    "        rot = rect[2]\n",
    "        area = cv.contourArea(cnt)\n",
    "        if (dim[0] * dim[1] != 0) and (area / (dim[0] * dim[1]) > 0.95) and area > 7000:\n",
    "            box = cv.boxPoints(rect)\n",
    "            po1 = box[0]\n",
    "            po2 = box[1]\n",
    "            po3 = box[3]\n",
    "            if (squareDif(po3, po1) < squareDif(po2, po1)):\n",
    "                rot = rot -90\n",
    "            rot = abs(rot)\n",
    "            print(\"encontre bloque\")\n",
    "            cv.circle(img, (int(center[0]), int(center[1])), 10, (0,0,255), 2)\n",
    "            box = np.int0(box)\n",
    "            cv.drawContours(img, [box], 0, (0,0,255), 2)\n",
    "            plt.figure(i)\n",
    "            plt.imshow(img)\n",
    "            plt.show()\n",
    "            print(f\"area for image: {area}, rot: {rot}, dim: {dim}, center at: {center}\")\n",
    "            areas.append(area)\n",
    "            centers.append(center)\n",
    "            dims.append(dim)\n",
    "            rots.append(rot)\n",
    "    return areas, centers, dims, rots, box\n",
    "        \n",
    "            "
   ]
  },
  {
   "cell_type": "code",
   "execution_count": null,
   "id": "b82fcfba",
   "metadata": {},
   "outputs": [],
   "source": [
    "imgNames = glob('./imagenes/img_bloques/imgBloque*')\n",
    "imgs = {}\n",
    "for i in range(len(imgNames)):\n",
    "    img = cv.imread(imgNames[i])\n",
    "    imgs[i] = processImage(img, i)"
   ]
  },
  {
   "cell_type": "code",
   "execution_count": null,
   "id": "ef14e29b",
   "metadata": {},
   "outputs": [],
   "source": [
    "#Flasheada mia\n",
    "#pruebo con solo una imagen\n",
    "img = cv.imread(imgNames[0])\n",
    "img = cv.cvtColor(img, cv.COLOR_BGR2RGB)\n",
    "imgGray = cv.imread(imgNames[0], 0)\n",
    "def createMask(img, samples, lowerMultiplier = 15, upperMultiplier = 6):\n",
    "    meanColors = 0\n",
    "    stdColors = 0\n",
    "    for point1, point2, blockWidth in samples:\n",
    "        colorMean, colorStd = cv.meanStdDev(img[point1[1]:point1[1] + blockWidth,point1[0]:point2[0], :])\n",
    "        meanColors += colorMean\n",
    "        stdColors += colorStd\n",
    "    meanColors /= len(samples)\n",
    "    stdColors /= len(samples)\n",
    "    return cv.inRange(img, meanColors - stdColors * lowerMultiplier,  meanColors + stdColors * upperMultiplier)"
   ]
  },
  {
   "cell_type": "code",
   "execution_count": null,
   "id": "57e67176",
   "metadata": {},
   "outputs": [],
   "source": [
    "plotter(img, step=10)"
   ]
  },
  {
   "cell_type": "code",
   "execution_count": null,
   "id": "a173dc1e",
   "metadata": {},
   "outputs": [],
   "source": [
    "imgPrueba = img.copy()\n",
    "block = ((370,270), (420, 270), 50)\n",
    "cv.line(imgPrueba, block[0], block[1], (255,0,0), 5)\n",
    "\n",
    "plotter(imgPrueba, step = 100)"
   ]
  },
  {
   "cell_type": "code",
   "execution_count": null,
   "id": "92d437c7",
   "metadata": {},
   "outputs": [],
   "source": [
    "mask = createMask(img, [block], 3)\n",
    "imgWithMask = cv.bitwise_and(img, img, mask=mask)\n",
    "plotter(imgWithMask)\n",
    "imgWithMaskGray = cv.cvtColor(imgWithMask, cv.COLOR_RGB2GRAY)\n",
    "imgWithMaskGray = cv.medianBlur(imgWithMaskGray, 5)\n",
    "plotter(imgWithMaskGray,grayScale=True)\n",
    "imgGray = cv.medianBlur(imgGray, 5)\n",
    "plotter(imgGray, grayScale=True)"
   ]
  },
  {
   "cell_type": "code",
   "execution_count": null,
   "id": "f94db6a0",
   "metadata": {},
   "outputs": [],
   "source": [
    "IMGS = [imgGray, imgWithMaskGray] #Estas son las imagenes que vamos a analizar\n",
    "NAMES = ['Original', 'With Mask']\n",
    "def otsuBinarization(imgs, thresh = 127):\n",
    "    result = []\n",
    "    for imgNum, img in enumerate(imgs):\n",
    "        ret, imgBin = cv.threshold(img,thresh,255,cv.THRESH_BINARY+cv.THRESH_OTSU)\n",
    "        plotter(imgBin,NAMES[imgNum], grayScale=True)\n",
    "        result.append(imgBin)\n",
    "    return result"
   ]
  },
  {
   "cell_type": "code",
   "execution_count": null,
   "id": "8680f0a0",
   "metadata": {},
   "outputs": [],
   "source": [
    "imgBin, imgMaskBin = otsuBinarization([imgGray, imgWithMaskGray])"
   ]
  },
  {
   "cell_type": "code",
   "execution_count": null,
   "id": "5a891ef0",
   "metadata": {},
   "outputs": [],
   "source": [
    "# TESTING\n",
    "testing = imgMaskBin.copy()\n",
    "#kernelErode = np.ones((10,1), np.uint8)\n",
    "#testing = cv.erode(testing, kernelErode, iterations = 5)\n",
    "kernelDilate = np.ones((5,5), np.uint8)\n",
    "testing = cv.erode(testing, kernelDilate, iterations=2)\n",
    "plotter(testing, 'Dilate Modified', grayScale=True)\n",
    "plotter(imgMaskBin)\n",
    "imgDilated = imgGray.copy()#cv.erode(imgMaskBin.copy(), kernelDilate, iterations=2)\n",
    "contours, hier = cv.findContours(imgDilated, cv.RETR_TREE, cv.CHAIN_APPROX_SIMPLE)\n",
    "realContours = []\n",
    "out = img.copy()\n",
    "for cnt in contours:\n",
    "        rect = cv.minAreaRect(cnt)\n",
    "        center = rect[0]\n",
    "        dim = rect[1]\n",
    "        rot = rect[2]\n",
    "        area = cv.contourArea(cnt)\n",
    "        if (dim[0] * dim[1] != 0) and (area / (dim[0] * dim[1]) > 0.95) and area > 7000:\n",
    "            box = cv.boxPoints(rect)\n",
    "            po1 = box[0]\n",
    "            po2 = box[1]\n",
    "            po3 = box[3]\n",
    "            if (squareDif(po3, po1) < squareDif(po2, po1)):\n",
    "                rot = rot -90\n",
    "            rot = abs(rot)\n",
    "            print(\"encontre bloque\")\n",
    "            cv.circle(img, (int(center[0]), int(center[1])), 10, (0,0,255), 2)\n",
    "            box = np.int0(box)\n",
    "            cv.drawContours(img, [box], 0, (0,0,255), 2)\n",
    "            plt.figure(i)\n",
    "            plt.imshow(img)\n",
    "            plt.show()\n",
    "            print(f\"area for image: {area}, rot: {rot}, dim: {dim}, center at: {center}\")\n",
    "            realContours.append(cnt)\n",
    "        \n",
    "plotter(out)"
   ]
  },
  {
   "cell_type": "code",
   "execution_count": null,
   "id": "e903bd67",
   "metadata": {},
   "outputs": [],
   "source": [
    "def getAspectRatio(contour):\n",
    "    x,y,width,height = cv.boundingRect(contour)\n",
    "    return np.round(float(width) / height, 2)\n",
    "\n",
    "def getCentroid(moment, area):\n",
    "    try:\n",
    "        return (int(moment['m10'] / area), int(moment['m01'] / area))\n",
    "    except:\n",
    "        return 0\n",
    "\n",
    "def getOrientation(contour):\n",
    "    (x, y), (MA, mA), angle = cv.fitEllipse(contour)\n",
    "    return (int(x), int(y)), (int(MA), int(mA)), np.round(angle)"
   ]
  },
  {
   "cell_type": "code",
   "execution_count": null,
   "id": "88685a66",
   "metadata": {},
   "outputs": [],
   "source": [
    "# Para mas info https://en.wikipedia.org/wiki/Image_moment\n",
    "AREA = 0 #Para saber en que posicion del array que guarda el diccionario se encuentra la info deseada\n",
    "PERIMETER = 1\n",
    "CENTER = 2\n",
    "ASPECT_RELATION = 3\n",
    "ORIENTATION = 4\n",
    "CONTOUR = 5\n",
    "\n",
    "def getContoursInfo(contours):\n",
    "    contoursArea = []\n",
    "    contoursPerimeter = []\n",
    "    contoursCenter = []\n",
    "\n",
    "    for ctr in contours:\n",
    "        moment = cv.moments(ctr)\n",
    "        area = int(moment['m00'])\n",
    "        contoursArea.append(area)\n",
    "        contoursPerimeter.append(int(cv.arcLength(ctr,True)))\n",
    "        contoursCenter.append(getCentroid(moment, area))\n",
    "\n",
    "    contoursAreaMean = np.mean(contoursArea)\n",
    "\n",
    "    contoursInfo = {}  \n",
    "    contourNum = 1\n",
    "    for area, perimeter, center, contour in  zip(contoursArea, contoursPerimeter, contoursCenter, contours):\n",
    "        if area >= contoursAreaMean:\n",
    "            contoursInfo[contourNum] = [area, perimeter, center, getAspectRatio(contour),\n",
    "                                        getOrientation(contour), contour]\n",
    "            contourNum += 1\n",
    "            \n",
    "    return contoursInfo"
   ]
  },
  {
   "cell_type": "code",
   "execution_count": null,
   "id": "3d38df4f",
   "metadata": {},
   "outputs": [],
   "source": [
    "contoursInfo = getContoursInfo(realContours)\n",
    "\n",
    "def printResults(contoursInfo):\n",
    "    print('RESULTS')\n",
    "    for key, value in contoursInfo.items():\n",
    "        print('''\n",
    "                Block Num: {}\n",
    "\n",
    "                    Area: {}\n",
    "                    Perimeter: {}\n",
    "                    Centroid: {}\n",
    "                    Aspect Relation: {}\n",
    "                    Orientation: {}\n",
    "                '''.format(key, value[AREA], value[PERIMETER], value[CENTER], value[ASPECT_RELATION],\n",
    "                          value[ORIENTATION][2]))\n",
    "    "
   ]
  },
  {
   "cell_type": "code",
   "execution_count": null,
   "id": "bae192d2",
   "metadata": {},
   "outputs": [],
   "source": [
    "plotter(img)"
   ]
  },
  {
   "cell_type": "code",
   "execution_count": null,
   "id": "ee3015f7",
   "metadata": {},
   "outputs": [],
   "source": [
    "printResults(contoursInfo)\n",
    "centers = [x[CENTER] for x in contoursInfo.values()]"
   ]
  },
  {
   "cell_type": "code",
   "execution_count": null,
   "id": "3a2b84ca",
   "metadata": {},
   "outputs": [],
   "source": [
    "mtx, dist, rotation, t"
   ]
  },
  {
   "cell_type": "code",
   "execution_count": null,
   "id": "44e22aa7",
   "metadata": {},
   "outputs": [],
   "source": [
    "type(mtx)\n",
    "c = np.append(np.asarray(centers[0]), 1)\n",
    "c"
   ]
  },
  {
   "cell_type": "code",
   "execution_count": null,
   "id": "0744b375",
   "metadata": {},
   "outputs": [],
   "source": [
    "INDEP = np.asarray([[1, 0,0,0], [0,1,0,0], [0,0,1,0]])\n"
   ]
  },
  {
   "cell_type": "code",
   "execution_count": null,
   "id": "59858a3c",
   "metadata": {},
   "outputs": [],
   "source": [
    "a = []\n",
    "for i in range(len(rotation)):\n",
    "    a.append(np.append(rotation[i], t[i]))\n",
    "a.append([0,0,0,1])\n",
    "RT = np.asarray(a)"
   ]
  },
  {
   "cell_type": "code",
   "execution_count": null,
   "id": "64ae590d",
   "metadata": {},
   "outputs": [],
   "source": [
    "RT"
   ]
  },
  {
   "cell_type": "code",
   "execution_count": null,
   "id": "fb3900a3",
   "metadata": {},
   "outputs": [],
   "source": [
    "def getCoord(center):\n",
    "    # s * [uv1] = K * [R|T] *XwYwZw = k * (R XwYwZw + t)\n",
    "    # ==> R^-1 * (K^-1 * [uv1] - t) = XwYwZw\n",
    "    # K intrinsic params\n",
    "    # R rotation\n",
    "    # t translation\n",
    "    # como s = R*XwYwZw[2] + t[2] para todo Zw, entonces => s =t[2]\n",
    "    uv = np.array([[center[0],center[1],1]], dtype=np.float).T\n",
    "    iK = np.linalg.inv(mtx)\n",
    "    iR = np.linalg.inv(rotation)\n",
    "    s = t[2]\n",
    "    first = (s * iK.dot(uv) - t)\n",
    "    return iR.dot(first)"
   ]
  },
  {
   "cell_type": "code",
   "execution_count": null,
   "id": "297fb4b9",
   "metadata": {},
   "outputs": [],
   "source": [
    "imgs"
   ]
  },
  {
   "cell_type": "code",
   "execution_count": null,
   "id": "f15ae11d",
   "metadata": {},
   "outputs": [],
   "source": [
    "def lichaPuto(v):\n",
    "    v = [getCoord(x)[:2] for x in v]\n",
    "    w = np.sqrt((v[1][0]-v[0][0])**2+(v[1][1]-v[0][1])**2)\n",
    "    h = np.sqrt((v[3][0]-v[0][0])**2+(v[3][1]-v[0][1])**2)\n",
    "    if w > h:\n",
    "        w = np.sqrt((v[1][0]-v[3][0])**2+(v[1][1]-v[3][1])**2)\n",
    "    else:\n",
    "        h = np.sqrt((v[1][0]-v[3][0])**2+(v[1][1]-v[3][1])**2)\n",
    "    if w > h:\n",
    "        return (w, h)\n",
    "    else:\n",
    "        return (h, w)"
   ]
  },
  {
   "cell_type": "code",
   "execution_count": null,
   "id": "4764bf06",
   "metadata": {},
   "outputs": [],
   "source": [
    "for v in imgs.values():\n",
    "    l = lichaPuto(v[-1])\n",
    "    print(f\"area es: {l[0] * l[1]}, dimension: {l}\")"
   ]
  }
 ],
 "metadata": {
  "kernelspec": {
   "display_name": "Python 3 (ipykernel)",
   "language": "python",
   "name": "python3"
  },
  "language_info": {
   "codemirror_mode": {
    "name": "ipython",
    "version": 3
   },
   "file_extension": ".py",
   "mimetype": "text/x-python",
   "name": "python",
   "nbconvert_exporter": "python",
   "pygments_lexer": "ipython3",
   "version": "3.9.7"
  }
 },
 "nbformat": 4,
 "nbformat_minor": 5
}
